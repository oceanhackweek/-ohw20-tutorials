{
 "cells": [
  {
   "cell_type": "code",
   "execution_count": null,
   "metadata": {
    "slideshow": {
     "slide_type": "skip"
    }
   },
   "outputs": [],
   "source": [
    "%matplotlib inline\n",
    "from matplotlib.pyplot import style\n",
    "\n",
    "\n",
    "style.use(\"seaborn-notebook\")"
   ]
  },
  {
   "cell_type": "markdown",
   "metadata": {
    "slideshow": {
     "slide_type": "slide"
    }
   },
   "source": [
    "# Accessing IOOS CO-OPS.NOS data via ERDDAP\n",
    "\n",
    "<https://tidesandcurrents.noaa.gov/about.html>\n"
   ]
  },
  {
   "cell_type": "code",
   "execution_count": null,
   "metadata": {
    "slideshow": {
     "slide_type": "slide"
    }
   },
   "outputs": [],
   "source": [
    "from erddapy import ERDDAP\n",
    "\n",
    "server = \"https://opendap.co-ops.nos.noaa.gov/erddap\"\n",
    "e = ERDDAP(server=server, protocol=\"tabledap\")"
   ]
  },
  {
   "cell_type": "code",
   "execution_count": null,
   "metadata": {
    "slideshow": {
     "slide_type": "fragment"
    }
   },
   "outputs": [],
   "source": [
    "dataset_id = \"IOOS_Hourly_Height_Verified_Water_Level\"\n",
    "\n",
    "e.dataset_id = dataset_id"
   ]
  },
  {
   "cell_type": "markdown",
   "metadata": {
    "slideshow": {
     "slide_type": "fragment"
    }
   },
   "source": [
    "The `dataset_id` can be found by searching the server with the `get_search_url`\n",
    "or with the browser.\n"
   ]
  },
  {
   "cell_type": "markdown",
   "metadata": {
    "slideshow": {
     "slide_type": "slide"
    }
   },
   "source": [
    "We can check what is in the dataset with ERDDAP's `info` URL.\n"
   ]
  },
  {
   "cell_type": "code",
   "execution_count": null,
   "metadata": {
    "slideshow": {
     "slide_type": "fragment"
    }
   },
   "outputs": [],
   "source": [
    "import pandas as pd\n",
    "\n",
    "info_url = e.get_info_url(dataset_id=dataset_id, response=\"csv\")\n",
    "\n",
    "info = pd.read_csv(info_url)\n",
    "info.head()"
   ]
  },
  {
   "cell_type": "markdown",
   "metadata": {
    "slideshow": {
     "slide_type": "slide"
    }
   },
   "source": [
    "The variables are:\n"
   ]
  },
  {
   "cell_type": "code",
   "execution_count": null,
   "metadata": {
    "slideshow": {
     "slide_type": "fragment"
    }
   },
   "outputs": [],
   "source": [
    "set(info[\"Variable Name\"])"
   ]
  },
  {
   "cell_type": "markdown",
   "metadata": {
    "slideshow": {
     "slide_type": "slide"
    }
   },
   "source": [
    "This server have some `REQUIRED` variables for each request to get a valid URL,\n"
   ]
  },
  {
   "cell_type": "code",
   "execution_count": null,
   "metadata": {
    "slideshow": {
     "slide_type": "fragment"
    }
   },
   "outputs": [],
   "source": [
    "info.loc[info[\"Value\"].astype(str).str.startswith(\"REQUIRED\")]"
   ]
  },
  {
   "cell_type": "markdown",
   "metadata": {
    "slideshow": {
     "slide_type": "slide"
    }
   },
   "source": [
    "and the time has its own special format.\n"
   ]
  },
  {
   "cell_type": "code",
   "execution_count": null,
   "metadata": {
    "slideshow": {
     "slide_type": "fragment"
    }
   },
   "outputs": [],
   "source": [
    "pd.set_option(\"max_colwidth\", 100)\n",
    "\n",
    "info.loc[info[\"Variable Name\"] == \"END_DATE\"][\"Value\"].iloc[-1]"
   ]
  },
  {
   "cell_type": "markdown",
   "metadata": {
    "slideshow": {
     "slide_type": "fragment"
    }
   },
   "source": [
    "[With most ERDDAP servers](https://ioos.github.io/erddapy/) we can pass the time\n",
    "constraint as any valid time string or a python object, this dataset uses\n",
    "`yyyymmdd` for some reason :-/\n",
    "\n",
    "Also, because this server has some **required** variables, and the time\n",
    "constraints does not work here, we must pass the actual variable values as\n",
    "constraints.\n"
   ]
  },
  {
   "cell_type": "code",
   "execution_count": null,
   "metadata": {
    "slideshow": {
     "slide_type": "slide"
    }
   },
   "outputs": [],
   "source": [
    "e.constraints = {\n",
    "    \"BEGIN_DATE=\": \"20140801\",\n",
    "    \"END_DATE=\": \"20140901\",\n",
    "    \"DATUM=\": \"MLLW\",\n",
    "    \"STATION_ID=\": \"8570283\",\n",
    "}\n",
    "\n",
    "url = e.get_download_url()\n",
    "\n",
    "print(url)"
   ]
  },
  {
   "cell_type": "markdown",
   "metadata": {
    "slideshow": {
     "slide_type": "slide"
    }
   },
   "source": [
    "We can request the data from that URL as netCDF, CSV, JSON, etc. B/c it is a\n",
    "time-series let's request a `csv` and put it in a pandas `DataFrame` via the\n",
    "`to_pandas` method.\n"
   ]
  },
  {
   "cell_type": "code",
   "execution_count": null,
   "metadata": {
    "slideshow": {
     "slide_type": "fragment"
    }
   },
   "outputs": [],
   "source": [
    "df = e.to_pandas(\n",
    "    index_col=\"time (UTC)\",\n",
    "    parse_dates=True,\n",
    ").dropna()\n",
    "\n",
    "# Make it a naive time zone for plotting.\n",
    "df.index = df.index.tz_localize(None)\n",
    "\n",
    "df.head()"
   ]
  },
  {
   "cell_type": "code",
   "execution_count": null,
   "metadata": {
    "slideshow": {
     "slide_type": "slide"
    }
   },
   "outputs": [],
   "source": [
    "df[\"WL_VALUE (meters)\"].plot(figsize=(15, 3.75))"
   ]
  },
  {
   "cell_type": "markdown",
   "metadata": {
    "slideshow": {
     "slide_type": "slide"
    }
   },
   "source": [
    "Exercise:\n",
    "\n",
    "- Change the constraints below and create a similar plot. Start with the dates.\n",
    "- Try to find another stations (STATION_ID) by browsing the\n",
    "  [dataset online](https://opendap.co-ops.nos.noaa.gov/erddap). Was that easy?\n"
   ]
  },
  {
   "cell_type": "markdown",
   "metadata": {
    "slideshow": {
     "slide_type": "fragment"
    }
   },
   "source": [
    "```python\n",
    "e.constraints = {\n",
    "    \"BEGIN_DATE=\": \"20140801\",\n",
    "    \"END_DATE=\": \"20140901\",\n",
    "    \"DATUM=\": \"MLLW\",\n",
    "    \"STATION_ID=\": \"8570283\",\n",
    "}\n",
    "\n",
    "url = e.get_download_url()\n",
    "\n",
    "```\n"
   ]
  }
 ],
 "metadata": {
  "_draft": {
   "nbviewer_url": "https://gist.github.com/87c15adf417630214fb6f764e0f3f769"
  },
  "celltoolbar": "Slideshow",
  "gist": {
   "data": {
    "description": "co-ops.nos.noaa-example",
    "public": true
   },
   "id": "87c15adf417630214fb6f764e0f3f769"
  },
  "kernelspec": {
   "display_name": "Python 3 (ipykernel)",
   "language": "python",
   "name": "python3"
  },
  "language_info": {
   "codemirror_mode": {
    "name": "ipython",
    "version": 3
   },
   "file_extension": ".py",
   "mimetype": "text/x-python",
   "name": "python",
   "nbconvert_exporter": "python",
   "pygments_lexer": "ipython3",
   "version": "3.9.6"
  }
 },
 "nbformat": 4,
 "nbformat_minor": 2
}
