{
 "cells": [
  {
   "cell_type": "code",
   "execution_count": null,
   "id": "bcc0997c-5a02-44cf-935c-ccad36e059d7",
   "metadata": {},
   "outputs": [],
   "source": [
    "import pandas as pd\n",
    "import requests\n",
    "import io\n",
    "\n",
    "\n",
    "def urlopen(url):\n",
    "    try:\n",
    "        response = requests.get(url, allow_redirects=True)\n",
    "    except requests.exceptions.ConnectionError:\n",
    "        return None\n",
    "    try:\n",
    "        response.raise_for_status()\n",
    "    except requests.exceptions.HTTPError:\n",
    "        return None\n",
    "    data = io.BytesIO(response.content)\n",
    "    data.seek(0)\n",
    "    return data\n",
    "\n",
    "\n",
    "def parse_results(url, key, protocol=\"tabledap\"):\n",
    "    data = urlopen(url)\n",
    "    if data is None:\n",
    "        return None\n",
    "    df = pd.read_csv(data)\n",
    "    try:\n",
    "        df.dropna(subset=[protocol], inplace=True)\n",
    "    except KeyError:\n",
    "        return None\n",
    "    return {key: df[[\"Title\", \"Institution\", \"Dataset ID\"]]}"
   ]
  },
  {
   "cell_type": "code",
   "execution_count": null,
   "id": "5095292e-f57f-41fa-91d2-f9de821bd257",
   "metadata": {},
   "outputs": [],
   "source": [
    "from erddapy import servers\n",
    "\n",
    "query = \"glider\"\n",
    "\n",
    "urls = {\n",
    "    key: f'{server.url}search/index.csv?page=1&itemsPerPage=100000&searchFor=\"{query}\"'\n",
    "    for key, server in servers.items()\n",
    "}"
   ]
  },
  {
   "cell_type": "code",
   "execution_count": null,
   "id": "b3152fb1-0d47-456d-a110-29d7d10e676b",
   "metadata": {},
   "outputs": [],
   "source": [
    "from joblib import Parallel, delayed\n",
    "import multiprocessing\n",
    "\n",
    "\n",
    "num_cores = multiprocessing.cpu_count()"
   ]
  },
  {
   "cell_type": "code",
   "execution_count": null,
   "id": "3af0c8b3-3535-44a2-bb43-01be9f4da061",
   "metadata": {},
   "outputs": [],
   "source": [
    "returns = Parallel(n_jobs=num_cores)(\n",
    "    delayed(parse_results)(url, key, protocol=\"tabledap\")\n",
    "    for key, url in urls.items()\n",
    ")"
   ]
  },
  {
   "cell_type": "code",
   "execution_count": null,
   "id": "95e6da02-af91-421d-89b8-11550e55fa2e",
   "metadata": {},
   "outputs": [],
   "source": [
    "dfs = [x for x in returns if x is not None]"
   ]
  },
  {
   "cell_type": "code",
   "execution_count": null,
   "id": "2b54d76c-e8dc-4355-97a7-d22eeaf2bc2f",
   "metadata": {},
   "outputs": [],
   "source": [
    "[list(df.keys())[0] for df in dfs]"
   ]
  },
  {
   "cell_type": "code",
   "execution_count": null,
   "id": "1e9d9101-ac3c-4e79-93f4-838725c12324",
   "metadata": {},
   "outputs": [],
   "source": [
    "pd.concat([list(dfs[0].values())[0] for df in dfs])"
   ]
  }
 ],
 "metadata": {
  "kernelspec": {
   "display_name": "Python 3 (ipykernel)",
   "language": "python",
   "name": "python3"
  },
  "language_info": {
   "codemirror_mode": {
    "name": "ipython",
    "version": 3
   },
   "file_extension": ".py",
   "mimetype": "text/x-python",
   "name": "python",
   "nbconvert_exporter": "python",
   "pygments_lexer": "ipython3",
   "version": "3.9.6"
  }
 },
 "nbformat": 4,
 "nbformat_minor": 5
}
