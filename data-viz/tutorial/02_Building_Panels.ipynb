{
 "cells": [
  {
   "cell_type": "markdown",
   "metadata": {},
   "source": [
    "<style>div.container { width: 100% }</style>\n",
    "<img style=\"float:left;  vertical-align:text-bottom;\" height=\"65\" width=\"172\" src=\"../assets/holoviz-logo-unstacked.svg\" />\n",
    "<div style=\"float:right; vertical-align:text-bottom;\"><h2>Tutorial 2: Building Panels</h2></div>"
   ]
  },
  {
   "cell_type": "markdown",
   "metadata": {},
   "source": [
    "<a href=\"https://panel.pyviz.org\"><img src=\"../assets/panel.png\" width=150></a>\n",
    "\n",
    "Panel is designed to make it simple to add interactive controls to your existing plots and data displays, simple to build apps for your own use in a notebook, simple to deploy apps as standalone dashboards to share with colleagues, and seamlessly shift back and forth between each of these tasks as your needs evolve. If there is one thing you should take away from this tutorial, it's Panel!\n",
    "\n",
    "Throughout this tutorial we will use a wave heights dataset collected by NOAA, so will start by loading it:"
   ]
  },
  {
   "cell_type": "code",
   "execution_count": 1,
   "metadata": {},
   "outputs": [
    {
     "name": "stdout",
     "output_type": "stream",
     "text": [
      "(764431, 7)\n"
     ]
    },
    {
     "data": {
      "text/html": [
       "<div>\n",
       "<style scoped>\n",
       "    .dataframe tbody tr th:only-of-type {\n",
       "        vertical-align: middle;\n",
       "    }\n",
       "\n",
       "    .dataframe tbody tr th {\n",
       "        vertical-align: top;\n",
       "    }\n",
       "\n",
       "    .dataframe thead th {\n",
       "        text-align: right;\n",
       "    }\n",
       "</style>\n",
       "<table border=\"1\" class=\"dataframe\">\n",
       "  <thead>\n",
       "    <tr style=\"text-align: right;\">\n",
       "      <th></th>\n",
       "      <th>station</th>\n",
       "      <th>latitude</th>\n",
       "      <th>longitude</th>\n",
       "      <th>time</th>\n",
       "      <th>wvht</th>\n",
       "      <th>wspd</th>\n",
       "      <th>gst</th>\n",
       "    </tr>\n",
       "  </thead>\n",
       "  <tbody>\n",
       "    <tr>\n",
       "      <th>0</th>\n",
       "      <td>41001</td>\n",
       "      <td>34.675</td>\n",
       "      <td>-72.698</td>\n",
       "      <td>2021-01-01T00:40:00Z</td>\n",
       "      <td>2.14</td>\n",
       "      <td>10.0</td>\n",
       "      <td>12.8</td>\n",
       "    </tr>\n",
       "    <tr>\n",
       "      <th>1</th>\n",
       "      <td>41001</td>\n",
       "      <td>34.675</td>\n",
       "      <td>-72.698</td>\n",
       "      <td>2021-01-01T01:40:00Z</td>\n",
       "      <td>2.23</td>\n",
       "      <td>10.6</td>\n",
       "      <td>12.9</td>\n",
       "    </tr>\n",
       "    <tr>\n",
       "      <th>2</th>\n",
       "      <td>41001</td>\n",
       "      <td>34.675</td>\n",
       "      <td>-72.698</td>\n",
       "      <td>2021-01-01T02:40:00Z</td>\n",
       "      <td>2.07</td>\n",
       "      <td>10.6</td>\n",
       "      <td>13.3</td>\n",
       "    </tr>\n",
       "    <tr>\n",
       "      <th>3</th>\n",
       "      <td>41001</td>\n",
       "      <td>34.675</td>\n",
       "      <td>-72.698</td>\n",
       "      <td>2021-01-01T03:40:00Z</td>\n",
       "      <td>1.97</td>\n",
       "      <td>9.2</td>\n",
       "      <td>11.6</td>\n",
       "    </tr>\n",
       "    <tr>\n",
       "      <th>4</th>\n",
       "      <td>41001</td>\n",
       "      <td>34.675</td>\n",
       "      <td>-72.698</td>\n",
       "      <td>2021-01-01T04:40:00Z</td>\n",
       "      <td>1.94</td>\n",
       "      <td>9.2</td>\n",
       "      <td>11.3</td>\n",
       "    </tr>\n",
       "  </tbody>\n",
       "</table>\n",
       "</div>"
      ],
      "text/plain": [
       "  station  latitude  longitude                  time  wvht  wspd   gst\n",
       "0   41001    34.675    -72.698  2021-01-01T00:40:00Z  2.14  10.0  12.8\n",
       "1   41001    34.675    -72.698  2021-01-01T01:40:00Z  2.23  10.6  12.9\n",
       "2   41001    34.675    -72.698  2021-01-01T02:40:00Z  2.07  10.6  13.3\n",
       "3   41001    34.675    -72.698  2021-01-01T03:40:00Z  1.97   9.2  11.6\n",
       "4   41001    34.675    -72.698  2021-01-01T04:40:00Z  1.94   9.2  11.3"
      ]
     },
     "execution_count": 1,
     "metadata": {},
     "output_type": "execute_result"
    }
   ],
   "source": [
    "from load_data import *\n",
    "\n",
    "df = load_data()\n",
    "print(df.shape)\n",
    "df.head()"
   ]
  },
  {
   "cell_type": "markdown",
   "metadata": {},
   "source": [
    "Additionally before displaying anything with Panel it is always necessary to load the Panel extension:"
   ]
  },
  {
   "cell_type": "code",
   "execution_count": 2,
   "metadata": {},
   "outputs": [
    {
     "data": {
      "application/javascript": [
       "\n",
       "(function(root) {\n",
       "  function now() {\n",
       "    return new Date();\n",
       "  }\n",
       "\n",
       "  var force = true;\n",
       "\n",
       "  if (typeof root._bokeh_onload_callbacks === \"undefined\" || force === true) {\n",
       "    root._bokeh_onload_callbacks = [];\n",
       "    root._bokeh_is_loading = undefined;\n",
       "  }\n",
       "\n",
       "  if (typeof (root._bokeh_timeout) === \"undefined\" || force === true) {\n",
       "    root._bokeh_timeout = Date.now() + 5000;\n",
       "    root._bokeh_failed_load = false;\n",
       "  }\n",
       "\n",
       "  function run_callbacks() {\n",
       "    try {\n",
       "      root._bokeh_onload_callbacks.forEach(function(callback) {\n",
       "        if (callback != null)\n",
       "          callback();\n",
       "      });\n",
       "    } finally {\n",
       "      delete root._bokeh_onload_callbacks\n",
       "    }\n",
       "    console.debug(\"Bokeh: all callbacks have finished\");\n",
       "  }\n",
       "\n",
       "  function load_libs(css_urls, js_urls, js_modules, callback) {\n",
       "    if (css_urls == null) css_urls = [];\n",
       "    if (js_urls == null) js_urls = [];\n",
       "    if (js_modules == null) js_modules = [];\n",
       "\n",
       "    root._bokeh_onload_callbacks.push(callback);\n",
       "    if (root._bokeh_is_loading > 0) {\n",
       "      console.debug(\"Bokeh: BokehJS is being loaded, scheduling callback at\", now());\n",
       "      return null;\n",
       "    }\n",
       "    if (js_urls.length === 0 && js_modules.length === 0) {\n",
       "      run_callbacks();\n",
       "      return null;\n",
       "    }\n",
       "    console.debug(\"Bokeh: BokehJS not loaded, scheduling load and callback at\", now());\n",
       "    root._bokeh_is_loading = css_urls.length + js_urls.length + js_modules.length;\n",
       "\n",
       "    function on_load() {\n",
       "      root._bokeh_is_loading--;\n",
       "      if (root._bokeh_is_loading === 0) {\n",
       "        console.debug(\"Bokeh: all BokehJS libraries/stylesheets loaded\");\n",
       "        run_callbacks()\n",
       "      }\n",
       "    }\n",
       "\n",
       "    function on_error() {\n",
       "      console.error(\"failed to load \" + url);\n",
       "    }\n",
       "\n",
       "    for (var i = 0; i < css_urls.length; i++) {\n",
       "      var url = css_urls[i];\n",
       "      const element = document.createElement(\"link\");\n",
       "      element.onload = on_load;\n",
       "      element.onerror = on_error;\n",
       "      element.rel = \"stylesheet\";\n",
       "      element.type = \"text/css\";\n",
       "      element.href = url;\n",
       "      console.debug(\"Bokeh: injecting link tag for BokehJS stylesheet: \", url);\n",
       "      document.body.appendChild(element);\n",
       "    }\n",
       "\n",
       "    var skip = [];\n",
       "    if (window.requirejs) {\n",
       "      window.requirejs.config({'paths': {}, 'shim': {}});\n",
       "      \n",
       "    }\n",
       "    for (var i = 0; i < js_urls.length; i++) {\n",
       "      var url = js_urls[i];\n",
       "      if (skip.indexOf(url) >= 0) { on_load(); continue; }\n",
       "      var element = document.createElement('script');\n",
       "      element.onload = on_load;\n",
       "      element.onerror = on_error;\n",
       "      element.async = false;\n",
       "      element.src = url;\n",
       "      console.debug(\"Bokeh: injecting script tag for BokehJS library: \", url);\n",
       "      document.head.appendChild(element);\n",
       "    }\n",
       "    for (var i = 0; i < js_modules.length; i++) {\n",
       "      var url = js_modules[i];\n",
       "      if (skip.indexOf(url) >= 0) { on_load(); continue; }\n",
       "      var element = document.createElement('script');\n",
       "      element.onload = on_load;\n",
       "      element.onerror = on_error;\n",
       "      element.async = false;\n",
       "      element.src = url;\n",
       "      element.type = \"module\";\n",
       "      console.debug(\"Bokeh: injecting script tag for BokehJS library: \", url);\n",
       "      document.head.appendChild(element);\n",
       "    }\n",
       "    if (!js_urls.length && !js_modules.length) {\n",
       "      on_load()\n",
       "    }\n",
       "  };\n",
       "\n",
       "  function inject_raw_css(css) {\n",
       "    const element = document.createElement(\"style\");\n",
       "    element.appendChild(document.createTextNode(css));\n",
       "    document.body.appendChild(element);\n",
       "  }\n",
       "\n",
       "  var js_urls = [\"https://cdn.bokeh.org/bokeh/release/bokeh-2.3.3.min.js\", \"https://cdn.bokeh.org/bokeh/release/bokeh-widgets-2.3.3.min.js\", \"https://cdn.bokeh.org/bokeh/release/bokeh-tables-2.3.3.min.js\", \"https://unpkg.com/@holoviz/panel@0.12.0/dist/panel.min.js\"];\n",
       "  var js_modules = [];\n",
       "  var css_urls = [\"https://unpkg.com/@holoviz/panel@0.12.0/dist/css/alerts.css\", \"https://unpkg.com/@holoviz/panel@0.12.0/dist/css/json.css\", \"https://unpkg.com/@holoviz/panel@0.12.0/dist/css/markdown.css\", \"https://unpkg.com/@holoviz/panel@0.12.0/dist/css/loading.css\", \"https://unpkg.com/@holoviz/panel@0.12.0/dist/css/widgets.css\", \"https://unpkg.com/@holoviz/panel@0.12.0/dist/css/dataframe.css\", \"https://unpkg.com/@holoviz/panel@0.12.0/dist/css/card.css\"];\n",
       "  var inline_js = [\n",
       "    function(Bokeh) {\n",
       "      inject_raw_css(\"\\n    .bk.pn-loading.arcs:before {\\n      background-image: url(\\\"data:image/svg+xml;base64,PHN2ZyB4bWxucz0iaHR0cDovL3d3dy53My5vcmcvMjAwMC9zdmciIHhtbG5zOnhsaW5rPSJodHRwOi8vd3d3LnczLm9yZy8xOTk5L3hsaW5rIiBzdHlsZT0ibWFyZ2luOiBhdXRvOyBiYWNrZ3JvdW5kOiBub25lOyBkaXNwbGF5OiBibG9jazsgc2hhcGUtcmVuZGVyaW5nOiBhdXRvOyIgdmlld0JveD0iMCAwIDEwMCAxMDAiIHByZXNlcnZlQXNwZWN0UmF0aW89InhNaWRZTWlkIj4gIDxjaXJjbGUgY3g9IjUwIiBjeT0iNTAiIHI9IjMyIiBzdHJva2Utd2lkdGg9IjgiIHN0cm9rZT0iI2MzYzNjMyIgc3Ryb2tlLWRhc2hhcnJheT0iNTAuMjY1NDgyNDU3NDM2NjkgNTAuMjY1NDgyNDU3NDM2NjkiIGZpbGw9Im5vbmUiIHN0cm9rZS1saW5lY2FwPSJyb3VuZCI+ICAgIDxhbmltYXRlVHJhbnNmb3JtIGF0dHJpYnV0ZU5hbWU9InRyYW5zZm9ybSIgdHlwZT0icm90YXRlIiByZXBlYXRDb3VudD0iaW5kZWZpbml0ZSIgZHVyPSIxcyIga2V5VGltZXM9IjA7MSIgdmFsdWVzPSIwIDUwIDUwOzM2MCA1MCA1MCI+PC9hbmltYXRlVHJhbnNmb3JtPiAgPC9jaXJjbGU+PC9zdmc+\\\")\\n    }\\n    \");\n",
       "    },\n",
       "    function(Bokeh) {\n",
       "      Bokeh.set_log_level(\"info\");\n",
       "    },\n",
       "    function(Bokeh) {} // ensure no trailing comma for IE\n",
       "  ];\n",
       "\n",
       "  function run_inline_js() {\n",
       "    if ((root.Bokeh !== undefined) || (force === true)) {\n",
       "      for (var i = 0; i < inline_js.length; i++) {\n",
       "        inline_js[i].call(root, root.Bokeh);\n",
       "      }} else if (Date.now() < root._bokeh_timeout) {\n",
       "      setTimeout(run_inline_js, 100);\n",
       "    } else if (!root._bokeh_failed_load) {\n",
       "      console.log(\"Bokeh: BokehJS failed to load within specified timeout.\");\n",
       "      root._bokeh_failed_load = true;\n",
       "    }\n",
       "  }\n",
       "\n",
       "  if (root._bokeh_is_loading === 0) {\n",
       "    console.debug(\"Bokeh: BokehJS loaded, going straight to plotting\");\n",
       "    run_inline_js();\n",
       "  } else {\n",
       "    load_libs(css_urls, js_urls, js_modules, function() {\n",
       "      console.debug(\"Bokeh: BokehJS plotting callback run at\", now());\n",
       "      run_inline_js();\n",
       "    });\n",
       "  }\n",
       "}(window));"
      ],
      "application/vnd.holoviews_load.v0+json": "\n(function(root) {\n  function now() {\n    return new Date();\n  }\n\n  var force = true;\n\n  if (typeof root._bokeh_onload_callbacks === \"undefined\" || force === true) {\n    root._bokeh_onload_callbacks = [];\n    root._bokeh_is_loading = undefined;\n  }\n\n  if (typeof (root._bokeh_timeout) === \"undefined\" || force === true) {\n    root._bokeh_timeout = Date.now() + 5000;\n    root._bokeh_failed_load = false;\n  }\n\n  function run_callbacks() {\n    try {\n      root._bokeh_onload_callbacks.forEach(function(callback) {\n        if (callback != null)\n          callback();\n      });\n    } finally {\n      delete root._bokeh_onload_callbacks\n    }\n    console.debug(\"Bokeh: all callbacks have finished\");\n  }\n\n  function load_libs(css_urls, js_urls, js_modules, callback) {\n    if (css_urls == null) css_urls = [];\n    if (js_urls == null) js_urls = [];\n    if (js_modules == null) js_modules = [];\n\n    root._bokeh_onload_callbacks.push(callback);\n    if (root._bokeh_is_loading > 0) {\n      console.debug(\"Bokeh: BokehJS is being loaded, scheduling callback at\", now());\n      return null;\n    }\n    if (js_urls.length === 0 && js_modules.length === 0) {\n      run_callbacks();\n      return null;\n    }\n    console.debug(\"Bokeh: BokehJS not loaded, scheduling load and callback at\", now());\n    root._bokeh_is_loading = css_urls.length + js_urls.length + js_modules.length;\n\n    function on_load() {\n      root._bokeh_is_loading--;\n      if (root._bokeh_is_loading === 0) {\n        console.debug(\"Bokeh: all BokehJS libraries/stylesheets loaded\");\n        run_callbacks()\n      }\n    }\n\n    function on_error() {\n      console.error(\"failed to load \" + url);\n    }\n\n    for (var i = 0; i < css_urls.length; i++) {\n      var url = css_urls[i];\n      const element = document.createElement(\"link\");\n      element.onload = on_load;\n      element.onerror = on_error;\n      element.rel = \"stylesheet\";\n      element.type = \"text/css\";\n      element.href = url;\n      console.debug(\"Bokeh: injecting link tag for BokehJS stylesheet: \", url);\n      document.body.appendChild(element);\n    }\n\n    var skip = [];\n    if (window.requirejs) {\n      window.requirejs.config({'paths': {}, 'shim': {}});\n      \n    }\n    for (var i = 0; i < js_urls.length; i++) {\n      var url = js_urls[i];\n      if (skip.indexOf(url) >= 0) { on_load(); continue; }\n      var element = document.createElement('script');\n      element.onload = on_load;\n      element.onerror = on_error;\n      element.async = false;\n      element.src = url;\n      console.debug(\"Bokeh: injecting script tag for BokehJS library: \", url);\n      document.head.appendChild(element);\n    }\n    for (var i = 0; i < js_modules.length; i++) {\n      var url = js_modules[i];\n      if (skip.indexOf(url) >= 0) { on_load(); continue; }\n      var element = document.createElement('script');\n      element.onload = on_load;\n      element.onerror = on_error;\n      element.async = false;\n      element.src = url;\n      element.type = \"module\";\n      console.debug(\"Bokeh: injecting script tag for BokehJS library: \", url);\n      document.head.appendChild(element);\n    }\n    if (!js_urls.length && !js_modules.length) {\n      on_load()\n    }\n  };\n\n  function inject_raw_css(css) {\n    const element = document.createElement(\"style\");\n    element.appendChild(document.createTextNode(css));\n    document.body.appendChild(element);\n  }\n\n  var js_urls = [\"https://cdn.bokeh.org/bokeh/release/bokeh-2.3.3.min.js\", \"https://cdn.bokeh.org/bokeh/release/bokeh-widgets-2.3.3.min.js\", \"https://cdn.bokeh.org/bokeh/release/bokeh-tables-2.3.3.min.js\", \"https://unpkg.com/@holoviz/panel@0.12.0/dist/panel.min.js\"];\n  var js_modules = [];\n  var css_urls = [\"https://unpkg.com/@holoviz/panel@0.12.0/dist/css/alerts.css\", \"https://unpkg.com/@holoviz/panel@0.12.0/dist/css/json.css\", \"https://unpkg.com/@holoviz/panel@0.12.0/dist/css/markdown.css\", \"https://unpkg.com/@holoviz/panel@0.12.0/dist/css/loading.css\", \"https://unpkg.com/@holoviz/panel@0.12.0/dist/css/widgets.css\", \"https://unpkg.com/@holoviz/panel@0.12.0/dist/css/dataframe.css\", \"https://unpkg.com/@holoviz/panel@0.12.0/dist/css/card.css\"];\n  var inline_js = [\n    function(Bokeh) {\n      inject_raw_css(\"\\n    .bk.pn-loading.arcs:before {\\n      background-image: url(\\\"data:image/svg+xml;base64,PHN2ZyB4bWxucz0iaHR0cDovL3d3dy53My5vcmcvMjAwMC9zdmciIHhtbG5zOnhsaW5rPSJodHRwOi8vd3d3LnczLm9yZy8xOTk5L3hsaW5rIiBzdHlsZT0ibWFyZ2luOiBhdXRvOyBiYWNrZ3JvdW5kOiBub25lOyBkaXNwbGF5OiBibG9jazsgc2hhcGUtcmVuZGVyaW5nOiBhdXRvOyIgdmlld0JveD0iMCAwIDEwMCAxMDAiIHByZXNlcnZlQXNwZWN0UmF0aW89InhNaWRZTWlkIj4gIDxjaXJjbGUgY3g9IjUwIiBjeT0iNTAiIHI9IjMyIiBzdHJva2Utd2lkdGg9IjgiIHN0cm9rZT0iI2MzYzNjMyIgc3Ryb2tlLWRhc2hhcnJheT0iNTAuMjY1NDgyNDU3NDM2NjkgNTAuMjY1NDgyNDU3NDM2NjkiIGZpbGw9Im5vbmUiIHN0cm9rZS1saW5lY2FwPSJyb3VuZCI+ICAgIDxhbmltYXRlVHJhbnNmb3JtIGF0dHJpYnV0ZU5hbWU9InRyYW5zZm9ybSIgdHlwZT0icm90YXRlIiByZXBlYXRDb3VudD0iaW5kZWZpbml0ZSIgZHVyPSIxcyIga2V5VGltZXM9IjA7MSIgdmFsdWVzPSIwIDUwIDUwOzM2MCA1MCA1MCI+PC9hbmltYXRlVHJhbnNmb3JtPiAgPC9jaXJjbGU+PC9zdmc+\\\")\\n    }\\n    \");\n    },\n    function(Bokeh) {\n      Bokeh.set_log_level(\"info\");\n    },\n    function(Bokeh) {} // ensure no trailing comma for IE\n  ];\n\n  function run_inline_js() {\n    if ((root.Bokeh !== undefined) || (force === true)) {\n      for (var i = 0; i < inline_js.length; i++) {\n        inline_js[i].call(root, root.Bokeh);\n      }} else if (Date.now() < root._bokeh_timeout) {\n      setTimeout(run_inline_js, 100);\n    } else if (!root._bokeh_failed_load) {\n      console.log(\"Bokeh: BokehJS failed to load within specified timeout.\");\n      root._bokeh_failed_load = true;\n    }\n  }\n\n  if (root._bokeh_is_loading === 0) {\n    console.debug(\"Bokeh: BokehJS loaded, going straight to plotting\");\n    run_inline_js();\n  } else {\n    load_libs(css_urls, js_urls, js_modules, function() {\n      console.debug(\"Bokeh: BokehJS plotting callback run at\", now());\n      run_inline_js();\n    });\n  }\n}(window));"
     },
     "metadata": {},
     "output_type": "display_data"
    },
    {
     "data": {
      "application/javascript": [
       "\n",
       "if ((window.PyViz === undefined) || (window.PyViz instanceof HTMLElement)) {\n",
       "  window.PyViz = {comms: {}, comm_status:{}, kernels:{}, receivers: {}, plot_index: []}\n",
       "}\n",
       "\n",
       "\n",
       "    function JupyterCommManager() {\n",
       "    }\n",
       "\n",
       "    JupyterCommManager.prototype.register_target = function(plot_id, comm_id, msg_handler) {\n",
       "      if (window.comm_manager || ((window.Jupyter !== undefined) && (Jupyter.notebook.kernel != null))) {\n",
       "        var comm_manager = window.comm_manager || Jupyter.notebook.kernel.comm_manager;\n",
       "        comm_manager.register_target(comm_id, function(comm) {\n",
       "          comm.on_msg(msg_handler);\n",
       "        });\n",
       "      } else if ((plot_id in window.PyViz.kernels) && (window.PyViz.kernels[plot_id])) {\n",
       "        window.PyViz.kernels[plot_id].registerCommTarget(comm_id, function(comm) {\n",
       "          comm.onMsg = msg_handler;\n",
       "        });\n",
       "      } else if (typeof google != 'undefined' && google.colab.kernel != null) {\n",
       "        google.colab.kernel.comms.registerTarget(comm_id, (comm) => {\n",
       "          var messages = comm.messages[Symbol.asyncIterator]();\n",
       "          function processIteratorResult(result) {\n",
       "            var message = result.value;\n",
       "            console.log(message)\n",
       "            var content = {data: message.data, comm_id};\n",
       "            var buffers = []\n",
       "            for (var buffer of message.buffers || []) {\n",
       "              buffers.push(new DataView(buffer))\n",
       "            }\n",
       "            var metadata = message.metadata || {};\n",
       "            var msg = {content, buffers, metadata}\n",
       "            msg_handler(msg);\n",
       "            return messages.next().then(processIteratorResult);\n",
       "          }\n",
       "          return messages.next().then(processIteratorResult);\n",
       "        })\n",
       "      }\n",
       "    }\n",
       "\n",
       "    JupyterCommManager.prototype.get_client_comm = function(plot_id, comm_id, msg_handler) {\n",
       "      if (comm_id in window.PyViz.comms) {\n",
       "        return window.PyViz.comms[comm_id];\n",
       "      } else if (window.comm_manager || ((window.Jupyter !== undefined) && (Jupyter.notebook.kernel != null))) {\n",
       "        var comm_manager = window.comm_manager || Jupyter.notebook.kernel.comm_manager;\n",
       "        var comm = comm_manager.new_comm(comm_id, {}, {}, {}, comm_id);\n",
       "        if (msg_handler) {\n",
       "          comm.on_msg(msg_handler);\n",
       "        }\n",
       "      } else if ((plot_id in window.PyViz.kernels) && (window.PyViz.kernels[plot_id])) {\n",
       "        var comm = window.PyViz.kernels[plot_id].connectToComm(comm_id);\n",
       "        comm.open();\n",
       "        if (msg_handler) {\n",
       "          comm.onMsg = msg_handler;\n",
       "        }\n",
       "      } else if (typeof google != 'undefined' && google.colab.kernel != null) {\n",
       "        var comm_promise = google.colab.kernel.comms.open(comm_id)\n",
       "        comm_promise.then((comm) => {\n",
       "          window.PyViz.comms[comm_id] = comm;\n",
       "          if (msg_handler) {\n",
       "            var messages = comm.messages[Symbol.asyncIterator]();\n",
       "            function processIteratorResult(result) {\n",
       "              var message = result.value;\n",
       "              var content = {data: message.data};\n",
       "              var metadata = message.metadata || {comm_id};\n",
       "              var msg = {content, metadata}\n",
       "              msg_handler(msg);\n",
       "              return messages.next().then(processIteratorResult);\n",
       "            }\n",
       "            return messages.next().then(processIteratorResult);\n",
       "          }\n",
       "        }) \n",
       "        var sendClosure = (data, metadata, buffers, disposeOnDone) => {\n",
       "          return comm_promise.then((comm) => {\n",
       "            comm.send(data, metadata, buffers, disposeOnDone);\n",
       "          });\n",
       "        };\n",
       "        var comm = {\n",
       "          send: sendClosure\n",
       "        };\n",
       "      }\n",
       "      window.PyViz.comms[comm_id] = comm;\n",
       "      return comm;\n",
       "    }\n",
       "    window.PyViz.comm_manager = new JupyterCommManager();\n",
       "    \n",
       "\n",
       "\n",
       "var JS_MIME_TYPE = 'application/javascript';\n",
       "var HTML_MIME_TYPE = 'text/html';\n",
       "var EXEC_MIME_TYPE = 'application/vnd.holoviews_exec.v0+json';\n",
       "var CLASS_NAME = 'output';\n",
       "\n",
       "/**\n",
       " * Render data to the DOM node\n",
       " */\n",
       "function render(props, node) {\n",
       "  var div = document.createElement(\"div\");\n",
       "  var script = document.createElement(\"script\");\n",
       "  node.appendChild(div);\n",
       "  node.appendChild(script);\n",
       "}\n",
       "\n",
       "/**\n",
       " * Handle when a new output is added\n",
       " */\n",
       "function handle_add_output(event, handle) {\n",
       "  var output_area = handle.output_area;\n",
       "  var output = handle.output;\n",
       "  if ((output.data == undefined) || (!output.data.hasOwnProperty(EXEC_MIME_TYPE))) {\n",
       "    return\n",
       "  }\n",
       "  var id = output.metadata[EXEC_MIME_TYPE][\"id\"];\n",
       "  var toinsert = output_area.element.find(\".\" + CLASS_NAME.split(' ')[0]);\n",
       "  if (id !== undefined) {\n",
       "    var nchildren = toinsert.length;\n",
       "    var html_node = toinsert[nchildren-1].children[0];\n",
       "    html_node.innerHTML = output.data[HTML_MIME_TYPE];\n",
       "    var scripts = [];\n",
       "    var nodelist = html_node.querySelectorAll(\"script\");\n",
       "    for (var i in nodelist) {\n",
       "      if (nodelist.hasOwnProperty(i)) {\n",
       "        scripts.push(nodelist[i])\n",
       "      }\n",
       "    }\n",
       "\n",
       "    scripts.forEach( function (oldScript) {\n",
       "      var newScript = document.createElement(\"script\");\n",
       "      var attrs = [];\n",
       "      var nodemap = oldScript.attributes;\n",
       "      for (var j in nodemap) {\n",
       "        if (nodemap.hasOwnProperty(j)) {\n",
       "          attrs.push(nodemap[j])\n",
       "        }\n",
       "      }\n",
       "      attrs.forEach(function(attr) { newScript.setAttribute(attr.name, attr.value) });\n",
       "      newScript.appendChild(document.createTextNode(oldScript.innerHTML));\n",
       "      oldScript.parentNode.replaceChild(newScript, oldScript);\n",
       "    });\n",
       "    if (JS_MIME_TYPE in output.data) {\n",
       "      toinsert[nchildren-1].children[1].textContent = output.data[JS_MIME_TYPE];\n",
       "    }\n",
       "    output_area._hv_plot_id = id;\n",
       "    if ((window.Bokeh !== undefined) && (id in Bokeh.index)) {\n",
       "      window.PyViz.plot_index[id] = Bokeh.index[id];\n",
       "    } else {\n",
       "      window.PyViz.plot_index[id] = null;\n",
       "    }\n",
       "  } else if (output.metadata[EXEC_MIME_TYPE][\"server_id\"] !== undefined) {\n",
       "    var bk_div = document.createElement(\"div\");\n",
       "    bk_div.innerHTML = output.data[HTML_MIME_TYPE];\n",
       "    var script_attrs = bk_div.children[0].attributes;\n",
       "    for (var i = 0; i < script_attrs.length; i++) {\n",
       "      toinsert[toinsert.length - 1].childNodes[1].setAttribute(script_attrs[i].name, script_attrs[i].value);\n",
       "    }\n",
       "    // store reference to server id on output_area\n",
       "    output_area._bokeh_server_id = output.metadata[EXEC_MIME_TYPE][\"server_id\"];\n",
       "  }\n",
       "}\n",
       "\n",
       "/**\n",
       " * Handle when an output is cleared or removed\n",
       " */\n",
       "function handle_clear_output(event, handle) {\n",
       "  var id = handle.cell.output_area._hv_plot_id;\n",
       "  var server_id = handle.cell.output_area._bokeh_server_id;\n",
       "  if (((id === undefined) || !(id in PyViz.plot_index)) && (server_id !== undefined)) { return; }\n",
       "  var comm = window.PyViz.comm_manager.get_client_comm(\"hv-extension-comm\", \"hv-extension-comm\", function () {});\n",
       "  if (server_id !== null) {\n",
       "    comm.send({event_type: 'server_delete', 'id': server_id});\n",
       "    return;\n",
       "  } else if (comm !== null) {\n",
       "    comm.send({event_type: 'delete', 'id': id});\n",
       "  }\n",
       "  delete PyViz.plot_index[id];\n",
       "  if ((window.Bokeh !== undefined) & (id in window.Bokeh.index)) {\n",
       "    var doc = window.Bokeh.index[id].model.document\n",
       "    doc.clear();\n",
       "    const i = window.Bokeh.documents.indexOf(doc);\n",
       "    if (i > -1) {\n",
       "      window.Bokeh.documents.splice(i, 1);\n",
       "    }\n",
       "  }\n",
       "}\n",
       "\n",
       "/**\n",
       " * Handle kernel restart event\n",
       " */\n",
       "function handle_kernel_cleanup(event, handle) {\n",
       "  delete PyViz.comms[\"hv-extension-comm\"];\n",
       "  window.PyViz.plot_index = {}\n",
       "}\n",
       "\n",
       "/**\n",
       " * Handle update_display_data messages\n",
       " */\n",
       "function handle_update_output(event, handle) {\n",
       "  handle_clear_output(event, {cell: {output_area: handle.output_area}})\n",
       "  handle_add_output(event, handle)\n",
       "}\n",
       "\n",
       "function register_renderer(events, OutputArea) {\n",
       "  function append_mime(data, metadata, element) {\n",
       "    // create a DOM node to render to\n",
       "    var toinsert = this.create_output_subarea(\n",
       "    metadata,\n",
       "    CLASS_NAME,\n",
       "    EXEC_MIME_TYPE\n",
       "    );\n",
       "    this.keyboard_manager.register_events(toinsert);\n",
       "    // Render to node\n",
       "    var props = {data: data, metadata: metadata[EXEC_MIME_TYPE]};\n",
       "    render(props, toinsert[0]);\n",
       "    element.append(toinsert);\n",
       "    return toinsert\n",
       "  }\n",
       "\n",
       "  events.on('output_added.OutputArea', handle_add_output);\n",
       "  events.on('output_updated.OutputArea', handle_update_output);\n",
       "  events.on('clear_output.CodeCell', handle_clear_output);\n",
       "  events.on('delete.Cell', handle_clear_output);\n",
       "  events.on('kernel_ready.Kernel', handle_kernel_cleanup);\n",
       "\n",
       "  OutputArea.prototype.register_mime_type(EXEC_MIME_TYPE, append_mime, {\n",
       "    safe: true,\n",
       "    index: 0\n",
       "  });\n",
       "}\n",
       "\n",
       "if (window.Jupyter !== undefined) {\n",
       "  try {\n",
       "    var events = require('base/js/events');\n",
       "    var OutputArea = require('notebook/js/outputarea').OutputArea;\n",
       "    if (OutputArea.prototype.mime_types().indexOf(EXEC_MIME_TYPE) == -1) {\n",
       "      register_renderer(events, OutputArea);\n",
       "    }\n",
       "  } catch(err) {\n",
       "  }\n",
       "}\n"
      ],
      "application/vnd.holoviews_load.v0+json": "\nif ((window.PyViz === undefined) || (window.PyViz instanceof HTMLElement)) {\n  window.PyViz = {comms: {}, comm_status:{}, kernels:{}, receivers: {}, plot_index: []}\n}\n\n\n    function JupyterCommManager() {\n    }\n\n    JupyterCommManager.prototype.register_target = function(plot_id, comm_id, msg_handler) {\n      if (window.comm_manager || ((window.Jupyter !== undefined) && (Jupyter.notebook.kernel != null))) {\n        var comm_manager = window.comm_manager || Jupyter.notebook.kernel.comm_manager;\n        comm_manager.register_target(comm_id, function(comm) {\n          comm.on_msg(msg_handler);\n        });\n      } else if ((plot_id in window.PyViz.kernels) && (window.PyViz.kernels[plot_id])) {\n        window.PyViz.kernels[plot_id].registerCommTarget(comm_id, function(comm) {\n          comm.onMsg = msg_handler;\n        });\n      } else if (typeof google != 'undefined' && google.colab.kernel != null) {\n        google.colab.kernel.comms.registerTarget(comm_id, (comm) => {\n          var messages = comm.messages[Symbol.asyncIterator]();\n          function processIteratorResult(result) {\n            var message = result.value;\n            console.log(message)\n            var content = {data: message.data, comm_id};\n            var buffers = []\n            for (var buffer of message.buffers || []) {\n              buffers.push(new DataView(buffer))\n            }\n            var metadata = message.metadata || {};\n            var msg = {content, buffers, metadata}\n            msg_handler(msg);\n            return messages.next().then(processIteratorResult);\n          }\n          return messages.next().then(processIteratorResult);\n        })\n      }\n    }\n\n    JupyterCommManager.prototype.get_client_comm = function(plot_id, comm_id, msg_handler) {\n      if (comm_id in window.PyViz.comms) {\n        return window.PyViz.comms[comm_id];\n      } else if (window.comm_manager || ((window.Jupyter !== undefined) && (Jupyter.notebook.kernel != null))) {\n        var comm_manager = window.comm_manager || Jupyter.notebook.kernel.comm_manager;\n        var comm = comm_manager.new_comm(comm_id, {}, {}, {}, comm_id);\n        if (msg_handler) {\n          comm.on_msg(msg_handler);\n        }\n      } else if ((plot_id in window.PyViz.kernels) && (window.PyViz.kernels[plot_id])) {\n        var comm = window.PyViz.kernels[plot_id].connectToComm(comm_id);\n        comm.open();\n        if (msg_handler) {\n          comm.onMsg = msg_handler;\n        }\n      } else if (typeof google != 'undefined' && google.colab.kernel != null) {\n        var comm_promise = google.colab.kernel.comms.open(comm_id)\n        comm_promise.then((comm) => {\n          window.PyViz.comms[comm_id] = comm;\n          if (msg_handler) {\n            var messages = comm.messages[Symbol.asyncIterator]();\n            function processIteratorResult(result) {\n              var message = result.value;\n              var content = {data: message.data};\n              var metadata = message.metadata || {comm_id};\n              var msg = {content, metadata}\n              msg_handler(msg);\n              return messages.next().then(processIteratorResult);\n            }\n            return messages.next().then(processIteratorResult);\n          }\n        }) \n        var sendClosure = (data, metadata, buffers, disposeOnDone) => {\n          return comm_promise.then((comm) => {\n            comm.send(data, metadata, buffers, disposeOnDone);\n          });\n        };\n        var comm = {\n          send: sendClosure\n        };\n      }\n      window.PyViz.comms[comm_id] = comm;\n      return comm;\n    }\n    window.PyViz.comm_manager = new JupyterCommManager();\n    \n\n\nvar JS_MIME_TYPE = 'application/javascript';\nvar HTML_MIME_TYPE = 'text/html';\nvar EXEC_MIME_TYPE = 'application/vnd.holoviews_exec.v0+json';\nvar CLASS_NAME = 'output';\n\n/**\n * Render data to the DOM node\n */\nfunction render(props, node) {\n  var div = document.createElement(\"div\");\n  var script = document.createElement(\"script\");\n  node.appendChild(div);\n  node.appendChild(script);\n}\n\n/**\n * Handle when a new output is added\n */\nfunction handle_add_output(event, handle) {\n  var output_area = handle.output_area;\n  var output = handle.output;\n  if ((output.data == undefined) || (!output.data.hasOwnProperty(EXEC_MIME_TYPE))) {\n    return\n  }\n  var id = output.metadata[EXEC_MIME_TYPE][\"id\"];\n  var toinsert = output_area.element.find(\".\" + CLASS_NAME.split(' ')[0]);\n  if (id !== undefined) {\n    var nchildren = toinsert.length;\n    var html_node = toinsert[nchildren-1].children[0];\n    html_node.innerHTML = output.data[HTML_MIME_TYPE];\n    var scripts = [];\n    var nodelist = html_node.querySelectorAll(\"script\");\n    for (var i in nodelist) {\n      if (nodelist.hasOwnProperty(i)) {\n        scripts.push(nodelist[i])\n      }\n    }\n\n    scripts.forEach( function (oldScript) {\n      var newScript = document.createElement(\"script\");\n      var attrs = [];\n      var nodemap = oldScript.attributes;\n      for (var j in nodemap) {\n        if (nodemap.hasOwnProperty(j)) {\n          attrs.push(nodemap[j])\n        }\n      }\n      attrs.forEach(function(attr) { newScript.setAttribute(attr.name, attr.value) });\n      newScript.appendChild(document.createTextNode(oldScript.innerHTML));\n      oldScript.parentNode.replaceChild(newScript, oldScript);\n    });\n    if (JS_MIME_TYPE in output.data) {\n      toinsert[nchildren-1].children[1].textContent = output.data[JS_MIME_TYPE];\n    }\n    output_area._hv_plot_id = id;\n    if ((window.Bokeh !== undefined) && (id in Bokeh.index)) {\n      window.PyViz.plot_index[id] = Bokeh.index[id];\n    } else {\n      window.PyViz.plot_index[id] = null;\n    }\n  } else if (output.metadata[EXEC_MIME_TYPE][\"server_id\"] !== undefined) {\n    var bk_div = document.createElement(\"div\");\n    bk_div.innerHTML = output.data[HTML_MIME_TYPE];\n    var script_attrs = bk_div.children[0].attributes;\n    for (var i = 0; i < script_attrs.length; i++) {\n      toinsert[toinsert.length - 1].childNodes[1].setAttribute(script_attrs[i].name, script_attrs[i].value);\n    }\n    // store reference to server id on output_area\n    output_area._bokeh_server_id = output.metadata[EXEC_MIME_TYPE][\"server_id\"];\n  }\n}\n\n/**\n * Handle when an output is cleared or removed\n */\nfunction handle_clear_output(event, handle) {\n  var id = handle.cell.output_area._hv_plot_id;\n  var server_id = handle.cell.output_area._bokeh_server_id;\n  if (((id === undefined) || !(id in PyViz.plot_index)) && (server_id !== undefined)) { return; }\n  var comm = window.PyViz.comm_manager.get_client_comm(\"hv-extension-comm\", \"hv-extension-comm\", function () {});\n  if (server_id !== null) {\n    comm.send({event_type: 'server_delete', 'id': server_id});\n    return;\n  } else if (comm !== null) {\n    comm.send({event_type: 'delete', 'id': id});\n  }\n  delete PyViz.plot_index[id];\n  if ((window.Bokeh !== undefined) & (id in window.Bokeh.index)) {\n    var doc = window.Bokeh.index[id].model.document\n    doc.clear();\n    const i = window.Bokeh.documents.indexOf(doc);\n    if (i > -1) {\n      window.Bokeh.documents.splice(i, 1);\n    }\n  }\n}\n\n/**\n * Handle kernel restart event\n */\nfunction handle_kernel_cleanup(event, handle) {\n  delete PyViz.comms[\"hv-extension-comm\"];\n  window.PyViz.plot_index = {}\n}\n\n/**\n * Handle update_display_data messages\n */\nfunction handle_update_output(event, handle) {\n  handle_clear_output(event, {cell: {output_area: handle.output_area}})\n  handle_add_output(event, handle)\n}\n\nfunction register_renderer(events, OutputArea) {\n  function append_mime(data, metadata, element) {\n    // create a DOM node to render to\n    var toinsert = this.create_output_subarea(\n    metadata,\n    CLASS_NAME,\n    EXEC_MIME_TYPE\n    );\n    this.keyboard_manager.register_events(toinsert);\n    // Render to node\n    var props = {data: data, metadata: metadata[EXEC_MIME_TYPE]};\n    render(props, toinsert[0]);\n    element.append(toinsert);\n    return toinsert\n  }\n\n  events.on('output_added.OutputArea', handle_add_output);\n  events.on('output_updated.OutputArea', handle_update_output);\n  events.on('clear_output.CodeCell', handle_clear_output);\n  events.on('delete.Cell', handle_clear_output);\n  events.on('kernel_ready.Kernel', handle_kernel_cleanup);\n\n  OutputArea.prototype.register_mime_type(EXEC_MIME_TYPE, append_mime, {\n    safe: true,\n    index: 0\n  });\n}\n\nif (window.Jupyter !== undefined) {\n  try {\n    var events = require('base/js/events');\n    var OutputArea = require('notebook/js/outputarea').OutputArea;\n    if (OutputArea.prototype.mime_types().indexOf(EXEC_MIME_TYPE) == -1) {\n      register_renderer(events, OutputArea);\n    }\n  } catch(err) {\n  }\n}\n"
     },
     "metadata": {},
     "output_type": "display_data"
    }
   ],
   "source": [
    "import panel as pn\n",
    "\n",
    "pn.extension()"
   ]
  },
  {
   "cell_type": "markdown",
   "metadata": {},
   "source": [
    "## pn.interact\n",
    "\n",
    "Before we get into the details of how Panel allows you to render and lay out objects we will dive straight in and use Panel's `interact` function, modeled on the similar function in `ipywidgets`, to get a simple interactive app immediately. For instance, if you have a function that returns a row of a dataframe given an index, you can very easily make a panel with a widget to control the row displayed."
   ]
  },
  {
   "cell_type": "code",
   "execution_count": 3,
   "metadata": {},
   "outputs": [
    {
     "data": {},
     "metadata": {},
     "output_type": "display_data"
    },
    {
     "data": {
      "application/vnd.holoviews_exec.v0+json": "",
      "text/html": [
       "<div id='1002'>\n",
       "\n",
       "\n",
       "\n",
       "\n",
       "\n",
       "  <div class=\"bk-root\" id=\"a17d6a73-a541-4b2b-aa87-c6e08e85299c\" data-root-id=\"1002\"></div>\n",
       "</div>\n",
       "<script type=\"application/javascript\">(function(root) {\n",
       "  function embed_document(root) {\n",
       "    var docs_json = {\"ec70523d-589e-4c2b-8fdb-830458155933\":{\"defs\":[{\"extends\":null,\"module\":null,\"name\":\"ReactiveHTML1\",\"overrides\":[],\"properties\":[]},{\"extends\":null,\"module\":null,\"name\":\"FlexBox1\",\"overrides\":[],\"properties\":[{\"default\":\"flex-start\",\"kind\":null,\"name\":\"align_content\"},{\"default\":\"flex-start\",\"kind\":null,\"name\":\"align_items\"},{\"default\":\"row\",\"kind\":null,\"name\":\"flex_direction\"},{\"default\":\"wrap\",\"kind\":null,\"name\":\"flex_wrap\"},{\"default\":\"flex-start\",\"kind\":null,\"name\":\"justify_content\"}]},{\"extends\":null,\"module\":null,\"name\":\"TemplateActions1\",\"overrides\":[],\"properties\":[{\"default\":0,\"kind\":null,\"name\":\"open_modal\"},{\"default\":0,\"kind\":null,\"name\":\"close_modal\"}]},{\"extends\":null,\"module\":null,\"name\":\"MaterialTemplateActions1\",\"overrides\":[],\"properties\":[{\"default\":0,\"kind\":null,\"name\":\"open_modal\"},{\"default\":0,\"kind\":null,\"name\":\"close_modal\"}]}],\"roots\":{\"references\":[{\"attributes\":{\"children\":[{\"id\":\"1004\"}],\"margin\":[0,0,0,0],\"name\":\"Column00107\"},\"id\":\"1003\",\"type\":\"Column\"},{\"attributes\":{\"children\":[{\"id\":\"1006\"}],\"margin\":[0,0,0,0],\"name\":\"Row00106\"},\"id\":\"1005\",\"type\":\"Row\"},{\"attributes\":{\"children\":[{\"id\":\"1003\"},{\"id\":\"1005\"}],\"margin\":[0,0,0,0],\"name\":\"Column00102\"},\"id\":\"1002\",\"type\":\"Column\"},{\"attributes\":{\"end\":764430,\"margin\":[5,10,5,10],\"start\":0,\"title\":\"row\",\"value\":0},\"id\":\"1004\",\"type\":\"Slider\"},{\"attributes\":{\"margin\":[5,5,5,5],\"name\":\"interactive00101\",\"text\":\"&lt;style type=&quot;text/css&quot;&gt;\\n&lt;/style&gt;\\n&lt;table id=&quot;T_1d064_&quot;&gt;\\n  &lt;thead&gt;\\n    &lt;tr&gt;\\n      &lt;th class=&quot;blank level0&quot; &gt;&amp;nbsp;&lt;/th&gt;\\n      &lt;th class=&quot;col_heading level0 col0&quot; &gt;0&lt;/th&gt;\\n    &lt;/tr&gt;\\n  &lt;/thead&gt;\\n  &lt;tbody&gt;\\n    &lt;tr&gt;\\n      &lt;th id=&quot;T_1d064_level0_row0&quot; class=&quot;row_heading level0 row0&quot; &gt;station&lt;/th&gt;\\n      &lt;td id=&quot;T_1d064_row0_col0&quot; class=&quot;data row0 col0&quot; &gt;41001&lt;/td&gt;\\n    &lt;/tr&gt;\\n    &lt;tr&gt;\\n      &lt;th id=&quot;T_1d064_level0_row1&quot; class=&quot;row_heading level0 row1&quot; &gt;latitude&lt;/th&gt;\\n      &lt;td id=&quot;T_1d064_row1_col0&quot; class=&quot;data row1 col0&quot; &gt;34.675000&lt;/td&gt;\\n    &lt;/tr&gt;\\n    &lt;tr&gt;\\n      &lt;th id=&quot;T_1d064_level0_row2&quot; class=&quot;row_heading level0 row2&quot; &gt;longitude&lt;/th&gt;\\n      &lt;td id=&quot;T_1d064_row2_col0&quot; class=&quot;data row2 col0&quot; &gt;-72.698000&lt;/td&gt;\\n    &lt;/tr&gt;\\n    &lt;tr&gt;\\n      &lt;th id=&quot;T_1d064_level0_row3&quot; class=&quot;row_heading level0 row3&quot; &gt;time&lt;/th&gt;\\n      &lt;td id=&quot;T_1d064_row3_col0&quot; class=&quot;data row3 col0&quot; &gt;2021-01-01T00:40:00Z&lt;/td&gt;\\n    &lt;/tr&gt;\\n    &lt;tr&gt;\\n      &lt;th id=&quot;T_1d064_level0_row4&quot; class=&quot;row_heading level0 row4&quot; &gt;wvht&lt;/th&gt;\\n      &lt;td id=&quot;T_1d064_row4_col0&quot; class=&quot;data row4 col0&quot; &gt;2.140000&lt;/td&gt;\\n    &lt;/tr&gt;\\n    &lt;tr&gt;\\n      &lt;th id=&quot;T_1d064_level0_row5&quot; class=&quot;row_heading level0 row5&quot; &gt;wspd&lt;/th&gt;\\n      &lt;td id=&quot;T_1d064_row5_col0&quot; class=&quot;data row5 col0&quot; &gt;10.000000&lt;/td&gt;\\n    &lt;/tr&gt;\\n    &lt;tr&gt;\\n      &lt;th id=&quot;T_1d064_level0_row6&quot; class=&quot;row_heading level0 row6&quot; &gt;gst&lt;/th&gt;\\n      &lt;td id=&quot;T_1d064_row6_col0&quot; class=&quot;data row6 col0&quot; &gt;12.800000&lt;/td&gt;\\n    &lt;/tr&gt;\\n  &lt;/tbody&gt;\\n&lt;/table&gt;\\n\"},\"id\":\"1006\",\"type\":\"panel.models.markup.HTML\"},{\"attributes\":{\"client_comm_id\":\"38d1809c4f3849a7b372623bcd9ee9bc\",\"comm_id\":\"c6ee9a5688cc4b23a5d4c6bba9622e33\",\"plot_id\":\"1002\"},\"id\":\"1007\",\"type\":\"panel.models.comm_manager.CommManager\"},{\"attributes\":{\"reload\":false},\"id\":\"1008\",\"type\":\"panel.models.location.Location\"}],\"root_ids\":[\"1002\",\"1007\",\"1008\"]},\"title\":\"Bokeh Application\",\"version\":\"2.3.3\"}};\n",
       "    var render_items = [{\"docid\":\"ec70523d-589e-4c2b-8fdb-830458155933\",\"root_ids\":[\"1002\"],\"roots\":{\"1002\":\"a17d6a73-a541-4b2b-aa87-c6e08e85299c\"}}];\n",
       "    root.Bokeh.embed.embed_items_notebook(docs_json, render_items);\n",
       "  }\n",
       "  if (root.Bokeh !== undefined && root.Bokeh.Panel !== undefined) {\n",
       "    embed_document(root);\n",
       "  } else {\n",
       "    var attempts = 0;\n",
       "    var timer = setInterval(function(root) {\n",
       "      if (root.Bokeh !== undefined && root.Bokeh.Panel !== undefined) {\n",
       "        clearInterval(timer);\n",
       "        embed_document(root);\n",
       "      } else if (document.readyState == \"complete\") {\n",
       "        attempts++;\n",
       "        if (attempts > 200) {\n",
       "          clearInterval(timer);\n",
       "          console.log(\"Bokeh: ERROR: Unable to run BokehJS code because BokehJS library is missing\");\n",
       "        }\n",
       "      }\n",
       "    }, 25, root)\n",
       "  }\n",
       "})(window);</script>"
      ],
      "text/plain": [
       "Column\n",
       "    [0] Column\n",
       "        [0] IntSlider(end=764430, name='row')\n",
       "    [1] Row\n",
       "        [0] HTML(Styler, name='interactive00101')"
      ]
     },
     "execution_count": 3,
     "metadata": {
      "application/vnd.holoviews_exec.v0+json": {
       "id": "1002"
      }
     },
     "output_type": "execute_result"
    }
   ],
   "source": [
    "def select_row(row=0):\n",
    "    row = df.loc[row].to_frame()\n",
    "    return row.style.format({\"time\": lambda t: t.strftime(\"%c\")})\n",
    "\n",
    "pn.interact(select_row, row=(0, len(df)-1))"
   ]
  },
  {
   "cell_type": "markdown",
   "metadata": {},
   "source": [
    "This approach can be used for any function that returns a displayable object, calling the function whenever one of the parameters of that function has changed.  \n",
    "\n",
    "In the spirit of \"shortcuts, not dead ends\", let's see what's in the object returned by `interact`:"
   ]
  },
  {
   "cell_type": "code",
   "execution_count": 4,
   "metadata": {},
   "outputs": [
    {
     "name": "stdout",
     "output_type": "stream",
     "text": [
      "Column\n",
      "    [0] Column\n",
      "        [0] IntSlider(end=764430, name='row')\n",
      "    [1] Row\n",
      "        [0] HTML(Styler, name='interactive00111')\n"
     ]
    }
   ],
   "source": [
    "app = pn.interact(select_row, row=(0, len(df)-1))\n",
    "\n",
    "print(app)"
   ]
  },
  {
   "cell_type": "markdown",
   "metadata": {},
   "source": [
    "Here, `interact` has constructed a Column panel consisting of one Column of widgets (with one widget), and one Row of output (with one HTML pane). This object, once created, is a full compositional Panel object, and can be reconfigured and expanded with additional content if you wish, without breaking the connections between widgets and values:"
   ]
  },
  {
   "cell_type": "code",
   "execution_count": 5,
   "metadata": {},
   "outputs": [
    {
     "data": {},
     "metadata": {},
     "output_type": "display_data"
    },
    {
     "data": {
      "application/vnd.holoviews_exec.v0+json": "",
      "text/html": [
       "<div id='1009'>\n",
       "\n",
       "\n",
       "\n",
       "\n",
       "\n",
       "  <div class=\"bk-root\" id=\"920314ff-b78b-4c72-9fe6-7b1220915b12\" data-root-id=\"1009\"></div>\n",
       "</div>\n",
       "<script type=\"application/javascript\">(function(root) {\n",
       "  function embed_document(root) {\n",
       "    var docs_json = {\"9bc3ce74-5e85-4a1f-987e-18d1c261acfb\":{\"defs\":[{\"extends\":null,\"module\":null,\"name\":\"ReactiveHTML1\",\"overrides\":[],\"properties\":[]},{\"extends\":null,\"module\":null,\"name\":\"FlexBox1\",\"overrides\":[],\"properties\":[{\"default\":\"flex-start\",\"kind\":null,\"name\":\"align_content\"},{\"default\":\"flex-start\",\"kind\":null,\"name\":\"align_items\"},{\"default\":\"row\",\"kind\":null,\"name\":\"flex_direction\"},{\"default\":\"wrap\",\"kind\":null,\"name\":\"flex_wrap\"},{\"default\":\"flex-start\",\"kind\":null,\"name\":\"justify_content\"}]},{\"extends\":null,\"module\":null,\"name\":\"TemplateActions1\",\"overrides\":[],\"properties\":[{\"default\":0,\"kind\":null,\"name\":\"open_modal\"},{\"default\":0,\"kind\":null,\"name\":\"close_modal\"}]},{\"extends\":null,\"module\":null,\"name\":\"MaterialTemplateActions1\",\"overrides\":[],\"properties\":[{\"default\":0,\"kind\":null,\"name\":\"open_modal\"},{\"default\":0,\"kind\":null,\"name\":\"close_modal\"}]}],\"roots\":{\"references\":[{\"attributes\":{\"client_comm_id\":\"06ecf3c08f9246a69b65c9c2a4723670\",\"comm_id\":\"5a7af82b97de4f8a9784f249301debb5\",\"plot_id\":\"1009\"},\"id\":\"1016\",\"type\":\"panel.models.comm_manager.CommManager\"},{\"attributes\":{\"end\":764430,\"margin\":[5,10,5,10],\"start\":0,\"title\":\"row\",\"value\":0},\"id\":\"1013\",\"type\":\"Slider\"},{\"attributes\":{\"css_classes\":[\"markdown\"],\"margin\":[5,5,5,5],\"name\":\"Markdown00119\",\"text\":\"&lt;h2&gt;Choose a row&lt;/h2&gt;\"},\"id\":\"1010\",\"type\":\"panel.models.markup.HTML\"},{\"attributes\":{\"children\":[{\"id\":\"1010\"},{\"id\":\"1011\"}],\"margin\":[0,0,0,0],\"name\":\"Column00121\"},\"id\":\"1009\",\"type\":\"Column\"},{\"attributes\":{\"margin\":[5,5,5,5],\"name\":\"interactive00111\",\"text\":\"&lt;style type=&quot;text/css&quot;&gt;\\n&lt;/style&gt;\\n&lt;table id=&quot;T_1bb3c_&quot;&gt;\\n  &lt;thead&gt;\\n    &lt;tr&gt;\\n      &lt;th class=&quot;blank level0&quot; &gt;&amp;nbsp;&lt;/th&gt;\\n      &lt;th class=&quot;col_heading level0 col0&quot; &gt;0&lt;/th&gt;\\n    &lt;/tr&gt;\\n  &lt;/thead&gt;\\n  &lt;tbody&gt;\\n    &lt;tr&gt;\\n      &lt;th id=&quot;T_1bb3c_level0_row0&quot; class=&quot;row_heading level0 row0&quot; &gt;station&lt;/th&gt;\\n      &lt;td id=&quot;T_1bb3c_row0_col0&quot; class=&quot;data row0 col0&quot; &gt;41001&lt;/td&gt;\\n    &lt;/tr&gt;\\n    &lt;tr&gt;\\n      &lt;th id=&quot;T_1bb3c_level0_row1&quot; class=&quot;row_heading level0 row1&quot; &gt;latitude&lt;/th&gt;\\n      &lt;td id=&quot;T_1bb3c_row1_col0&quot; class=&quot;data row1 col0&quot; &gt;34.675000&lt;/td&gt;\\n    &lt;/tr&gt;\\n    &lt;tr&gt;\\n      &lt;th id=&quot;T_1bb3c_level0_row2&quot; class=&quot;row_heading level0 row2&quot; &gt;longitude&lt;/th&gt;\\n      &lt;td id=&quot;T_1bb3c_row2_col0&quot; class=&quot;data row2 col0&quot; &gt;-72.698000&lt;/td&gt;\\n    &lt;/tr&gt;\\n    &lt;tr&gt;\\n      &lt;th id=&quot;T_1bb3c_level0_row3&quot; class=&quot;row_heading level0 row3&quot; &gt;time&lt;/th&gt;\\n      &lt;td id=&quot;T_1bb3c_row3_col0&quot; class=&quot;data row3 col0&quot; &gt;2021-01-01T00:40:00Z&lt;/td&gt;\\n    &lt;/tr&gt;\\n    &lt;tr&gt;\\n      &lt;th id=&quot;T_1bb3c_level0_row4&quot; class=&quot;row_heading level0 row4&quot; &gt;wvht&lt;/th&gt;\\n      &lt;td id=&quot;T_1bb3c_row4_col0&quot; class=&quot;data row4 col0&quot; &gt;2.140000&lt;/td&gt;\\n    &lt;/tr&gt;\\n    &lt;tr&gt;\\n      &lt;th id=&quot;T_1bb3c_level0_row5&quot; class=&quot;row_heading level0 row5&quot; &gt;wspd&lt;/th&gt;\\n      &lt;td id=&quot;T_1bb3c_row5_col0&quot; class=&quot;data row5 col0&quot; &gt;10.000000&lt;/td&gt;\\n    &lt;/tr&gt;\\n    &lt;tr&gt;\\n      &lt;th id=&quot;T_1bb3c_level0_row6&quot; class=&quot;row_heading level0 row6&quot; &gt;gst&lt;/th&gt;\\n      &lt;td id=&quot;T_1bb3c_row6_col0&quot; class=&quot;data row6 col0&quot; &gt;12.800000&lt;/td&gt;\\n    &lt;/tr&gt;\\n  &lt;/tbody&gt;\\n&lt;/table&gt;\\n\"},\"id\":\"1015\",\"type\":\"panel.models.markup.HTML\"},{\"attributes\":{\"children\":[{\"id\":\"1012\"},{\"id\":\"1014\"}],\"margin\":[0,0,0,0],\"name\":\"Row00118\"},\"id\":\"1011\",\"type\":\"Row\"},{\"attributes\":{\"children\":[{\"id\":\"1015\"}],\"margin\":[0,0,0,0],\"name\":\"Row00116\"},\"id\":\"1014\",\"type\":\"Row\"},{\"attributes\":{\"children\":[{\"id\":\"1013\"}],\"margin\":[0,0,0,0],\"name\":\"Column00117\"},\"id\":\"1012\",\"type\":\"Column\"}],\"root_ids\":[\"1009\",\"1016\"]},\"title\":\"Bokeh Application\",\"version\":\"2.3.3\"}};\n",
       "    var render_items = [{\"docid\":\"9bc3ce74-5e85-4a1f-987e-18d1c261acfb\",\"root_ids\":[\"1009\"],\"roots\":{\"1009\":\"920314ff-b78b-4c72-9fe6-7b1220915b12\"}}];\n",
       "    root.Bokeh.embed.embed_items_notebook(docs_json, render_items);\n",
       "  }\n",
       "  if (root.Bokeh !== undefined && root.Bokeh.Panel !== undefined) {\n",
       "    embed_document(root);\n",
       "  } else {\n",
       "    var attempts = 0;\n",
       "    var timer = setInterval(function(root) {\n",
       "      if (root.Bokeh !== undefined && root.Bokeh.Panel !== undefined) {\n",
       "        clearInterval(timer);\n",
       "        embed_document(root);\n",
       "      } else if (document.readyState == \"complete\") {\n",
       "        attempts++;\n",
       "        if (attempts > 200) {\n",
       "          clearInterval(timer);\n",
       "          console.log(\"Bokeh: ERROR: Unable to run BokehJS code because BokehJS library is missing\");\n",
       "        }\n",
       "      }\n",
       "    }, 25, root)\n",
       "  }\n",
       "})(window);</script>"
      ],
      "text/plain": [
       "Column\n",
       "    [0] Markdown(str)\n",
       "    [1] Row\n",
       "        [0] Column\n",
       "            [0] IntSlider(end=764430, name='row')\n",
       "        [1] Row\n",
       "            [0] HTML(Styler, name='interactive00111')"
      ]
     },
     "execution_count": 5,
     "metadata": {
      "application/vnd.holoviews_exec.v0+json": {
       "id": "1009"
      }
     },
     "output_type": "execute_result"
    }
   ],
   "source": [
    "pn.Column(\"## Choose a row\", pn.Row(app[0], app[1]))"
   ]
  },
  {
   "cell_type": "markdown",
   "metadata": {},
   "source": [
    "Hopefully from this simple example you can see the sorts of things Panel can do. In the rest of this section we'll cover some of the items you can use in a panel and how to compose them. In the subsequent section we will dive into how to set up widgets and their relationships explicitly, and then build a custom dashboard as an exercise.  For now, we won't show code for any particular plotting library, but if you have a favorite one already, you should be able to use it with Panel in the exercises.\n",
    "\n",
    "## Component types\n",
    "\n",
    "Before we start building more interactive apps, we will learn about the three main types of components in Panel:\n",
    "\n",
    "* **Pane**: A Pane provides a view of an external object (text, image, plot, etc.) by wrapping it\n",
    "* **Panel**: A Panel lays out multiple components in a row, column, or grid.\n",
    "* **Widget**: A Widget provides input controls to add interactive features to your Panel.\n",
    "\n",
    "If you ever want to discover how a particular component works, see the [reference gallery](https://panel.pyviz.org/reference/index.html).\n",
    "\n",
    "## Displaying content\n",
    "\n",
    "The fundamental concept behind Panel is that it transforms the objects you give it into a viewable object that can be composed into a layout and updated dynamically. In this tutorial we will be building a dashboard visualizing a dataset of earthquake events, so let us start by displaying a title using the `pn.panel` function:"
   ]
  },
  {
   "cell_type": "code",
   "execution_count": 6,
   "metadata": {},
   "outputs": [
    {
     "data": {},
     "metadata": {},
     "output_type": "display_data"
    },
    {
     "data": {
      "application/vnd.holoviews_exec.v0+json": "",
      "text/html": [
       "<div id='1017'>\n",
       "\n",
       "\n",
       "\n",
       "\n",
       "\n",
       "  <div class=\"bk-root\" id=\"027999bb-b8b4-458a-856a-b78d2db33fa3\" data-root-id=\"1017\"></div>\n",
       "</div>\n",
       "<script type=\"application/javascript\">(function(root) {\n",
       "  function embed_document(root) {\n",
       "    var docs_json = {\"73bb9311-09d8-4125-b99e-75d36b4dadbb\":{\"defs\":[{\"extends\":null,\"module\":null,\"name\":\"ReactiveHTML1\",\"overrides\":[],\"properties\":[]},{\"extends\":null,\"module\":null,\"name\":\"FlexBox1\",\"overrides\":[],\"properties\":[{\"default\":\"flex-start\",\"kind\":null,\"name\":\"align_content\"},{\"default\":\"flex-start\",\"kind\":null,\"name\":\"align_items\"},{\"default\":\"row\",\"kind\":null,\"name\":\"flex_direction\"},{\"default\":\"wrap\",\"kind\":null,\"name\":\"flex_wrap\"},{\"default\":\"flex-start\",\"kind\":null,\"name\":\"justify_content\"}]},{\"extends\":null,\"module\":null,\"name\":\"TemplateActions1\",\"overrides\":[],\"properties\":[{\"default\":0,\"kind\":null,\"name\":\"open_modal\"},{\"default\":0,\"kind\":null,\"name\":\"close_modal\"}]},{\"extends\":null,\"module\":null,\"name\":\"MaterialTemplateActions1\",\"overrides\":[],\"properties\":[{\"default\":0,\"kind\":null,\"name\":\"open_modal\"},{\"default\":0,\"kind\":null,\"name\":\"close_modal\"}]}],\"roots\":{\"references\":[{\"attributes\":{\"css_classes\":[\"markdown\"],\"margin\":[5,5,5,5],\"name\":\"Markdown00124\",\"text\":\"&lt;h2&gt;Major Waves Dashboard&lt;/h2&gt;\"},\"id\":\"1017\",\"type\":\"panel.models.markup.HTML\"},{\"attributes\":{\"client_comm_id\":\"b097a697e0f74e5fa2ec954088fb23b9\",\"comm_id\":\"d608b05159784ee4859ab957662220f1\",\"plot_id\":\"1017\"},\"id\":\"1018\",\"type\":\"panel.models.comm_manager.CommManager\"}],\"root_ids\":[\"1017\",\"1018\"]},\"title\":\"Bokeh Application\",\"version\":\"2.3.3\"}};\n",
       "    var render_items = [{\"docid\":\"73bb9311-09d8-4125-b99e-75d36b4dadbb\",\"root_ids\":[\"1017\"],\"roots\":{\"1017\":\"027999bb-b8b4-458a-856a-b78d2db33fa3\"}}];\n",
       "    root.Bokeh.embed.embed_items_notebook(docs_json, render_items);\n",
       "  }\n",
       "  if (root.Bokeh !== undefined && root.Bokeh.Panel !== undefined) {\n",
       "    embed_document(root);\n",
       "  } else {\n",
       "    var attempts = 0;\n",
       "    var timer = setInterval(function(root) {\n",
       "      if (root.Bokeh !== undefined && root.Bokeh.Panel !== undefined) {\n",
       "        clearInterval(timer);\n",
       "        embed_document(root);\n",
       "      } else if (document.readyState == \"complete\") {\n",
       "        attempts++;\n",
       "        if (attempts > 200) {\n",
       "          clearInterval(timer);\n",
       "          console.log(\"Bokeh: ERROR: Unable to run BokehJS code because BokehJS library is missing\");\n",
       "        }\n",
       "      }\n",
       "    }, 25, root)\n",
       "  }\n",
       "})(window);</script>"
      ],
      "text/plain": [
       "Markdown(str)"
      ]
     },
     "execution_count": 6,
     "metadata": {
      "application/vnd.holoviews_exec.v0+json": {
       "id": "1017"
      }
     },
     "output_type": "execute_result"
    }
   ],
   "source": [
    "title = pn.panel('## Major Waves Dashboard')\n",
    "\n",
    "title"
   ]
  },
  {
   "cell_type": "code",
   "execution_count": 7,
   "metadata": {},
   "outputs": [
    {
     "data": {
      "text/html": [
       "<div>\n",
       "<style scoped>\n",
       "    .dataframe tbody tr th:only-of-type {\n",
       "        vertical-align: middle;\n",
       "    }\n",
       "\n",
       "    .dataframe tbody tr th {\n",
       "        vertical-align: top;\n",
       "    }\n",
       "\n",
       "    .dataframe thead th {\n",
       "        text-align: right;\n",
       "    }\n",
       "</style>\n",
       "<table border=\"1\" class=\"dataframe\">\n",
       "  <thead>\n",
       "    <tr style=\"text-align: right;\">\n",
       "      <th></th>\n",
       "      <th>station</th>\n",
       "      <th>latitude</th>\n",
       "      <th>longitude</th>\n",
       "      <th>time</th>\n",
       "      <th>wvht</th>\n",
       "      <th>wspd</th>\n",
       "      <th>gst</th>\n",
       "    </tr>\n",
       "  </thead>\n",
       "  <tbody>\n",
       "    <tr>\n",
       "      <th>0</th>\n",
       "      <td>41001</td>\n",
       "      <td>34.675</td>\n",
       "      <td>-72.698</td>\n",
       "      <td>2021-01-01T00:40:00Z</td>\n",
       "      <td>2.14</td>\n",
       "      <td>10.0</td>\n",
       "      <td>12.8</td>\n",
       "    </tr>\n",
       "    <tr>\n",
       "      <th>1</th>\n",
       "      <td>41001</td>\n",
       "      <td>34.675</td>\n",
       "      <td>-72.698</td>\n",
       "      <td>2021-01-01T01:40:00Z</td>\n",
       "      <td>2.23</td>\n",
       "      <td>10.6</td>\n",
       "      <td>12.9</td>\n",
       "    </tr>\n",
       "    <tr>\n",
       "      <th>2</th>\n",
       "      <td>41001</td>\n",
       "      <td>34.675</td>\n",
       "      <td>-72.698</td>\n",
       "      <td>2021-01-01T02:40:00Z</td>\n",
       "      <td>2.07</td>\n",
       "      <td>10.6</td>\n",
       "      <td>13.3</td>\n",
       "    </tr>\n",
       "    <tr>\n",
       "      <th>3</th>\n",
       "      <td>41001</td>\n",
       "      <td>34.675</td>\n",
       "      <td>-72.698</td>\n",
       "      <td>2021-01-01T03:40:00Z</td>\n",
       "      <td>1.97</td>\n",
       "      <td>9.2</td>\n",
       "      <td>11.6</td>\n",
       "    </tr>\n",
       "    <tr>\n",
       "      <th>4</th>\n",
       "      <td>41001</td>\n",
       "      <td>34.675</td>\n",
       "      <td>-72.698</td>\n",
       "      <td>2021-01-01T04:40:00Z</td>\n",
       "      <td>1.94</td>\n",
       "      <td>9.2</td>\n",
       "      <td>11.3</td>\n",
       "    </tr>\n",
       "    <tr>\n",
       "      <th>...</th>\n",
       "      <td>...</td>\n",
       "      <td>...</td>\n",
       "      <td>...</td>\n",
       "      <td>...</td>\n",
       "      <td>...</td>\n",
       "      <td>...</td>\n",
       "      <td>...</td>\n",
       "    </tr>\n",
       "    <tr>\n",
       "      <th>764426</th>\n",
       "      <td>SSBN7</td>\n",
       "      <td>33.848</td>\n",
       "      <td>-78.482</td>\n",
       "      <td>2021-07-31T07:17:00Z</td>\n",
       "      <td>1.00</td>\n",
       "      <td>NaN</td>\n",
       "      <td>NaN</td>\n",
       "    </tr>\n",
       "    <tr>\n",
       "      <th>764427</th>\n",
       "      <td>SSBN7</td>\n",
       "      <td>33.848</td>\n",
       "      <td>-78.482</td>\n",
       "      <td>2021-07-31T08:17:00Z</td>\n",
       "      <td>1.00</td>\n",
       "      <td>NaN</td>\n",
       "      <td>NaN</td>\n",
       "    </tr>\n",
       "    <tr>\n",
       "      <th>764428</th>\n",
       "      <td>SSBN7</td>\n",
       "      <td>33.848</td>\n",
       "      <td>-78.482</td>\n",
       "      <td>2021-07-31T22:47:00Z</td>\n",
       "      <td>1.00</td>\n",
       "      <td>NaN</td>\n",
       "      <td>NaN</td>\n",
       "    </tr>\n",
       "    <tr>\n",
       "      <th>764429</th>\n",
       "      <td>SSBN7</td>\n",
       "      <td>33.848</td>\n",
       "      <td>-78.482</td>\n",
       "      <td>2021-07-31T23:17:00Z</td>\n",
       "      <td>1.00</td>\n",
       "      <td>NaN</td>\n",
       "      <td>NaN</td>\n",
       "    </tr>\n",
       "    <tr>\n",
       "      <th>764430</th>\n",
       "      <td>SSBN7</td>\n",
       "      <td>33.848</td>\n",
       "      <td>-78.482</td>\n",
       "      <td>2021-07-31T23:47:00Z</td>\n",
       "      <td>1.00</td>\n",
       "      <td>NaN</td>\n",
       "      <td>NaN</td>\n",
       "    </tr>\n",
       "  </tbody>\n",
       "</table>\n",
       "<p>764431 rows × 7 columns</p>\n",
       "</div>"
      ],
      "text/plain": [
       "       station  latitude  longitude                  time  wvht  wspd   gst\n",
       "0        41001    34.675    -72.698  2021-01-01T00:40:00Z  2.14  10.0  12.8\n",
       "1        41001    34.675    -72.698  2021-01-01T01:40:00Z  2.23  10.6  12.9\n",
       "2        41001    34.675    -72.698  2021-01-01T02:40:00Z  2.07  10.6  13.3\n",
       "3        41001    34.675    -72.698  2021-01-01T03:40:00Z  1.97   9.2  11.6\n",
       "4        41001    34.675    -72.698  2021-01-01T04:40:00Z  1.94   9.2  11.3\n",
       "...        ...       ...        ...                   ...   ...   ...   ...\n",
       "764426   SSBN7    33.848    -78.482  2021-07-31T07:17:00Z  1.00   NaN   NaN\n",
       "764427   SSBN7    33.848    -78.482  2021-07-31T08:17:00Z  1.00   NaN   NaN\n",
       "764428   SSBN7    33.848    -78.482  2021-07-31T22:47:00Z  1.00   NaN   NaN\n",
       "764429   SSBN7    33.848    -78.482  2021-07-31T23:17:00Z  1.00   NaN   NaN\n",
       "764430   SSBN7    33.848    -78.482  2021-07-31T23:47:00Z  1.00   NaN   NaN\n",
       "\n",
       "[764431 rows x 7 columns]"
      ]
     },
     "execution_count": 7,
     "metadata": {},
     "output_type": "execute_result"
    }
   ],
   "source": [
    "df"
   ]
  },
  {
   "cell_type": "markdown",
   "metadata": {},
   "source": [
    "To understand how Panel rendered this string we can take a look at the textual representation of this object:"
   ]
  },
  {
   "cell_type": "code",
   "execution_count": 8,
   "metadata": {},
   "outputs": [
    {
     "data": {
      "text/html": [
       "<div>\n",
       "<style scoped>\n",
       "    .dataframe tbody tr th:only-of-type {\n",
       "        vertical-align: middle;\n",
       "    }\n",
       "\n",
       "    .dataframe tbody tr th {\n",
       "        vertical-align: top;\n",
       "    }\n",
       "\n",
       "    .dataframe thead th {\n",
       "        text-align: right;\n",
       "    }\n",
       "</style>\n",
       "<table border=\"1\" class=\"dataframe\">\n",
       "  <thead>\n",
       "    <tr style=\"text-align: right;\">\n",
       "      <th></th>\n",
       "      <th>station</th>\n",
       "      <th>latitude</th>\n",
       "      <th>longitude</th>\n",
       "      <th>time</th>\n",
       "      <th>wvht</th>\n",
       "      <th>wspd</th>\n",
       "      <th>gst</th>\n",
       "    </tr>\n",
       "  </thead>\n",
       "  <tbody>\n",
       "    <tr>\n",
       "      <th>237298</th>\n",
       "      <td>46071</td>\n",
       "      <td>51.155</td>\n",
       "      <td>179.001</td>\n",
       "      <td>2021-01-01T00:50:00Z</td>\n",
       "      <td>17.68</td>\n",
       "      <td>NaN</td>\n",
       "      <td>NaN</td>\n",
       "    </tr>\n",
       "    <tr>\n",
       "      <th>237300</th>\n",
       "      <td>46071</td>\n",
       "      <td>51.155</td>\n",
       "      <td>179.001</td>\n",
       "      <td>2021-01-01T02:50:00Z</td>\n",
       "      <td>17.55</td>\n",
       "      <td>NaN</td>\n",
       "      <td>NaN</td>\n",
       "    </tr>\n",
       "    <tr>\n",
       "      <th>237301</th>\n",
       "      <td>46071</td>\n",
       "      <td>51.155</td>\n",
       "      <td>179.001</td>\n",
       "      <td>2021-01-01T03:50:00Z</td>\n",
       "      <td>17.30</td>\n",
       "      <td>NaN</td>\n",
       "      <td>NaN</td>\n",
       "    </tr>\n",
       "    <tr>\n",
       "      <th>237303</th>\n",
       "      <td>46071</td>\n",
       "      <td>51.155</td>\n",
       "      <td>179.001</td>\n",
       "      <td>2021-01-01T05:50:00Z</td>\n",
       "      <td>16.12</td>\n",
       "      <td>NaN</td>\n",
       "      <td>NaN</td>\n",
       "    </tr>\n",
       "    <tr>\n",
       "      <th>237302</th>\n",
       "      <td>46071</td>\n",
       "      <td>51.155</td>\n",
       "      <td>179.001</td>\n",
       "      <td>2021-01-01T04:50:00Z</td>\n",
       "      <td>15.94</td>\n",
       "      <td>NaN</td>\n",
       "      <td>NaN</td>\n",
       "    </tr>\n",
       "  </tbody>\n",
       "</table>\n",
       "</div>"
      ],
      "text/plain": [
       "       station  latitude  longitude                  time   wvht  wspd  gst\n",
       "237298   46071    51.155    179.001  2021-01-01T00:50:00Z  17.68   NaN  NaN\n",
       "237300   46071    51.155    179.001  2021-01-01T02:50:00Z  17.55   NaN  NaN\n",
       "237301   46071    51.155    179.001  2021-01-01T03:50:00Z  17.30   NaN  NaN\n",
       "237303   46071    51.155    179.001  2021-01-01T05:50:00Z  16.12   NaN  NaN\n",
       "237302   46071    51.155    179.001  2021-01-01T04:50:00Z  15.94   NaN  NaN"
      ]
     },
     "execution_count": 8,
     "metadata": {},
     "output_type": "execute_result"
    }
   ],
   "source": [
    "# top 5 waves in July 2021\n",
    "df_sorted = df.sort_values(by=['wvht'], ascending=False)\n",
    "df_sorted.head()"
   ]
  },
  {
   "cell_type": "markdown",
   "metadata": {},
   "source": [
    "Panel transformed the `str` object and wrapped it in a so-called `Markdown` `Pane`. The ``pn.panel`` function attempts to find the most appropriate representation for different objects whether it is a string, an image, or even a plot. So if we provide the location of a PNG file instead as a path or a URL, the ``panel`` function will automatically infer that it should be rendered as an image:"
   ]
  },
  {
   "cell_type": "code",
   "execution_count": 9,
   "metadata": {},
   "outputs": [
    {
     "data": {},
     "metadata": {},
     "output_type": "display_data"
    },
    {
     "data": {
      "application/vnd.holoviews_exec.v0+json": "",
      "text/html": [
       "<div id='1019'>\n",
       "\n",
       "\n",
       "\n",
       "\n",
       "\n",
       "  <div class=\"bk-root\" id=\"0392c2c0-4ae4-4951-991e-fede5a1b31c8\" data-root-id=\"1019\"></div>\n",
       "</div>\n",
       "<script type=\"application/javascript\">(function(root) {\n",
       "  function embed_document(root) {\n",
       "    var docs_json = {\"e1781a20-f15b-4c19-8eca-5cdae7ac7ed5\":{\"defs\":[{\"extends\":null,\"module\":null,\"name\":\"ReactiveHTML1\",\"overrides\":[],\"properties\":[]},{\"extends\":null,\"module\":null,\"name\":\"FlexBox1\",\"overrides\":[],\"properties\":[{\"default\":\"flex-start\",\"kind\":null,\"name\":\"align_content\"},{\"default\":\"flex-start\",\"kind\":null,\"name\":\"align_items\"},{\"default\":\"row\",\"kind\":null,\"name\":\"flex_direction\"},{\"default\":\"wrap\",\"kind\":null,\"name\":\"flex_wrap\"},{\"default\":\"flex-start\",\"kind\":null,\"name\":\"justify_content\"}]},{\"extends\":null,\"module\":null,\"name\":\"TemplateActions1\",\"overrides\":[],\"properties\":[{\"default\":0,\"kind\":null,\"name\":\"open_modal\"},{\"default\":0,\"kind\":null,\"name\":\"close_modal\"}]},{\"extends\":null,\"module\":null,\"name\":\"MaterialTemplateActions1\",\"overrides\":[],\"properties\":[{\"default\":0,\"kind\":null,\"name\":\"open_modal\"},{\"default\":0,\"kind\":null,\"name\":\"close_modal\"}]}],\"roots\":{\"references\":[{\"attributes\":{\"client_comm_id\":\"17f0f6ab95ad497a9139ca196dc0ad7b\",\"comm_id\":\"3f1ed4dcab454c678152673da4d4da81\",\"plot_id\":\"1019\"},\"id\":\"1020\",\"type\":\"panel.models.comm_manager.CommManager\"},{\"attributes\":{\"height\":130,\"margin\":[5,5,5,5],\"name\":\"PNG00128\",\"text\":\"&lt;img src=&quot;data:image/png;base64,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&quot; width=&quot;398px&quot; height=&quot;130px&quot; alt=&quot;&quot;&gt;&lt;/img&gt;\",\"width\":398},\"id\":\"1019\",\"type\":\"panel.models.markup.HTML\"}],\"root_ids\":[\"1019\",\"1020\"]},\"title\":\"Bokeh Application\",\"version\":\"2.3.3\"}};\n",
       "    var render_items = [{\"docid\":\"e1781a20-f15b-4c19-8eca-5cdae7ac7ed5\",\"root_ids\":[\"1019\"],\"roots\":{\"1019\":\"0392c2c0-4ae4-4951-991e-fede5a1b31c8\"}}];\n",
       "    root.Bokeh.embed.embed_items_notebook(docs_json, render_items);\n",
       "  }\n",
       "  if (root.Bokeh !== undefined && root.Bokeh.Panel !== undefined) {\n",
       "    embed_document(root);\n",
       "  } else {\n",
       "    var attempts = 0;\n",
       "    var timer = setInterval(function(root) {\n",
       "      if (root.Bokeh !== undefined && root.Bokeh.Panel !== undefined) {\n",
       "        clearInterval(timer);\n",
       "        embed_document(root);\n",
       "      } else if (document.readyState == \"complete\") {\n",
       "        attempts++;\n",
       "        if (attempts > 200) {\n",
       "          clearInterval(timer);\n",
       "          console.log(\"Bokeh: ERROR: Unable to run BokehJS code because BokehJS library is missing\");\n",
       "        }\n",
       "      }\n",
       "    }, 25, root)\n",
       "  }\n",
       "})(window);</script>"
      ],
      "text/plain": [
       "PNG(str, height=130)"
      ]
     },
     "execution_count": 9,
     "metadata": {
      "application/vnd.holoviews_exec.v0+json": {
       "id": "1019"
      }
     },
     "output_type": "execute_result"
    }
   ],
   "source": [
    "noaa_logo = pn.panel('../assets/noaa-lrg.png', height=130)\n",
    "noaa_logo"
   ]
  },
  {
   "cell_type": "markdown",
   "metadata": {},
   "source": [
    "The appropriate representation is resolved using a set of precedences, so it may sometimes be necessary to explicitly declare the type of Pane that is required. For example, if we want to display some `HTML`, which cannot easily be distinguished from Markdown, we can explicitly declare it by specifying the `HTML` Pane type from the `pn.pane` module:"
   ]
  },
  {
   "cell_type": "code",
   "execution_count": 10,
   "metadata": {},
   "outputs": [
    {
     "data": {},
     "metadata": {},
     "output_type": "display_data"
    },
    {
     "data": {
      "application/vnd.holoviews_exec.v0+json": "",
      "text/html": [
       "<div id='1021'>\n",
       "\n",
       "\n",
       "\n",
       "\n",
       "\n",
       "  <div class=\"bk-root\" id=\"e49e766c-67e2-481b-9863-581c56476cef\" data-root-id=\"1021\"></div>\n",
       "</div>\n",
       "<script type=\"application/javascript\">(function(root) {\n",
       "  function embed_document(root) {\n",
       "    var docs_json = {\"539c7922-a31f-437f-b52e-b467d1317f01\":{\"defs\":[{\"extends\":null,\"module\":null,\"name\":\"ReactiveHTML1\",\"overrides\":[],\"properties\":[]},{\"extends\":null,\"module\":null,\"name\":\"FlexBox1\",\"overrides\":[],\"properties\":[{\"default\":\"flex-start\",\"kind\":null,\"name\":\"align_content\"},{\"default\":\"flex-start\",\"kind\":null,\"name\":\"align_items\"},{\"default\":\"row\",\"kind\":null,\"name\":\"flex_direction\"},{\"default\":\"wrap\",\"kind\":null,\"name\":\"flex_wrap\"},{\"default\":\"flex-start\",\"kind\":null,\"name\":\"justify_content\"}]},{\"extends\":null,\"module\":null,\"name\":\"TemplateActions1\",\"overrides\":[],\"properties\":[{\"default\":0,\"kind\":null,\"name\":\"open_modal\"},{\"default\":0,\"kind\":null,\"name\":\"close_modal\"}]},{\"extends\":null,\"module\":null,\"name\":\"MaterialTemplateActions1\",\"overrides\":[],\"properties\":[{\"default\":0,\"kind\":null,\"name\":\"open_modal\"},{\"default\":0,\"kind\":null,\"name\":\"close_modal\"}]}],\"roots\":{\"references\":[{\"attributes\":{\"margin\":[5,5,5,5],\"name\":\"HTML00132\",\"text\":\"&lt;marquee width=500&gt;&lt;b&gt;Breaking news&lt;/b&gt;: Major waves off coast of Rat Islands&lt;/marquee&gt;\"},\"id\":\"1021\",\"type\":\"panel.models.markup.HTML\"},{\"attributes\":{\"client_comm_id\":\"3a29fd50407146ad8acd05edbdf30dd3\",\"comm_id\":\"85ae666c16954d1caa5bdf180f366ece\",\"plot_id\":\"1021\"},\"id\":\"1022\",\"type\":\"panel.models.comm_manager.CommManager\"}],\"root_ids\":[\"1021\",\"1022\"]},\"title\":\"Bokeh Application\",\"version\":\"2.3.3\"}};\n",
       "    var render_items = [{\"docid\":\"539c7922-a31f-437f-b52e-b467d1317f01\",\"root_ids\":[\"1021\"],\"roots\":{\"1021\":\"e49e766c-67e2-481b-9863-581c56476cef\"}}];\n",
       "    root.Bokeh.embed.embed_items_notebook(docs_json, render_items);\n",
       "  }\n",
       "  if (root.Bokeh !== undefined && root.Bokeh.Panel !== undefined) {\n",
       "    embed_document(root);\n",
       "  } else {\n",
       "    var attempts = 0;\n",
       "    var timer = setInterval(function(root) {\n",
       "      if (root.Bokeh !== undefined && root.Bokeh.Panel !== undefined) {\n",
       "        clearInterval(timer);\n",
       "        embed_document(root);\n",
       "      } else if (document.readyState == \"complete\") {\n",
       "        attempts++;\n",
       "        if (attempts > 200) {\n",
       "          clearInterval(timer);\n",
       "          console.log(\"Bokeh: ERROR: Unable to run BokehJS code because BokehJS library is missing\");\n",
       "        }\n",
       "      }\n",
       "    }, 25, root)\n",
       "  }\n",
       "})(window);</script>"
      ],
      "text/plain": [
       "HTML(str)"
      ]
     },
     "execution_count": 10,
     "metadata": {
      "application/vnd.holoviews_exec.v0+json": {
       "id": "1021"
      }
     },
     "output_type": "execute_result"
    }
   ],
   "source": [
    "pn.pane.HTML('<marquee width=500><b>Breaking news</b>: Major waves off coast of Rat Islands</marquee>')"
   ]
  },
  {
   "cell_type": "markdown",
   "metadata": {},
   "source": [
    "#### Exercise\n",
    "\n",
    "Use the ``pn.panel`` function to display some different types of objects, e.g. an image, a pandas dataframe or even a plot you made."
   ]
  },
  {
   "cell_type": "code",
   "execution_count": null,
   "metadata": {},
   "outputs": [],
   "source": []
  },
  {
   "cell_type": "markdown",
   "metadata": {},
   "source": [
    "Now construct the same type of object by explicitly constructing the appropriate type in the ``pn.pane`` module (Hint: Print the object in the previous example to find out what it is):"
   ]
  },
  {
   "cell_type": "markdown",
   "metadata": {},
   "source": [
    "## Laying out content\n",
    "\n",
    "In addition to `Pane` objects, Panel provides `Panel` objects that allow laying out components. The principal layouts are by ``Row`` or ``Column``. These components act just like a regular ``list`` in Python:"
   ]
  },
  {
   "cell_type": "code",
   "execution_count": 11,
   "metadata": {},
   "outputs": [
    {
     "data": {},
     "metadata": {},
     "output_type": "display_data"
    },
    {
     "data": {
      "application/vnd.holoviews_exec.v0+json": "",
      "text/html": [
       "<div id='1023'>\n",
       "\n",
       "\n",
       "\n",
       "\n",
       "\n",
       "  <div class=\"bk-root\" id=\"cbadcd8b-cb39-4527-b624-76fab859a50b\" data-root-id=\"1023\"></div>\n",
       "</div>\n",
       "<script type=\"application/javascript\">(function(root) {\n",
       "  function embed_document(root) {\n",
       "    var docs_json = {\"dc34d6f3-65b5-4c72-a321-4f0fc22eae73\":{\"defs\":[{\"extends\":null,\"module\":null,\"name\":\"ReactiveHTML1\",\"overrides\":[],\"properties\":[]},{\"extends\":null,\"module\":null,\"name\":\"FlexBox1\",\"overrides\":[],\"properties\":[{\"default\":\"flex-start\",\"kind\":null,\"name\":\"align_content\"},{\"default\":\"flex-start\",\"kind\":null,\"name\":\"align_items\"},{\"default\":\"row\",\"kind\":null,\"name\":\"flex_direction\"},{\"default\":\"wrap\",\"kind\":null,\"name\":\"flex_wrap\"},{\"default\":\"flex-start\",\"kind\":null,\"name\":\"justify_content\"}]},{\"extends\":null,\"module\":null,\"name\":\"TemplateActions1\",\"overrides\":[],\"properties\":[{\"default\":0,\"kind\":null,\"name\":\"open_modal\"},{\"default\":0,\"kind\":null,\"name\":\"close_modal\"}]},{\"extends\":null,\"module\":null,\"name\":\"MaterialTemplateActions1\",\"overrides\":[],\"properties\":[{\"default\":0,\"kind\":null,\"name\":\"open_modal\"},{\"default\":0,\"kind\":null,\"name\":\"close_modal\"}]}],\"roots\":{\"references\":[{\"attributes\":{\"css_classes\":[\"markdown\"],\"margin\":[5,5,5,5],\"name\":\"Markdown00124\",\"text\":\"&lt;h2&gt;Major Waves Dashboard&lt;/h2&gt;\"},\"id\":\"1024\",\"type\":\"panel.models.markup.HTML\"},{\"attributes\":{\"margin\":[5,5,5,5],\"name\":\"interactive00111\",\"text\":\"&lt;style type=&quot;text/css&quot;&gt;\\n&lt;/style&gt;\\n&lt;table id=&quot;T_1bb3c_&quot;&gt;\\n  &lt;thead&gt;\\n    &lt;tr&gt;\\n      &lt;th class=&quot;blank level0&quot; &gt;&amp;nbsp;&lt;/th&gt;\\n      &lt;th class=&quot;col_heading level0 col0&quot; &gt;0&lt;/th&gt;\\n    &lt;/tr&gt;\\n  &lt;/thead&gt;\\n  &lt;tbody&gt;\\n    &lt;tr&gt;\\n      &lt;th id=&quot;T_1bb3c_level0_row0&quot; class=&quot;row_heading level0 row0&quot; &gt;station&lt;/th&gt;\\n      &lt;td id=&quot;T_1bb3c_row0_col0&quot; class=&quot;data row0 col0&quot; &gt;41001&lt;/td&gt;\\n    &lt;/tr&gt;\\n    &lt;tr&gt;\\n      &lt;th id=&quot;T_1bb3c_level0_row1&quot; class=&quot;row_heading level0 row1&quot; &gt;latitude&lt;/th&gt;\\n      &lt;td id=&quot;T_1bb3c_row1_col0&quot; class=&quot;data row1 col0&quot; &gt;34.675000&lt;/td&gt;\\n    &lt;/tr&gt;\\n    &lt;tr&gt;\\n      &lt;th id=&quot;T_1bb3c_level0_row2&quot; class=&quot;row_heading level0 row2&quot; &gt;longitude&lt;/th&gt;\\n      &lt;td id=&quot;T_1bb3c_row2_col0&quot; class=&quot;data row2 col0&quot; &gt;-72.698000&lt;/td&gt;\\n    &lt;/tr&gt;\\n    &lt;tr&gt;\\n      &lt;th id=&quot;T_1bb3c_level0_row3&quot; class=&quot;row_heading level0 row3&quot; &gt;time&lt;/th&gt;\\n      &lt;td id=&quot;T_1bb3c_row3_col0&quot; class=&quot;data row3 col0&quot; &gt;2021-01-01T00:40:00Z&lt;/td&gt;\\n    &lt;/tr&gt;\\n    &lt;tr&gt;\\n      &lt;th id=&quot;T_1bb3c_level0_row4&quot; class=&quot;row_heading level0 row4&quot; &gt;wvht&lt;/th&gt;\\n      &lt;td id=&quot;T_1bb3c_row4_col0&quot; class=&quot;data row4 col0&quot; &gt;2.140000&lt;/td&gt;\\n    &lt;/tr&gt;\\n    &lt;tr&gt;\\n      &lt;th id=&quot;T_1bb3c_level0_row5&quot; class=&quot;row_heading level0 row5&quot; &gt;wspd&lt;/th&gt;\\n      &lt;td id=&quot;T_1bb3c_row5_col0&quot; class=&quot;data row5 col0&quot; &gt;10.000000&lt;/td&gt;\\n    &lt;/tr&gt;\\n    &lt;tr&gt;\\n      &lt;th id=&quot;T_1bb3c_level0_row6&quot; class=&quot;row_heading level0 row6&quot; &gt;gst&lt;/th&gt;\\n      &lt;td id=&quot;T_1bb3c_row6_col0&quot; class=&quot;data row6 col0&quot; &gt;12.800000&lt;/td&gt;\\n    &lt;/tr&gt;\\n  &lt;/tbody&gt;\\n&lt;/table&gt;\\n\"},\"id\":\"1030\",\"type\":\"panel.models.markup.HTML\"},{\"attributes\":{\"height\":130,\"margin\":[5,5,5,5],\"name\":\"PNG00128\",\"text\":\"&lt;img src=&quot;data:image/png;base64,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&quot; width=&quot;398px&quot; height=&quot;130px&quot; alt=&quot;&quot;&gt;&lt;/img&gt;\",\"width\":398},\"id\":\"1025\",\"type\":\"panel.models.markup.HTML\"},{\"attributes\":{\"children\":[{\"id\":\"1027\"},{\"id\":\"1029\"}],\"margin\":[0,0,0,0],\"name\":\"Column00112\"},\"id\":\"1026\",\"type\":\"Column\"},{\"attributes\":{\"children\":[{\"id\":\"1024\"},{\"id\":\"1025\"},{\"id\":\"1026\"}],\"margin\":[0,0,0,0],\"name\":\"Column00136\"},\"id\":\"1023\",\"type\":\"Column\"},{\"attributes\":{\"children\":[{\"id\":\"1030\"}],\"margin\":[0,0,0,0],\"name\":\"Row00116\"},\"id\":\"1029\",\"type\":\"Row\"},{\"attributes\":{\"children\":[{\"id\":\"1028\"}],\"margin\":[0,0,0,0],\"name\":\"Column00117\"},\"id\":\"1027\",\"type\":\"Column\"},{\"attributes\":{\"client_comm_id\":\"c72ce8ec442d4edcb7b9088242104ac6\",\"comm_id\":\"74d3b30556aa40108090950a7724ca3d\",\"plot_id\":\"1023\"},\"id\":\"1031\",\"type\":\"panel.models.comm_manager.CommManager\"},{\"attributes\":{\"end\":764430,\"margin\":[5,10,5,10],\"start\":0,\"title\":\"row\",\"value\":0},\"id\":\"1028\",\"type\":\"Slider\"}],\"root_ids\":[\"1023\",\"1031\"]},\"title\":\"Bokeh Application\",\"version\":\"2.3.3\"}};\n",
       "    var render_items = [{\"docid\":\"dc34d6f3-65b5-4c72-a321-4f0fc22eae73\",\"root_ids\":[\"1023\"],\"roots\":{\"1023\":\"cbadcd8b-cb39-4527-b624-76fab859a50b\"}}];\n",
       "    root.Bokeh.embed.embed_items_notebook(docs_json, render_items);\n",
       "  }\n",
       "  if (root.Bokeh !== undefined && root.Bokeh.Panel !== undefined) {\n",
       "    embed_document(root);\n",
       "  } else {\n",
       "    var attempts = 0;\n",
       "    var timer = setInterval(function(root) {\n",
       "      if (root.Bokeh !== undefined && root.Bokeh.Panel !== undefined) {\n",
       "        clearInterval(timer);\n",
       "        embed_document(root);\n",
       "      } else if (document.readyState == \"complete\") {\n",
       "        attempts++;\n",
       "        if (attempts > 200) {\n",
       "          clearInterval(timer);\n",
       "          console.log(\"Bokeh: ERROR: Unable to run BokehJS code because BokehJS library is missing\");\n",
       "        }\n",
       "      }\n",
       "    }, 25, root)\n",
       "  }\n",
       "})(window);</script>"
      ],
      "text/plain": [
       "Column\n",
       "    [0] Markdown(str)\n",
       "    [1] PNG(str, height=130)\n",
       "    [2] Column\n",
       "        [0] Column\n",
       "            [0] IntSlider(end=764430, name='row')\n",
       "        [1] Row\n",
       "            [0] HTML(Styler, name='interactive00111')"
      ]
     },
     "execution_count": 11,
     "metadata": {
      "application/vnd.holoviews_exec.v0+json": {
       "id": "1023"
      }
     },
     "output_type": "execute_result"
    }
   ],
   "source": [
    "column = pn.Column(title, noaa_logo, app)\n",
    "\n",
    "column"
   ]
  },
  {
   "cell_type": "markdown",
   "metadata": {},
   "source": [
    "Panels may be nested arbitrarily to construct complex layouts. Internally, Panel will call the ``pn.panel`` function on any objects which are not already a known component type, making it easy to lay out objects without explicitly wrapping them in a panel component, though wrapping it explicitly can help ensure that it is the type you expect:"
   ]
  },
  {
   "cell_type": "code",
   "execution_count": 12,
   "metadata": {},
   "outputs": [
    {
     "data": {},
     "metadata": {},
     "output_type": "display_data"
    },
    {
     "data": {
      "application/vnd.holoviews_exec.v0+json": "",
      "text/html": [
       "<div id='1032'>\n",
       "\n",
       "\n",
       "\n",
       "\n",
       "\n",
       "  <div class=\"bk-root\" id=\"e038a728-2876-4e0d-b314-86142b935e1d\" data-root-id=\"1032\"></div>\n",
       "</div>\n",
       "<script type=\"application/javascript\">(function(root) {\n",
       "  function embed_document(root) {\n",
       "    var docs_json = {\"67dd0863-2cf9-4302-af33-e21a298eb07b\":{\"defs\":[{\"extends\":null,\"module\":null,\"name\":\"ReactiveHTML1\",\"overrides\":[],\"properties\":[]},{\"extends\":null,\"module\":null,\"name\":\"FlexBox1\",\"overrides\":[],\"properties\":[{\"default\":\"flex-start\",\"kind\":null,\"name\":\"align_content\"},{\"default\":\"flex-start\",\"kind\":null,\"name\":\"align_items\"},{\"default\":\"row\",\"kind\":null,\"name\":\"flex_direction\"},{\"default\":\"wrap\",\"kind\":null,\"name\":\"flex_wrap\"},{\"default\":\"flex-start\",\"kind\":null,\"name\":\"justify_content\"}]},{\"extends\":null,\"module\":null,\"name\":\"TemplateActions1\",\"overrides\":[],\"properties\":[{\"default\":0,\"kind\":null,\"name\":\"open_modal\"},{\"default\":0,\"kind\":null,\"name\":\"close_modal\"}]},{\"extends\":null,\"module\":null,\"name\":\"MaterialTemplateActions1\",\"overrides\":[],\"properties\":[{\"default\":0,\"kind\":null,\"name\":\"open_modal\"},{\"default\":0,\"kind\":null,\"name\":\"close_modal\"}]}],\"roots\":{\"references\":[{\"attributes\":{\"children\":[{\"id\":\"1034\"},{\"id\":\"1035\"},{\"id\":\"1036\"}],\"margin\":[0,0,0,0],\"name\":\"Column00136\"},\"id\":\"1033\",\"type\":\"Column\"},{\"attributes\":{\"height\":130,\"margin\":[5,5,5,5],\"name\":\"PNG00128\",\"text\":\"&lt;img src=&quot;data:image/png;base64,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&quot; width=&quot;398px&quot; height=&quot;130px&quot; alt=&quot;&quot;&gt;&lt;/img&gt;\",\"width\":398},\"id\":\"1035\",\"type\":\"panel.models.markup.HTML\"},{\"attributes\":{\"children\":[{\"id\":\"1040\"}],\"margin\":[0,0,0,0],\"name\":\"Row00116\"},\"id\":\"1039\",\"type\":\"Row\"},{\"attributes\":{\"css_classes\":[\"markdown\"],\"margin\":[5,5,5,5],\"name\":\"Markdown00124\",\"text\":\"&lt;h2&gt;Major Waves Dashboard&lt;/h2&gt;\"},\"id\":\"1034\",\"type\":\"panel.models.markup.HTML\"},{\"attributes\":{\"children\":[{\"id\":\"1038\"}],\"margin\":[0,0,0,0],\"name\":\"Column00117\"},\"id\":\"1037\",\"type\":\"Column\"},{\"attributes\":{\"css_classes\":[\"markdown\"],\"margin\":[5,5,5,5],\"name\":\"Markdown00141\",\"text\":\"&lt;h3&gt;Top 5&lt;/h3&gt;\"},\"id\":\"1042\",\"type\":\"panel.models.markup.HTML\"},{\"attributes\":{\"margin\":[5,5,5,5],\"name\":\"interactive00111\",\"text\":\"&lt;style type=&quot;text/css&quot;&gt;\\n&lt;/style&gt;\\n&lt;table id=&quot;T_1bb3c_&quot;&gt;\\n  &lt;thead&gt;\\n    &lt;tr&gt;\\n      &lt;th class=&quot;blank level0&quot; &gt;&amp;nbsp;&lt;/th&gt;\\n      &lt;th class=&quot;col_heading level0 col0&quot; &gt;0&lt;/th&gt;\\n    &lt;/tr&gt;\\n  &lt;/thead&gt;\\n  &lt;tbody&gt;\\n    &lt;tr&gt;\\n      &lt;th id=&quot;T_1bb3c_level0_row0&quot; class=&quot;row_heading level0 row0&quot; &gt;station&lt;/th&gt;\\n      &lt;td id=&quot;T_1bb3c_row0_col0&quot; class=&quot;data row0 col0&quot; &gt;41001&lt;/td&gt;\\n    &lt;/tr&gt;\\n    &lt;tr&gt;\\n      &lt;th id=&quot;T_1bb3c_level0_row1&quot; class=&quot;row_heading level0 row1&quot; &gt;latitude&lt;/th&gt;\\n      &lt;td id=&quot;T_1bb3c_row1_col0&quot; class=&quot;data row1 col0&quot; &gt;34.675000&lt;/td&gt;\\n    &lt;/tr&gt;\\n    &lt;tr&gt;\\n      &lt;th id=&quot;T_1bb3c_level0_row2&quot; class=&quot;row_heading level0 row2&quot; &gt;longitude&lt;/th&gt;\\n      &lt;td id=&quot;T_1bb3c_row2_col0&quot; class=&quot;data row2 col0&quot; &gt;-72.698000&lt;/td&gt;\\n    &lt;/tr&gt;\\n    &lt;tr&gt;\\n      &lt;th id=&quot;T_1bb3c_level0_row3&quot; class=&quot;row_heading level0 row3&quot; &gt;time&lt;/th&gt;\\n      &lt;td id=&quot;T_1bb3c_row3_col0&quot; class=&quot;data row3 col0&quot; &gt;2021-01-01T00:40:00Z&lt;/td&gt;\\n    &lt;/tr&gt;\\n    &lt;tr&gt;\\n      &lt;th id=&quot;T_1bb3c_level0_row4&quot; class=&quot;row_heading level0 row4&quot; &gt;wvht&lt;/th&gt;\\n      &lt;td id=&quot;T_1bb3c_row4_col0&quot; class=&quot;data row4 col0&quot; &gt;2.140000&lt;/td&gt;\\n    &lt;/tr&gt;\\n    &lt;tr&gt;\\n      &lt;th id=&quot;T_1bb3c_level0_row5&quot; class=&quot;row_heading level0 row5&quot; &gt;wspd&lt;/th&gt;\\n      &lt;td id=&quot;T_1bb3c_row5_col0&quot; class=&quot;data row5 col0&quot; &gt;10.000000&lt;/td&gt;\\n    &lt;/tr&gt;\\n    &lt;tr&gt;\\n      &lt;th id=&quot;T_1bb3c_level0_row6&quot; class=&quot;row_heading level0 row6&quot; &gt;gst&lt;/th&gt;\\n      &lt;td id=&quot;T_1bb3c_row6_col0&quot; class=&quot;data row6 col0&quot; &gt;12.800000&lt;/td&gt;\\n    &lt;/tr&gt;\\n  &lt;/tbody&gt;\\n&lt;/table&gt;\\n\"},\"id\":\"1040\",\"type\":\"panel.models.markup.HTML\"},{\"attributes\":{\"margin\":[5,5,5,5],\"name\":\"DataFrame00139\",\"text\":\"&lt;table border=&quot;0&quot; class=&quot;dataframe panel-df&quot;&gt;\\n  &lt;thead&gt;\\n    &lt;tr style=&quot;text-align: right;&quot;&gt;\\n      &lt;th&gt;&lt;/th&gt;\\n      &lt;th&gt;station&lt;/th&gt;\\n      &lt;th&gt;time&lt;/th&gt;\\n      &lt;th&gt;wvht&lt;/th&gt;\\n    &lt;/tr&gt;\\n  &lt;/thead&gt;\\n  &lt;tbody&gt;\\n    &lt;tr&gt;\\n      &lt;th&gt;237298&lt;/th&gt;\\n      &lt;td&gt;46071&lt;/td&gt;\\n      &lt;td&gt;2021-01-01T00:50:00Z&lt;/td&gt;\\n      &lt;td&gt;17.68&lt;/td&gt;\\n    &lt;/tr&gt;\\n    &lt;tr&gt;\\n      &lt;th&gt;237300&lt;/th&gt;\\n      &lt;td&gt;46071&lt;/td&gt;\\n      &lt;td&gt;2021-01-01T02:50:00Z&lt;/td&gt;\\n      &lt;td&gt;17.55&lt;/td&gt;\\n    &lt;/tr&gt;\\n    &lt;tr&gt;\\n      &lt;th&gt;237301&lt;/th&gt;\\n      &lt;td&gt;46071&lt;/td&gt;\\n      &lt;td&gt;2021-01-01T03:50:00Z&lt;/td&gt;\\n      &lt;td&gt;17.30&lt;/td&gt;\\n    &lt;/tr&gt;\\n    &lt;tr&gt;\\n      &lt;th&gt;237303&lt;/th&gt;\\n      &lt;td&gt;46071&lt;/td&gt;\\n      &lt;td&gt;2021-01-01T05:50:00Z&lt;/td&gt;\\n      &lt;td&gt;16.12&lt;/td&gt;\\n    &lt;/tr&gt;\\n    &lt;tr&gt;\\n      &lt;th&gt;237302&lt;/th&gt;\\n      &lt;td&gt;46071&lt;/td&gt;\\n      &lt;td&gt;2021-01-01T04:50:00Z&lt;/td&gt;\\n      &lt;td&gt;15.94&lt;/td&gt;\\n    &lt;/tr&gt;\\n    &lt;tr&gt;\\n      &lt;th&gt;237299&lt;/th&gt;\\n      &lt;td&gt;46071&lt;/td&gt;\\n      &lt;td&gt;2021-01-01T01:50:00Z&lt;/td&gt;\\n      &lt;td&gt;15.92&lt;/td&gt;\\n    &lt;/tr&gt;\\n    &lt;tr&gt;\\n      &lt;th&gt;237305&lt;/th&gt;\\n      &lt;td&gt;46071&lt;/td&gt;\\n      &lt;td&gt;2021-01-01T07:50:00Z&lt;/td&gt;\\n      &lt;td&gt;15.84&lt;/td&gt;\\n    &lt;/tr&gt;\\n    &lt;tr&gt;\\n      &lt;th&gt;237306&lt;/th&gt;\\n      &lt;td&gt;46071&lt;/td&gt;\\n      &lt;td&gt;2021-01-01T08:50:00Z&lt;/td&gt;\\n      &lt;td&gt;15.79&lt;/td&gt;\\n    &lt;/tr&gt;\\n    &lt;tr&gt;\\n      &lt;th&gt;237304&lt;/th&gt;\\n      &lt;td&gt;46071&lt;/td&gt;\\n      &lt;td&gt;2021-01-01T06:50:00Z&lt;/td&gt;\\n      &lt;td&gt;15.07&lt;/td&gt;\\n    &lt;/tr&gt;\\n    &lt;tr&gt;\\n      &lt;th&gt;238719&lt;/th&gt;\\n      &lt;td&gt;46071&lt;/td&gt;\\n      &lt;td&gt;2021-03-01T12:50:00Z&lt;/td&gt;\\n      &lt;td&gt;14.92&lt;/td&gt;\\n    &lt;/tr&gt;\\n  &lt;/tbody&gt;\\n&lt;/table&gt;\",\"width\":500},\"id\":\"1043\",\"type\":\"panel.models.markup.HTML\"},{\"attributes\":{\"children\":[{\"id\":\"1033\"},{\"id\":\"1041\"}],\"margin\":[0,0,0,0],\"name\":\"Row00144\"},\"id\":\"1032\",\"type\":\"Row\"},{\"attributes\":{\"end\":764430,\"margin\":[5,10,5,10],\"start\":0,\"title\":\"row\",\"value\":0},\"id\":\"1038\",\"type\":\"Slider\"},{\"attributes\":{\"children\":[{\"id\":\"1037\"},{\"id\":\"1039\"}],\"margin\":[0,0,0,0],\"name\":\"Column00112\"},\"id\":\"1036\",\"type\":\"Column\"},{\"attributes\":{\"children\":[{\"id\":\"1042\"},{\"id\":\"1043\"}],\"margin\":[0,0,0,0],\"name\":\"Column00143\"},\"id\":\"1041\",\"type\":\"Column\"},{\"attributes\":{\"client_comm_id\":\"d7bb2d5a36324e05949c8f1f5eade66b\",\"comm_id\":\"3a4fea2836134d5190209c13ca4cd34b\",\"plot_id\":\"1032\"},\"id\":\"1044\",\"type\":\"panel.models.comm_manager.CommManager\"}],\"root_ids\":[\"1032\",\"1044\"]},\"title\":\"Bokeh Application\",\"version\":\"2.3.3\"}};\n",
       "    var render_items = [{\"docid\":\"67dd0863-2cf9-4302-af33-e21a298eb07b\",\"root_ids\":[\"1032\"],\"roots\":{\"1032\":\"e038a728-2876-4e0d-b314-86142b935e1d\"}}];\n",
       "    root.Bokeh.embed.embed_items_notebook(docs_json, render_items);\n",
       "  }\n",
       "  if (root.Bokeh !== undefined && root.Bokeh.Panel !== undefined) {\n",
       "    embed_document(root);\n",
       "  } else {\n",
       "    var attempts = 0;\n",
       "    var timer = setInterval(function(root) {\n",
       "      if (root.Bokeh !== undefined && root.Bokeh.Panel !== undefined) {\n",
       "        clearInterval(timer);\n",
       "        embed_document(root);\n",
       "      } else if (document.readyState == \"complete\") {\n",
       "        attempts++;\n",
       "        if (attempts > 200) {\n",
       "          clearInterval(timer);\n",
       "          console.log(\"Bokeh: ERROR: Unable to run BokehJS code because BokehJS library is missing\");\n",
       "        }\n",
       "      }\n",
       "    }, 25, root)\n",
       "  }\n",
       "})(window);</script>"
      ],
      "text/plain": [
       "Row\n",
       "    [0] Column\n",
       "        [0] Markdown(str)\n",
       "        [1] PNG(str, height=130)\n",
       "        [2] Column\n",
       "            [0] Column\n",
       "                [0] IntSlider(end=764430, name='row')\n",
       "            [1] Row\n",
       "                [0] HTML(Styler, name='interactive00111')\n",
       "    [1] Column\n",
       "        [0] Markdown(str)\n",
       "        [1] DataFrame(DataFrame, width=500)"
      ]
     },
     "execution_count": 12,
     "metadata": {
      "application/vnd.holoviews_exec.v0+json": {
       "id": "1032"
      }
     },
     "output_type": "execute_result"
    }
   ],
   "source": [
    "import pandas as pd\n",
    "\n",
    "df_top5 = pd.DataFrame(df_sorted[0:10], columns=['station', 'time', 'wvht'])\n",
    "\n",
    "row = pn.Row(\n",
    "    column,\n",
    "    pn.Column(\n",
    "        '### Top 5',\n",
    "        pn.panel(df_top5, width=500)\n",
    "    )\n",
    ")\n",
    "\n",
    "row"
   ]
  },
  {
   "cell_type": "markdown",
   "metadata": {},
   "source": [
    "#### Exercise\n",
    "\n",
    "Use ``Row`` and ``Column`` panels to lay out some of the objects (text, images, or plots) you rendered in the previous exercise."
   ]
  },
  {
   "cell_type": "code",
   "execution_count": null,
   "metadata": {},
   "outputs": [],
   "source": []
  },
  {
   "cell_type": "markdown",
   "metadata": {},
   "source": [
    "Try swapping a ``Row`` or ``Column`` with a ``Tabs`` component:"
   ]
  },
  {
   "cell_type": "code",
   "execution_count": null,
   "metadata": {},
   "outputs": [],
   "source": []
  },
  {
   "cell_type": "markdown",
   "metadata": {},
   "source": [
    "## Updating content\n",
    "\n",
    "So far we have only seen how Panel can be used to render and lay out objects, which on its own is not too exciting. However, all Panel objects can be modified once constructed, and all associated views will automatically update in response. Let us take the ``title`` pane we constructed above as an example:"
   ]
  },
  {
   "cell_type": "markdown",
   "metadata": {},
   "source": [
    "This dynamic behavior also extends to Panels, whose Panes will update as they are changed:"
   ]
  },
  {
   "cell_type": "code",
   "execution_count": 13,
   "metadata": {},
   "outputs": [
    {
     "data": {},
     "metadata": {},
     "output_type": "display_data"
    },
    {
     "data": {
      "application/vnd.holoviews_exec.v0+json": "",
      "text/html": [
       "<div id='1045'>\n",
       "\n",
       "\n",
       "\n",
       "\n",
       "\n",
       "  <div class=\"bk-root\" id=\"316cca46-deac-4355-9911-11a56e94530c\" data-root-id=\"1045\"></div>\n",
       "</div>\n",
       "<script type=\"application/javascript\">(function(root) {\n",
       "  function embed_document(root) {\n",
       "    var docs_json = {\"626e3dbb-a25a-4f31-9fcd-5c254a4f4db4\":{\"defs\":[{\"extends\":null,\"module\":null,\"name\":\"ReactiveHTML1\",\"overrides\":[],\"properties\":[]},{\"extends\":null,\"module\":null,\"name\":\"FlexBox1\",\"overrides\":[],\"properties\":[{\"default\":\"flex-start\",\"kind\":null,\"name\":\"align_content\"},{\"default\":\"flex-start\",\"kind\":null,\"name\":\"align_items\"},{\"default\":\"row\",\"kind\":null,\"name\":\"flex_direction\"},{\"default\":\"wrap\",\"kind\":null,\"name\":\"flex_wrap\"},{\"default\":\"flex-start\",\"kind\":null,\"name\":\"justify_content\"}]},{\"extends\":null,\"module\":null,\"name\":\"TemplateActions1\",\"overrides\":[],\"properties\":[{\"default\":0,\"kind\":null,\"name\":\"open_modal\"},{\"default\":0,\"kind\":null,\"name\":\"close_modal\"}]},{\"extends\":null,\"module\":null,\"name\":\"MaterialTemplateActions1\",\"overrides\":[],\"properties\":[{\"default\":0,\"kind\":null,\"name\":\"open_modal\"},{\"default\":0,\"kind\":null,\"name\":\"close_modal\"}]}],\"roots\":{\"references\":[{\"attributes\":{\"children\":[{\"id\":\"1049\"},{\"id\":\"1051\"}],\"margin\":[0,0,0,0],\"name\":\"Column00112\"},\"id\":\"1048\",\"type\":\"Column\"},{\"attributes\":{\"height\":130,\"margin\":[5,5,5,5],\"name\":\"PNG00128\",\"text\":\"&lt;img src=&quot;data:image/png;base64,iVBORw0KGgoAAAANSUhEUgAAA+gAAAFGCAMAAADO9EVhAAAABGdBTUEAALGPC/xhBQAAAAFzUkdCAK7OHOkAAAMAUExURQAAAP///wA3jQlFlQA3jbvL4ff5/EJwreft9AA8kMXc7ufx+JXL6pCtz+Tu9vL4/IygxP3+//n7/f///////zdtrWKOv/r9/oas0Pb4+w6Hzv////7//+/y9/////3+/w1CkqvX7g2Iz2eBsv3+/+Pt9SCKzU1wqp+y0Mfg8ASDzP3+/neOusre7t/q9Mzg8Nzs9gtCk0BqqENpp6vL5MXZ6+Xw+PL3+zOSz9Ha6drt9x6P0ixPkv7//3uRuqDN6U1wqrbJ4Hu+5AA2jHWaxjhZmHq/5ZTL6qbU7YPC5q/Y7wyIzgw7i+Hs9sTY6g+Jz7vI3n7A5V6x34WawBuP0cvi8QM9kAA6j05spCFPmAgzgbve8cXS5ImexEmm2z6h2VBtpNDo9c/i8PL2+pXL6kJurCRYn2mMveTy+QA0iwgzgbrd8Qc+kQo2hSxprU+SyB1KlEZsqApFlQCEzQgzgf///wxHlv/+/wtGlQA7jwCDzAA6jg1HlgYygAhElAE+kQA5jgGFzQA3jQA8kAZCkwB7yQGEzRBKlwo0ggOFzf7+/wCCzAB/ywB9yvz+/v39/cjV5wB6yL3N4lF7s/z9/v///yNYnwB6yQg0gQs1ggA2jUx3sQAhdr7O4/v8/VV+tQAkeAGEzAA1jAEsfQAidwAmeQQuflJ8tP3+/gApe5+21QUwfwxGlQCDzQRAkl+x3wgygGi14Vet3azW7haN0e32+2+54naXwwaDzCWU0wuHzh6R0r7f8vX5/BCKzwpFlD6g2C6Z1dzu+LTb8AiFzuXy+iBFjI7I6E2o28fj9KLR7IDB5hM7hUVknzmf18/o9QE9kBdOmnW740Sk2gB3yDWc1hg+iIfE562+2Nbr93OLt3m+5DVlpxE4hJrO62iCsVh1qTdYmERxrjBTlaa41E5spODm8AtFlR9UnSZKjwAzin6dxz5fnI2my5aqzLXC2mqOvgE8j56wzxtCirzJ3nySvCpcotff7ICWvl96rWCGulmBt4GXvwpGlQB7yQc0hPZxVmAAAAD/dFJOUwA96fa84w7q5pcFCf4gFRz/tVGSoB4QfzQn2fhk/cjwRH+/oTOjTHnbhvHmfmZOvcZmsDM/MffQMvzubv7YTlHUrpD7Xsroo+3U1YiBhEml47Hb/vCvs/Xw3sDe/vGp1+bv4OXR5PDf5Kze7cT68Nf84////////////////////////////////////////////////////////////////////////////////////////////////////////////////////////////////////////////////////////////////////////////////////////////kMoM1sAACAASURBVHja7Z13fNtWtueZeTveHdmxkzhx4iROm/R5aTOpk8lLpvfee9tXdvc/QmAoSIAEWuCIBhANX/gJyRcOhxTLA0e9Rr3Ylovc5BZ3J46d4sSxkziTsvN2PguAki3bInlRCZDn9/lMnHFs8ArAl79zzr33XIfDwrrhGz/7WWVW//tn37jBAQKBSkMXf/yJI585vTkcDpGVF4oMNYQ3n/7Mkd98/Cq4VSCQLQk/sS6ciMViqUwi3UySZOWFpIu/R5LN6UQmJf65RHjdCeAdBLKN/mnLOjKVjGUSzZVhUQ0hmen5Jf2+aOuiKpsTmVgyRa7b8o9wC0Ega/v4E+vSIq0JMgt4LrxzIC8BTybE74j0up/8E9xMEMiKumrL85ks4w2VihC/EHeJ9szzWwB2EMha+snzqVimWXTkkGrG59IeEq/UnIllTr8MtxYEskhOfjSdTKUlI9fO+FzaRWtPp5LNRyFnB4GKTvnxTDJD6gz5XNhJ8frHPw43GgQqmj4lUp5oMIjys6w3JIB1EKhIWnZUpjxkIOVnU3aR9cTRL8BNB4HM1RfTkUxluJI0mvIZ1knxszKRjpcXwp0HgUwz83Uxw/LyvPl6KrYOSnMgkCn6ZEcsEQ6bSvks6+FwItbxG3gEIJDROppKkcWg/AzrZCx19GJ4DiCQgTpeJDM/39aPw/YXEMggXbw5mQ43kMXEfDZbTyc3Q7IOAhmB+aFIurhmfo6tpyOHAHUQSGct2xxrtgrmM6g3x8DVQSBddShpKcxnUY88DzvcQCC9dDqZthrmZwL4dVCBB4H00NFYwoqYz6CeSB6BRwQCadXHY5n5OztaBPVQOJP6DTwmEEiLljXHQhbGXEa9oTLWAftdQCD1Oh5pDpPW5nymKnccHhYIpE63pSybnF+YqqeegAcGAqnQ5ojVo/a5qXpl8hDU30EgpfpkJG39qH3ujvVwOgmtJEEgZeqIhUP2wXym/h4DUweBlGTnyeYw2VFpL3VIpv4TeHggEKKej9mjCDfPvrbYaXh8IBCKrkglwh125Hym/A79YkGgwvqpjYrt82XqoQisiQWBCimcsWfYPsfUU2F4jCBQ3rBdWgpXaWtJE20xCN9BoNz6YrIhZHPOZ8L3E/AwQaAc2hyzd9g+J3yH6jsIlEOJRLgUMJdRDyfSsHgGBLpQy2JkQ6lwLm1ebY5BRzkQ6HzdFqmsLB3O5Z8l8iI8VhDovDJcuKQ4lxN1KMmBQOdoXSxcWphnE/XUOni0INAZhTMlyLlM+vPwcEGgWc4TJcm5XHzvgMcLAsmKpRtKk/Ms6cvgCYNAIufNoVLlXFoll07ChDoI5EiRlaXLuUQ6mYIzlkHg52SolDmXSY8B6aAyV7K5srQ5lybUm5NAOgji9sqSJx2idxDE7aUvKXqHihwI4vYy8PTIQnjeIIjbS97Tm2HlDKg8lW4OlQvnEumJNDxyUBkqnCgjzqUN6glY9w4qP51ONJQT5xLpGdjLBio3fTEVLi/O5b1s0PEdVF66LVJ2nEukR+C8VVA5aVk5ci6TDg3fQWWk8uS8srIjDFvZQOWjVHliLi97T8DjB5WJDiUqy5R0kgzDJBuoTFSGBfdZPw83ZFLJ/fAKgMpAn0qWJ+ci5s2xzGe+f3dUWABvAaj0C3Ehshxj9lA4HQl/eH8AlwRvAajU1dFcfgm6FLMnkptfeEBkPNooCAKQDipxfSZTdoYuYk6mMkd/ecss5aI+AW8CqKQT9EgZrnwlYx0vf+saHG8UcJlySUvgXQCVsJLl5ueinafSHy6WYvbAjJvjkKaDSlyH0uWVoJNkOB3bImIeiJ5DOZAOKmXdFiuvwF2y8823X4o3BvDzMcfxK+F9AJWoIofKq9dEZShyogIXAvgFlIOlg0pXH55IJsLlE7uTITL5wgI8Kqyal3MgHVSiugZ/Z12ELJfonQw1p365NJedS1oKrwSoBLUkgOMr9jfHysPUJc5vvy4q5OYcLB1UkhLf+SiOP3IimQ53kGXAeeb2x/JzDqSDSjJwx7OonzwUayh9UyclP8fzc45fC68FqMS0QHqxBQEPCPj7L0fSJZ6pd4Qiv1wazU85WDqoBDXzZs+YekOqpDN1MhzZf1mhuF3SNfBigEpKl8++2pKpN+KPHIlUlu6cOhlOvrgAhXMcr4BXA1SChn7G1KP7U4lSDd/JhtRRR755NQjeQaXPuWzqot3t3Vyi4TsZShxagDeicW6FlbD/3TjdpvtgP/VJHYb1z7dZbUSintD5Zt2mz7g++bCCz6w47+2WTf2VE8mSJL2jMvPZa6KInFvB0l+frjJMnqaV23XrZf/TOo9Hn2FVezz1731B84Cu+AePp06vW/W2+NPVH/xHPW7UfSubPDo+wqrtz16swtBnTR2PvhBpLr0D2Mhw5INr0Tm3QA+K6hq3UWpxuZxtnupndOhmf5+nqt7tcukzLpfLRdV62p7VNKKPeKYpl14jmhnUtKftJa0tBes8bU6Xq0W3YdW466s92/8V4ZNvnuf9FqQ+DCfTJZeok6HYCUcUGXMrWHq1y2mcKKe7xlXb9J7GMd7QVF/jEi+m67icdVV/Vj2iH9c5a1r0HJE8qJYaZ7XnJS136vO1Ipm6jotyvuqqaWva/kvlhn4mfH/3+UyYLC3U05sXohbiLEK6oaBLLwrlrqn1/KuWITa11ejMlPwCu9ye7Y+r++Kpc7v0H1F2UK66+tvV3qiP1da4KcqIYdXUNx18IP+HX4nnJv39z5RWok6GkrdfH1XEOb6wxEGX3hO3W4OpX+GpMQQq8Suops3znJqyRr0xmEsao1zU60+r/EJ0uinDQjNX3dhe5YYuky4m6iu2REqIdLIh+eKSqKCI86JbugmgS45QvV1tWbu2hqKM+wZ6/f8q56nGMMxnbpbnoJoVFm8bOa4xqqa+7i95Pv3SnC94tiT3YSRUOqQn1jkCAWWYC/iC0gddfHtrqtSRfkN9C2UoVIpJ99RQY0bfrLpnlAd6tS7K4LiM8vxFuaFnX/KAgP812VEiq+TIypiSmbXZDAYvB9CdlKv6NTVxe5vb2Nd3zP36m8o4N5inLOlNij192vBxUU7KkzN6/0SB1zwQxS9JNZcE6dLSV4cKznvLAnTJplTUk982+vWlnK9WfVZJWdsEzqWvxSaFgUadGd8/7vqWR1QY+mxJ7p1MaUyop087GgMK4/aAMDlQHqCLpL+uuJzcZPzrS7nbFIQa97VQJgVAnmNKbtT/qjHn+6fq4EUKM/S5pB9Lp+3v6Woq7rgQEHbu+lJ5gO50trUojEfve5Uy4wuo6S3kEbW5TbtZ2y9TcKcok76sXTkSHaTgNYrvtT/pZCj2skNhxX2V+KPv8BODZQK6GI++pTAebTFjXGNU/V3WiTDOfv0omPmrdps0rrG27Svm+fylOCLppzps34yiuWGx0KgwcI/i3Uyc9n+3TBydoloUTTH8yGnK60u1eFAT4nrKtJs1Vv/qvch3yk2Z92X9hipDn51Qf7cjbes8nQwnv79UWeAuJuj4vrWsl+BGywR0p8ujyNI9LSa9vfU1d6OtlDHxXuVAqqg3KptSPIS0yj0n6c32jt4Txx2NgkLOhZEB3ktgXv+NZQK6s03RFFvbmEnDqmk6iTaF5TRTte+hZun1YyZ+/8wzmY7+zoukn7Jznk6GUp9tjCqcWIviXX6awDAvP1AmoFPuOgVTWR7TCl9utJm/+5yU08ybtfJPaDfqGzUmDqul7tnz868FuDLSE/adTw/FtlQ0Klz7GsX3yJxjBB1cXCaOXvP6G1YEfaxt+0VIpThTHd2FuhDfzMhdule/V2noMulPRvFjqWabroYlycQDeKMyQ2/Eh3kWkxVnxssEdHe1gkUz0+YFpM6Vv0CZBHCbCrq7CvFm1Zo6LKr+lHrQZ1bOxDpsSToZTn64WFElTirETY5yGCGDThBcmYA+VouepN9Qb6Z5voMC1JipRI21vXap1eYC5ELLeRXV63DFpL8Zq7Qj6R3NhxxCo7K1r4HAVobOci5m6f7vlQfoznrX3agD+5GZiSdKhfuKeqe5ompeQdrfZy7nFPWaekOfJf2DSMiW7aP2XxZVulKmz3+Gc6yYM2zmgk613YO8zN1tpqMjzKTfR5kMunv6jyg36mMmD8vZds7HL8bVkL4/Yr+FMx3pQxWKDH1mpUwcOyM6+Hh5gO6s/g76Ng0TQa9+1oJAuWuRQP9vbpMDjVe1GPos6S/ajnSyIXLJ0qjylTIYcRZ0b/HKcSY7etVH0Zd1mgh6HUJTl49RFgXdZfY3kEbQJQIC0S1Ju5GeOO0QhFVKvs8C0YmzCXq2HMeWiaMrAN1UR3/axo5eVNAvx1WRHhVWHE3ZinQynPzlpcpK7lG8038O5xjm838JQAfQbQg6jqsjvRF/5XTGVqSnTzsCCtbKSAn6Yb/3XM6xODcEoAPoZQO6jMEj4YR9lsiR4cgll0aVfZXt62ex1nNBb/UyCwB0AN12oD+GayD9VMY+S+Q6EuscQkBQkqCPTPDnBe5SOS7YCaAD6LYDHVctQUxhT8ZCNiq5KzF0aQa93X8h5xhRrNgdQAfQiwI6bq/pdLnkLigJ3A/74xdyLi14XwigA+g2A/0aLZzL0+n2mGSTSu7XRRUn6POB7vV3AugAus1AxzU5Ot4YGLHJJFt6nYKSezZBZ+j5OC9a3R2RJ8rZ4soj5IP99AadGnPX5BHi2Um6gk453flulQu546XOoFOv5h2WglPbznx0Ba6VdPyVzTYovUsl98uj2mbQz9bd+cXWBZ1yO6fr8qjWjfj66gy6CFWtpym3qiikdmp6gk653bX5blU18sltuoJOOV31VfnG1YZ+oJz2mvuc0vu7iQ4bZOhKSu7S99caPj4/59KamT7Lgk65pqcPPptH71W3oTVI1Rd0yknVPfPWczn11kttSCeY6Ag65aqtei/frXrpDx4KDSk9QRc/0LP9pXzDes1Tj9pjUp/IfZb0SyxfkJMMXckq94Aw2cNhuUCPF6ejFBJPruqDBQCteG0l0muiK+iUs77tzQLrD/4FZVz6gU656t7bW+BCy9rqXzXf0aefK9RVdvs0Iun6gS5HuR9annTJ0NEzdCGAb8gVuEuxe3HaT6CA7q5+qXBa8cy022zQx8am9xa8zidrTXR0qqXupYcKX6oN6ZxGHUEfo97+S+Er3dCmzNGv1IFzPBAdOWrttbBkOPnXK6NKgpTDTG7OMYz2f9maoI/V19yCcKVplIBUV9DdSCdCVBUel36OXr/9QZQfDqnNm46guz3P3YxyKbScYvaPC0qPCM/BxfvhtLUby2xGz9Bn96bmUZzZaU3Q3Wjt2K9AaRWhb+he/z7KlarcpoHuRjxfBalPln6gj9W3IDWrQbhVc0GXTkMW9CD9WKyyw8oZ+l+vVTCHHgjszmvoWGtR+swggY524J/HZTLotc8sR7lS4e6t+jl61b+j/XRVpoLufvvgdUjD+rxLCeiTuB6oS6tFX7Bymp7ejN5YRpCPWcvLuVSOW2hJ0CnEBuNNLSaDPv0M0k6g/2gxDXTUW4XUVkNH0Ov+8yKkYX2kBR30q3Zd/V09UJdWyEWPWHbdjGToyBm6FJ6s4Yn8nBdnUzpKMQ7Rporg6Gigl72juzx/RgRdgaNPcKz/B5+TUMe1oS6n6YfS1jV0MUNfhZygT45y3gKgx/mt1gR9JSLoNRYFvcY80FEdvcpkR0cFvQYddB/rpVn/1d8dEeNV7aQfS4Y6rFpyR2/9KgSErUyBwF1M0tlBAB1AN8LRjQCd8WKE18f6H/2K5vhdsHCankYvuZ/f3TmnvMxiAB1AtwfoVwV90vZqjOb8Ffu0m3qjNWfTyYYIsqFLgcmUP95akHMxSd8EoAPo9gD917w320nBSzN3fk7K1DXMqsudpZqbrbgobvNCxJK7lKBvy7E39QJH3wmgA+j2AH2UnbEuolWM35et1ha+S6SfjFhuH5uCOXTpHPTeId6LwDnWyvUA6AC6PUDnz77RBOZjrv6axvDdml0okDN0aQ+6sJOhUTgX7xgLoAPo9gDdT8+ZLyJojrlYDt+1dKFYsS5jLU+XSu6oi+LklTI+NM4xb/BGAB1AtwPoXwjGz7Eor9e/bFIkfZWW4P1PVtubLhp6AM3Qn4ziU+ccs1agGtcHoAPodgB9gj+3uiyG78Gv78OjWjw9in/fUnNsZEPyTbRFcdLYN6IV4op1BhuADqCrAX30/A1aYvjOX32PFtLF6PfJLTELkR7KIDaWkQruqIW4mWrcEIAOoNsBdG6eluU013+HSPoq9Wm68MrmtGXSdDIcOYnUKU4uxI2jFuJksV4AHUC3A+hBL5aDdPUVOSkA3puxzlJY1F7uyCvi5sbuDwDoALr1Qb/K78PmJ/2HWki30pkOZDj5wZVR1BVxwTimRN7gVwF0AN36oP+K8WLzk37Tg8JT6vP0RgvtWE0/j5ShS01ftykoxM2U3dsBdADd+qBP8N75V4LQzK1R9WvkJGjeD1vi6EWyIfJfKHPo4s8qrYhTFLiLjs6PA+gAuvVBH+Vy7N0gaH8FHtA0x3YsZok0PfE82ir3Ak1frbIIFkAH0FWAnruJCuELOvCosEpDmm6JHavhyH6UbWtSIW4T8oq4OWX3QQAdQLc+6Dkid2k+HfP6F2qYZMMDjSMWSNM7mjsqEDJ0KQLp5uOYcnGLAXQA3fKgz1t0n10jR/z9fvULZ+QD2Q4Veza9Ixx7YUEUaaXMvkHOq9jQsTjzOIAOoOsMuu6tpK7KAzpGeNnBO7SQHsVPZYpdiiObHxCiAkIhbmRCaSGuOA0iAXQnNIc8CzpiF9hfMb58mzBp7s7fqZ9Ol9L0D4qcpjfEXlwcRSi4R/EuvxrOMW+wD0C3L+hWbfdc/ZK+jv7r3Dl6lnT+pk/j6reni/y8XNS96R3N6W/hUZRxqinEyY7ObADQ7Qs66lkXjmlTHX2s9pnLkYb1Y0RHn8gPujSd/miv6oUz0qL3FaeLeW56OPliRWOh1a/ZQpwqzKWJ9N0Auo1Br34J6Ye7wm0q6E5n9btI40I7ZdHhGOIKtEAkfMzDguqFM7PnpheLdLIjc5cQRRjktrUKV8SdnUg3+/BkAF3X0P3/VSNZ+rTZoL99EOVSN7gRD1kcZL2FmiX5djnUL5zJnpveUCzQQ6ktjsYCX1LyYQ1DqgpxsqObvWIGQNe1GOekpu8vfKkfIQGlI+iUu+5ZhEshn48+yBZuixb3O/BGTWl6sQpyZCh1R6EMXSq4R3czajnHvKwPQLcx6JSzvuqfC94oNKD0dHSR9O0XF/oBkY5SlUGPF36/CYzl7lI9yTbTQq44pDeIhh7Nn6EL6la+zl0axwLotnZ0p7vK0/YPuTX9H201aMapJ+hOytXmWenMPawfN0270E5Hl0D3FXZ0jPDy3+4VtKTpf+woyvaWjub0XQUMXZ5Y69zlU8855uWXAOg2Bt1JjbW4qDxyul5F5ElX0J3yB+cbFmLcLoOOVIEi6GCFtjT9WKwIBTkyHClUcheyE2txTIMI/i4A3c6g6yd9QddRDkcr2rvs82vY3yJtF/mvSLiDNL3knnhAaCzo54uYOKbB0DEvcyOADqBbHHTUVzzOXKwhTc9uZOsw29CTLyzMO2Z5YFM8oYlzzOf/MoAOoFsddMTwFGP779JEesD80nt684K856GLP0wU7+ZYbZxj3uD/BNABdGuDfityIurl7rxHS+ldiG4xl3SyIXLJtfkGLOBPRvE1HOvVxjnmCy4C0AF0a4P+dUwB6Vffq4H0gDBibqv3UOYzjnyVODluX8Nq5lwEvQ9AB9CtDfpNCorLNH/1b1X3oZA2p4+Y6elkKPad66N4AT/v1865CHongA6glwzoEuk/+J0G0qNmkk6GYy9U5Ik/Zv2c1sw5gA6gWx90ZRPGoqf/UIreBfWeblL0TlamTy8I5K7E6cg5gA6glxjoch+Kr+FR1QtnGvGoSbX3DjL1netyG7rMebcO+TmADqCXIOgi6Sz3WS15+pPmkE6GIy/kWeSenT/ndPFzAB1ALz3QpS5y3I0S6YLqWbaXk2GjV8OS4cxRRzR/fn6Y1zp/DqAD6CULuryV7UYt0fuTjS9GDCZdTNDDeXpayvvV1jN6cQ6gA+glCPpZT1e9ckb40GDSO0LJY0vzc36AIfTiHEAH0EsRdM3Re6BRWvduIOligr5/Yc4EXeong3f6vbpxDqAD6KU1j65X9B4I4Psjxu1aJcOxLTkTdGGVyPnIhl20fpwD6AB6aYKuOXoPRPG/RioNIp1sSKxbLuRoRS+X4VZPMD4dOYclsAC69UH/OqaBdJU9Z2TaLkk1G9IxkgylO354/fwJuiCtuMfXjPI+Io7pCTpsagHQLQ76rerebSl6f1wb6e8kEgZMqJOVHbG9l+fgXKrCCQd4jtbRzuVtqgA6gG5x0B0qY1jR0/n7cUEL6acajOgYGUpesnzeVjiSnT+Jb9vqJzB9Ocd8ftiPDqBbHfRWTK2nE8GLcSGggfQ/nk6FSVL3FXEV8wYasp0/tadf3/R8xtGhwwyAXqKOLpHu3eUYwVWTjkfxV47oPM0mdYN0zMe5XGzHh3f7WVrX9HymOeQdADqAbnHQUdo95yLd56+YlABSiXoUH3kx0qHjuWxkOLmlYr7To2Q7H+njeFp3O5fbPX8LQAfQLQ56XP2bT7TSzKPDeEB1ot6I4x+k9CvJSRPoS+YJMcT/L34bdQ/5CZowgHOMZaGvO4BuddAHWS1BK81zX8bVh++CgO89lNIpfBc5P75knhXusp33tjPG2DkcyQSglz7oUvHdv6xXranLJbn3j0Qq9QjfyXDq+PILj4gT5CWva4b8Xq8hmMMhiwC6LUAf4ryaSBcT9VuH8ScDqtrOyCW56H4xfNds6mJ+fvzuC/08m513MpwPM4hzODYZQLcD6AN8q7aSM+HjuM9F8cAqlaYuJuqn1iU1mjopcn5k+QWczxTbB4yzc7kWtxtAB9CtDvo479U6u+Ql/BXbZPNUG76veCGV0WLqZGU4smXJBXG7scX2M+tlmA0AOoBuddC/x/g0zyNjPv7q7wZUZuqCNM+GnzqaTKtGXfxryQ8XCOf5uYCvmrFzA+bOz1kv0wegA+hWB/1zfp/2d52gZVMX1GbqIqPRSzbHKtWhTobJ2H7HebV/Qd4O2yvauc9IO5dXwO4B0G0N+hjlrskvZ7GOTdZnWBLoV+kBuogSzV/9VUG9qYuZ+isvpGOVDWSHcs4z6ZNLGs/5ZEGO2mfmzjFjFWe+BqDbGXSRp1pPPjXVUYgnkesKuvihdU35huWpd1HIoDs05+jZt10HU8f/+HImE25QtvxdTM9j675z+TnrXmcw37bByGL7WXHfAtBtDLrISt1rb/0lj958mqpFQ0pP0ClXbduzb+YZ1sk/11QhfgFJoLM6kSBn6l+NappTx0+dSGXCCgJ4EfPm2MuXndPYShBWSZjva2cZ2ms85hi7dgGAbmPQx5zTzz1Y6ErvoSGlI+iUe+Uzv7iowIWeQCVd/LOjrF5vPEGzuyo2ygvl1MXv4ncEvvdILIWcq5OhUPLQyYVzp9Vm3Hx151o/S7eawHmr2etlAHRdQadcTW9cVvhSP20z29Hbtr9S+ErL6tyooGudSD/f1D83otrUBUGKwPeeyKChTobCmdTLt3wicLYMdwbzwSBrRtQuT6OPA+h2dvSVB69BulUuc0F3e45VIFzqvvoxRNA3MF796lJSpn5FN64NdfzUy+lYc7ghL+tkRyicjhzdu3xOn5uZoN1MzKWiezuAbmPQ3Z53kH64K9pMBX2sbfsKpHGhWbpDp/m1c8rvf394n3rUVwmN4i9/fGFzJFMZDnWQuXLzhnAisu7k4jmtL2bdvG9QDNrNwlyaRt8DoNs5dF/5J8Sfzm0m6O7qly5HGtbnaxBBvzjo1fO9F02dZr791UkJ9VVqXV2abLvkSCKZCIVDF/o6WRkKV2Zix79/Ny7a+Uw9QPw1kMU8SPjMw7wIs2sAur6hexXarXJUmeroLs+fL0Ia1kdaEEF3cDpTIZo6yzy8Z0RCXVBXlhMCUfGXP+0/nklmyHBYpD2Lu/iPUENYpDyZOPHO8jOYCzOU49va1zJi0I55vTTtk+SVNPOvBtFPsIsBdFvn6IiOXmWuo9ehgo7q6Bo3quZAnfM/vGcyi6C6Crw02YaPvLv/SDgWyySaZcAbRHtPZ2Kx9JEPfrcUP78J7ciaDf0M4aNFolmO45kgw/CcJJ5nRHHGkG5+0R1ALwfQXfqDPqFf2X3ORhcf5791h5irCxoiePkwmPeP7T+xLpxIpWKxWCrT8fyRD0/eI1IeiJ79ChH/6LZFXT3+XbyEN88Tvp6B8a6+PVPdwxtFDXcf3tO3YUhq86z/mncvMw6gA+h2AL09aMCWD0JEnfV/+3vDIoeBgCpbP8s6PvLKL04de+edd069+8gt10i/EW2ce0nxz23ctHNgaGK8/cD6qTXDn37w0usvuNrIVI8BHWAxn78PQAfQ7QD6437amORVytXvvHX9JI6r7ysnpevnnaPWGM3xxRG9/po5fzOQ1VNPZX8V/8LqcX/cgF7PXwHQAXQ7gO7gjapRi6hjfPDR9mFBva3P1toao6Ia57/KmWJclm5BuLA0IKxaFcCFPibeqnst7i4AHUC3BeiDbCtmHOo+luEfnbF11awjle/k/+U/xbWT8bbavRYHoAPo6kDfzXsx4yTbuv/rXWuicmXOMNRRulYJIz2cV+da3E4AHUC3B+jfC/owI0UQXjFb52/dtA/XFMKrjPpns/WAmO3jW3la51rcJgAdQLcH6BcbVI07d7qN5vw3/XpqcpZ1wQTEJbjP++0h3R39awA6gG4P0B0E0YoZjrps68Fbu7p78ZkYXjAW8pnLj6ze2D21ftOOHX2i2uP6/qit7OBiAB1AtwnoA3wcWzVkxQAADlpJREFUM0Fiti6yzjza3j05OwGmP+5nKvA4Ht3XvalrosfHSSvjgkHpH4zOEwxxfqsDQAfQbQJ6u9+LmSM5hGeYh3fu2dg7Z75b0Af4OZBPrjmwc4iQ1slxLJZd7C5L53l0n38HgA6g2wX0B5g4ZprEEJ5m+eCdj27tXDS8euT89S0zc+CCOsrlv7a6u2/3IB/kOYL20V4vZuBetjj/cwAdQLcL6A4f24qZKCmGx1gxoOZuumm8fU/3tsnAhdieqZWjmL1MuezkIuRrGYZnxa8Tr+G7VcUU3QGgA+i2AX03H8fMFYFJu0dpQt5lxn37B+Nd7Z2b1i/qHh7etnpyJCooXigrHeO2cdP4IM/wspGbsiU9XoRZdAAdQFcN+pf8PqwYyuLuw1i5XibvPOPuvPPOm64e2LpzQ3vfgfWHRfJXPykUWhMnmfnGvgEuyLMi5Oa1naD96wF0AN0+oDv4eCtWPBGznSKkjJpg2Zk95EERfP+urfdcLxTEfGRqnAtymElGfiZyJ7g7AHQA3Uag670yVAPzUn8YEXuJ+7U+fnRRRZ7C3AzmvXsGGB7zmUu5XIobcADoALqNQO9i4pi1RLTSPp7vuvex3CV4MTV/SsR8clNPkKNpsymXJ9c6AXQA3U6g38/Q1sKc8NJ8cPeai3Kfuz6zV231jlE/Z8qJLPOsf+X/D4BuDOguAN0Q0B2DLGEhzDGa5pmJqQW5G1YIwippacw+uYW7lyjK4AmupwJAVzawaTTQm1oAdGNA32Cd2J0Qs20J8yW5D3eamU/b2NVv4kkN82xo6XIA6Aod/TVw9KKC/njQMtU4mmD48e7luftPifA/Jf6H4Q1ckKWx4kUiceYrALrCgY2tRGrIM+0E0I0B3Rqxu9xSkmG71izP3aNi5jDGNTt5HvMVEXMxch91AOgKB+aufhbhQjcUPiMUQFcJugVid6nvFBcc7Pzt0ryYSxNqa8Z53ltMN5ci92AngK50YJS77guFL4RwFDCArhL0B/Tupqaq5RQztOmWx/J0nMpiPryTZzBTzkTOt1omzvwcQFc8MKez6dZC12lDOPQbQFcJumOUI4pr5izD7z58d75mU1nM93VxPF1kN5cydG7IAaArHhjlrKmqvSHPbMWyz1NucHQDQW8v0nr3LOUYHxzsGr45W4HLOXEu/sfeHWtFN8eKX1Aoylb0EnD0Mcr1atvKnKqlapwInAPoqkFfWJz17nLbGT7Ibl1/y6XZjtA5m7hKJyQf7vGzVsAcIwj2hwC6mtBd4tidU68iYQ6gqwfdrIZS53s5wQd945t+e1n+ExlnkvPdDGcJzKVVcbsdALoq0HURgK4a9K/6afPzcj7YP77+05cXaBcpRe1P4pPtYnLutcgKPm/wMIAOoNsRdMdaE6fSZyJ23/iie5cWbAor2/lT60f9hBHnoaqdRF8CoAPotgS9y6TVcVK7Can181wvz3vCSjZq91slapcN3d/pANABdFuCbko5Ti6xcwwzuGHq3ksRGrxnMV/dzlsnapdLcdw9ADqAbk/QHRNGl+OkgJ3gg3xPe/ctKJSLmK+SGktsGpSidgvtr4sz4w4AHUC3Kehf9tMGWzrH+ImJA8PX4kgHLgqrJDcXDg9ZZErt7BcWzXQD6AC6XUF39HBxYwPeoa4pKS1HOn4tG7QLUxMMZy3MpVVxAwsBdADdtqAfMHSGzcv1XHm9fFZD4VbtM5tXolO7GUsl57OluPUOAP3CgblNBL0OQFcPusEzbATvwANRAQVzubFE76IJGXPL9bNjB28G0C9UnamO/iyArh70dmNn2NirN43I2fkqIT/lUqP2fTt6GI62WtSeNfQdDgD9Qr1toqO3eN4C0NWD7ug30tIJjPBfsWkfnmeH2uyBxyPdG3xBzoJunjX0bwLo84iiTAS96Q0AXQPoxu5hIzCaC946fnhy3nqcMNO/Gce37RhiGNaKZp7dt9buANDn0TfazCPd5TkGoGsAfQEXN5KuOOH1EfzfH24fFuaeoXrmPEXpN/ft2c2JZu6zKOYYQfTfAqDPpyveHjMNdKrtEQBdA+iODYzB62DlVe7MTb86sGYyekHk3ju8aWt/UDp1hbAo5tJ2luIaunVBd3hazOJ8rPaZFQC6FtCX8MYjJneN8v/96z/YuqGrvb29S1R7544DfV1bezg/z9JezLKUSxl6/70Aeg4WnGbF7i2evzkAdC2gm7O1RVrxTs+coTpHPIv5aCtTjmGtdJEzdCuD/i+1ZgXuLs9eAF0b6I5+c6JmQt7E5jtH1vby2ZL7LQB6zuuZNJM+1vbaCgBdI+jtfl8rBsrBuW/XAQeAnku15sywUS6UyTUAPT/oFaMsAUTnmjZgRy8D0HPX3T0uU0hv274CQNcKurTiHUjPtW2tqKvcLQ+6o6beDEOvaXpzAYCuGXRHD+cFpuefWuOHFgPo+dTkNtzSqZa6g9c4AHTtoH/F7wVLn9fQvf5uB4CeT094agwmnXLWt7zvANB1AN0xwYOlz8s5s7MCQM+vZ6qMJZ1yjnn2VgDouoB+Ix8HS59vRpDb5gDQC+i1KiMLcpSb8pxErYcC6AVAd3RBPW7eSlynA0AvTLqnxrAVcpSr3nPySgeArhPoCwfZOJB9fiWO67kSQEfQwdedLkMm1Cl3TV3L3msdALpeoDsW7QJLt2Qlzg6gO557u9qlf/Wdcta0NR18X0GVBEAvCLpjKwOV9/MCd2bnQgAdTfcfbKp2utz6RfCU81WXq7Zp+5vXKBkGgF4Y9Ls5AoL3c8T2f9oBoKPq9pemm1aKoXZNjUuzpItQtR7Pa2+sUPZVC6AXBt2xCYJ3y62Jm1mTQtUXVB0a6K8jXMrzUXXDvOeNgzVVTU2eOs3yiFdpe+Zve0eUDuFj9fW63SqHB+ViVWigF77tVNPTiKBTKOPKd4UJxgubW+ZMoW9dbBHQ2/5QWPVoNjWNcKm2j6oe6TffffONt57+T416+m9vvLH3keuXK//8j/1Bv1uFdNv/QKGBjnLb/4YIOsqw/pDvCndwBFj62c0sVgncHY7/gaJP6Hephxx21Td1vFVo9wrtYregXOn3aC3FH0IaVt5LbPL7gPTZ3amWCdxBIL01AZX3MxX38QXwPoBKVHf3swC5LG7w3+B1AJWsFkHwnq3EBafgZQCVsDbAmnc5QW+vgHcBVMJaMMSVfZpOePmBpfAqgEpa93Dg6Gz/NngRQCWu9eW+QI7w+hfBawAqgzS9rAtyUoK+EN4CUMlr4QBfxp5O0MzuK+ElAJWB7ljLYeVKOoFxow/CKwAqC32FIbDy3LIaxwh+GF4AUJmobBe9wxJ3UFmpqzxJJ3y7OmGlDKh8VLGVKcOCHEH7N1wGDx9URlpehqV3gmYmHoJHDyorfbOHKzPSCZrrWQ0PHlRm+jnHltUkG4Fxa/fBYweVndZwbBntbyG8LLcGHjqoDHWYIcrG0wmM5YFzUHlqUbBcSBc5D8JOFlD5kh4vC9LF7zPgHFTG2rHLWwaki5wzi2DHGqiM1VcGpItxOwN+DgLSidL3c3jQoHIn3V/aFTmZc+jhDip7rWdKeeUMxO0gUFaLmNJdOUPQwDkINEM6x5bouneC5vq74QGDQLLW9JfmXjaC5vuhoQwINKvhHsZHlFp3KYLwMUPQwR0EOqt7BxhfiZXkCMzn3w37UkGgubpya4lNqBOYd9fO38ODBYHO0cJ2P1FCxXeCJoKdl8JjBYHOU8UenqNLJFGPEzTHrV8ODxUEulBrBhlfK1Ea6TkzCtvPQaD5tW/CXwolOQKjoQwHAuXWZV1++6+dIWjW3/4YPEwQKLcW9fO0rcN3opXm+xddBE8SBMqn4QFbh+9S2D6wER4jCFRAV8rhuz1RJ6RNLO0r4CGCQAVVcXiQoW1p6qKdM6NTELaDQEjaNu4n7FeTk+zcvxOq7SAQqm7ew/F2y9QlO+/fczk8PBAIXRt32ytTl+18HM5cAoEUmvqmfoa2zeJ3wksH+9dfB48NBFKqfTsZzh7xO4H5OP+G1RXwzEAg5VpyuEcqylkd9bgUtQ9NLYUHBgKp0791claP3+Ni1M6wfb3wsEAg1arYOG7t+J3w+nhm57Yl8KhAIC26eWrAz1p1/QyB0Zx/oBvm1EAgzXpoz6g1URcxZ/09e0bgEYFAeujBHYN+wmoBPIH5iODojkl4PCCQXtrX3s9YCnUxNyeY/s5JOA0ZBNJT29rZoGUCeDloZ9u3weGJIJDOqtjWvpZhfd6iz6sTopuz/tHObdD8EQQyQqt3jDIcXVxbF82c5pieHZOL4XmAQAZpcs8Qw2PFQ13EnGCYgfWwPgYEMlSXTo1zYgRfDNYlM2eD3M5umFADgQzXtRvbR4M85vPGCVMp9/ownunp3Ajnr4BAJkXw63dzfs5rnq2LZo6Jn7h1US/Mp4FAZtp65xDDsDRtfBVeqrLTLMMP9YGZg0Cm66Hurh6JdZ+Rx7BKEbtIOdPTteZ6MHMQqCjqnZJY5zDaGNal6hvGSZR398JsGghUPC3p7W4f4oM8obexZ62cD3JDnd290MEZBCp+DD98YOugaOyEz6eLtYuM0z6aEK18cPzAxuthrzkIZBFdOznVOeFjGJ4Vo20tsEuQ0xjLM7xvoq97EqpvIJC1VHH56u6+3aN8UKJd9nZFvIt/VvRxn8R4kBsd7+te/RhYOQhkTS3tHV7fNTHKMUGGY8W8XQLem8/hRQf3SoD7vISEOMONTnSt39gLTg4CWV3X9W6cOrBhYFQml+dYlpj17PM9XPony3Linwvy7OjEhgNTG3uvgRsIAtlGF13Xu617Ud+GrQM9azGWlWhvPYfzVolxlsXW9gxs3dC3fs223usvg5lyEMiWuvnyx0Ymh6c2dXUNsd5zHZ0d6upaPzU8OfKJSy+DGwUCKdD/B8QZBgbr2StUAAAAAElFTkSuQmCC&quot; width=&quot;398px&quot; height=&quot;130px&quot; alt=&quot;&quot;&gt;&lt;/img&gt;\",\"width\":398},\"id\":\"1047\",\"type\":\"panel.models.markup.HTML\"},{\"attributes\":{\"css_classes\":[\"markdown\"],\"margin\":[5,5,5,5],\"name\":\"Markdown00124\",\"text\":\"&lt;h2&gt;Major Waves Dashboard&lt;/h2&gt;\"},\"id\":\"1046\",\"type\":\"panel.models.markup.HTML\"},{\"attributes\":{\"end\":764430,\"margin\":[5,10,5,10],\"start\":0,\"title\":\"row\",\"value\":0},\"id\":\"1050\",\"type\":\"Slider\"},{\"attributes\":{\"client_comm_id\":\"8048105aa5ef476c927fb873584934d9\",\"comm_id\":\"3d2a300c564849a5a104ed81b4822ec0\",\"plot_id\":\"1045\"},\"id\":\"1053\",\"type\":\"panel.models.comm_manager.CommManager\"},{\"attributes\":{\"children\":[{\"id\":\"1046\"},{\"id\":\"1047\"},{\"id\":\"1048\"}],\"margin\":[0,0,0,0],\"name\":\"Column00136\"},\"id\":\"1045\",\"type\":\"Column\"},{\"attributes\":{\"margin\":[5,5,5,5],\"name\":\"interactive00111\",\"text\":\"&lt;style type=&quot;text/css&quot;&gt;\\n&lt;/style&gt;\\n&lt;table id=&quot;T_1bb3c_&quot;&gt;\\n  &lt;thead&gt;\\n    &lt;tr&gt;\\n      &lt;th class=&quot;blank level0&quot; &gt;&amp;nbsp;&lt;/th&gt;\\n      &lt;th class=&quot;col_heading level0 col0&quot; &gt;0&lt;/th&gt;\\n    &lt;/tr&gt;\\n  &lt;/thead&gt;\\n  &lt;tbody&gt;\\n    &lt;tr&gt;\\n      &lt;th id=&quot;T_1bb3c_level0_row0&quot; class=&quot;row_heading level0 row0&quot; &gt;station&lt;/th&gt;\\n      &lt;td id=&quot;T_1bb3c_row0_col0&quot; class=&quot;data row0 col0&quot; &gt;41001&lt;/td&gt;\\n    &lt;/tr&gt;\\n    &lt;tr&gt;\\n      &lt;th id=&quot;T_1bb3c_level0_row1&quot; class=&quot;row_heading level0 row1&quot; &gt;latitude&lt;/th&gt;\\n      &lt;td id=&quot;T_1bb3c_row1_col0&quot; class=&quot;data row1 col0&quot; &gt;34.675000&lt;/td&gt;\\n    &lt;/tr&gt;\\n    &lt;tr&gt;\\n      &lt;th id=&quot;T_1bb3c_level0_row2&quot; class=&quot;row_heading level0 row2&quot; &gt;longitude&lt;/th&gt;\\n      &lt;td id=&quot;T_1bb3c_row2_col0&quot; class=&quot;data row2 col0&quot; &gt;-72.698000&lt;/td&gt;\\n    &lt;/tr&gt;\\n    &lt;tr&gt;\\n      &lt;th id=&quot;T_1bb3c_level0_row3&quot; class=&quot;row_heading level0 row3&quot; &gt;time&lt;/th&gt;\\n      &lt;td id=&quot;T_1bb3c_row3_col0&quot; class=&quot;data row3 col0&quot; &gt;2021-01-01T00:40:00Z&lt;/td&gt;\\n    &lt;/tr&gt;\\n    &lt;tr&gt;\\n      &lt;th id=&quot;T_1bb3c_level0_row4&quot; class=&quot;row_heading level0 row4&quot; &gt;wvht&lt;/th&gt;\\n      &lt;td id=&quot;T_1bb3c_row4_col0&quot; class=&quot;data row4 col0&quot; &gt;2.140000&lt;/td&gt;\\n    &lt;/tr&gt;\\n    &lt;tr&gt;\\n      &lt;th id=&quot;T_1bb3c_level0_row5&quot; class=&quot;row_heading level0 row5&quot; &gt;wspd&lt;/th&gt;\\n      &lt;td id=&quot;T_1bb3c_row5_col0&quot; class=&quot;data row5 col0&quot; &gt;10.000000&lt;/td&gt;\\n    &lt;/tr&gt;\\n    &lt;tr&gt;\\n      &lt;th id=&quot;T_1bb3c_level0_row6&quot; class=&quot;row_heading level0 row6&quot; &gt;gst&lt;/th&gt;\\n      &lt;td id=&quot;T_1bb3c_row6_col0&quot; class=&quot;data row6 col0&quot; &gt;12.800000&lt;/td&gt;\\n    &lt;/tr&gt;\\n  &lt;/tbody&gt;\\n&lt;/table&gt;\\n\"},\"id\":\"1052\",\"type\":\"panel.models.markup.HTML\"},{\"attributes\":{\"children\":[{\"id\":\"1052\"}],\"margin\":[0,0,0,0],\"name\":\"Row00116\"},\"id\":\"1051\",\"type\":\"Row\"},{\"attributes\":{\"children\":[{\"id\":\"1050\"}],\"margin\":[0,0,0,0],\"name\":\"Column00117\"},\"id\":\"1049\",\"type\":\"Column\"}],\"root_ids\":[\"1045\",\"1053\"]},\"title\":\"Bokeh Application\",\"version\":\"2.3.3\"}};\n",
       "    var render_items = [{\"docid\":\"626e3dbb-a25a-4f31-9fcd-5c254a4f4db4\",\"root_ids\":[\"1045\"],\"roots\":{\"1045\":\"316cca46-deac-4355-9911-11a56e94530c\"}}];\n",
       "    root.Bokeh.embed.embed_items_notebook(docs_json, render_items);\n",
       "  }\n",
       "  if (root.Bokeh !== undefined && root.Bokeh.Panel !== undefined) {\n",
       "    embed_document(root);\n",
       "  } else {\n",
       "    var attempts = 0;\n",
       "    var timer = setInterval(function(root) {\n",
       "      if (root.Bokeh !== undefined && root.Bokeh.Panel !== undefined) {\n",
       "        clearInterval(timer);\n",
       "        embed_document(root);\n",
       "      } else if (document.readyState == \"complete\") {\n",
       "        attempts++;\n",
       "        if (attempts > 200) {\n",
       "          clearInterval(timer);\n",
       "          console.log(\"Bokeh: ERROR: Unable to run BokehJS code because BokehJS library is missing\");\n",
       "        }\n",
       "      }\n",
       "    }, 25, root)\n",
       "  }\n",
       "})(window);</script>"
      ],
      "text/plain": [
       "Column\n",
       "    [0] Markdown(str)\n",
       "    [1] PNG(str, height=130)\n",
       "    [2] Column\n",
       "        [0] Column\n",
       "            [0] IntSlider(end=764430, name='row')\n",
       "        [1] Row\n",
       "            [0] HTML(Styler, name='interactive00111')"
      ]
     },
     "execution_count": 13,
     "metadata": {
      "application/vnd.holoviews_exec.v0+json": {
       "id": "1045"
      }
     },
     "output_type": "execute_result"
    }
   ],
   "source": [
    "column"
   ]
  },
  {
   "cell_type": "markdown",
   "metadata": {},
   "source": [
    "As we discussed above ``Row`` and ``Column`` Panels behave much like lists. Just like lists, we can use ``append``, ``pop``, ``remove``, ```insert```, and all the other standard methods (including setting with =) to modify them. E.g. we could dynamically insert a caption for the logo:"
   ]
  },
  {
   "cell_type": "code",
   "execution_count": 14,
   "metadata": {},
   "outputs": [],
   "source": [
    "text = \"\"\"\n",
    "This dashboard displays the tallest waves\n",
    "\"\"\""
   ]
  },
  {
   "cell_type": "code",
   "execution_count": 15,
   "metadata": {},
   "outputs": [],
   "source": [
    "column.insert(2, text)"
   ]
  },
  {
   "cell_type": "markdown",
   "metadata": {},
   "source": [
    "If you uncomment and execute that cell, make sure to scroll back up to confirm that all versions of the ``column`` have been updated."
   ]
  },
  {
   "cell_type": "markdown",
   "metadata": {},
   "source": [
    "#### Exercise: Construct and display a new Panel and then replace a component in a new cell"
   ]
  },
  {
   "cell_type": "markdown",
   "metadata": {},
   "source": [
    "<details><summary>Hint</summary><br>\n",
    "\n",
    "Use `print()` to see how objects are indexed, then use indexing to replace a component:\n",
    "\n",
    "```python\n",
    "row[1] = \"../assets/panel.png\"\n",
    "```\n",
    "\n",
    "</details>"
   ]
  },
  {
   "cell_type": "markdown",
   "metadata": {},
   "source": [
    "## Serving Panel apps\n",
    "\n",
    "So far we have been building Panel objects entirely within a notebook, which is a convenient way to build up an app, particularly for one-time or private use. However, a large part of the power of Panel is that it allows us to seamlessly transition between an iterative process inside the notebook to a deployed app. When developing an app inside the notebook it will display inline, but you can see what it looks like as a deployed app by calling ``.show()`` on the object. As long you are running this notebook on a local machine this will open a new window:"
   ]
  },
  {
   "cell_type": "code",
   "execution_count": 16,
   "metadata": {},
   "outputs": [],
   "source": [
    "# row.show()"
   ]
  },
  {
   "cell_type": "markdown",
   "metadata": {},
   "source": [
    "otherwise let us simply look at what we have built here in the notebook:"
   ]
  },
  {
   "cell_type": "code",
   "execution_count": 17,
   "metadata": {},
   "outputs": [
    {
     "data": {},
     "metadata": {},
     "output_type": "display_data"
    },
    {
     "data": {
      "application/vnd.holoviews_exec.v0+json": "",
      "text/html": [
       "<div id='1060'>\n",
       "\n",
       "\n",
       "\n",
       "\n",
       "\n",
       "  <div class=\"bk-root\" id=\"0886ae3a-ba60-446f-b75d-889e1f9a0bb8\" data-root-id=\"1060\"></div>\n",
       "</div>\n",
       "<script type=\"application/javascript\">(function(root) {\n",
       "  function embed_document(root) {\n",
       "    var docs_json = {\"b6ce453c-5270-4d44-9637-78422bc2fe47\":{\"defs\":[{\"extends\":null,\"module\":null,\"name\":\"ReactiveHTML1\",\"overrides\":[],\"properties\":[]},{\"extends\":null,\"module\":null,\"name\":\"FlexBox1\",\"overrides\":[],\"properties\":[{\"default\":\"flex-start\",\"kind\":null,\"name\":\"align_content\"},{\"default\":\"flex-start\",\"kind\":null,\"name\":\"align_items\"},{\"default\":\"row\",\"kind\":null,\"name\":\"flex_direction\"},{\"default\":\"wrap\",\"kind\":null,\"name\":\"flex_wrap\"},{\"default\":\"flex-start\",\"kind\":null,\"name\":\"justify_content\"}]},{\"extends\":null,\"module\":null,\"name\":\"TemplateActions1\",\"overrides\":[],\"properties\":[{\"default\":0,\"kind\":null,\"name\":\"open_modal\"},{\"default\":0,\"kind\":null,\"name\":\"close_modal\"}]},{\"extends\":null,\"module\":null,\"name\":\"MaterialTemplateActions1\",\"overrides\":[],\"properties\":[{\"default\":0,\"kind\":null,\"name\":\"open_modal\"},{\"default\":0,\"kind\":null,\"name\":\"close_modal\"}]}],\"roots\":{\"references\":[{\"attributes\":{\"height\":130,\"margin\":[5,5,5,5],\"name\":\"PNG00128\",\"text\":\"&lt;img src=&quot;data:image/png;base64,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&quot; width=&quot;398px&quot; height=&quot;130px&quot; alt=&quot;&quot;&gt;&lt;/img&gt;\",\"width\":398},\"id\":\"1063\",\"type\":\"panel.models.markup.HTML\"},{\"attributes\":{\"children\":[{\"id\":\"1066\"},{\"id\":\"1068\"}],\"margin\":[0,0,0,0],\"name\":\"Column00112\"},\"id\":\"1065\",\"type\":\"Column\"},{\"attributes\":{\"children\":[{\"id\":\"1062\"},{\"id\":\"1063\"},{\"id\":\"1064\"},{\"id\":\"1065\"}],\"margin\":[0,0,0,0],\"name\":\"Column00136\"},\"id\":\"1061\",\"type\":\"Column\"},{\"attributes\":{\"css_classes\":[\"markdown\"],\"margin\":[5,5,5,5],\"name\":\"Markdown00149\",\"text\":\"&lt;p&gt;This dashboard displays the tallest waves&lt;/p&gt;\"},\"id\":\"1064\",\"type\":\"panel.models.markup.HTML\"},{\"attributes\":{\"margin\":[5,5,5,5],\"name\":\"interactive00111\",\"text\":\"&lt;style type=&quot;text/css&quot;&gt;\\n&lt;/style&gt;\\n&lt;table id=&quot;T_1bb3c_&quot;&gt;\\n  &lt;thead&gt;\\n    &lt;tr&gt;\\n      &lt;th class=&quot;blank level0&quot; &gt;&amp;nbsp;&lt;/th&gt;\\n      &lt;th class=&quot;col_heading level0 col0&quot; &gt;0&lt;/th&gt;\\n    &lt;/tr&gt;\\n  &lt;/thead&gt;\\n  &lt;tbody&gt;\\n    &lt;tr&gt;\\n      &lt;th id=&quot;T_1bb3c_level0_row0&quot; class=&quot;row_heading level0 row0&quot; &gt;station&lt;/th&gt;\\n      &lt;td id=&quot;T_1bb3c_row0_col0&quot; class=&quot;data row0 col0&quot; &gt;41001&lt;/td&gt;\\n    &lt;/tr&gt;\\n    &lt;tr&gt;\\n      &lt;th id=&quot;T_1bb3c_level0_row1&quot; class=&quot;row_heading level0 row1&quot; &gt;latitude&lt;/th&gt;\\n      &lt;td id=&quot;T_1bb3c_row1_col0&quot; class=&quot;data row1 col0&quot; &gt;34.675000&lt;/td&gt;\\n    &lt;/tr&gt;\\n    &lt;tr&gt;\\n      &lt;th id=&quot;T_1bb3c_level0_row2&quot; class=&quot;row_heading level0 row2&quot; &gt;longitude&lt;/th&gt;\\n      &lt;td id=&quot;T_1bb3c_row2_col0&quot; class=&quot;data row2 col0&quot; &gt;-72.698000&lt;/td&gt;\\n    &lt;/tr&gt;\\n    &lt;tr&gt;\\n      &lt;th id=&quot;T_1bb3c_level0_row3&quot; class=&quot;row_heading level0 row3&quot; &gt;time&lt;/th&gt;\\n      &lt;td id=&quot;T_1bb3c_row3_col0&quot; class=&quot;data row3 col0&quot; &gt;2021-01-01T00:40:00Z&lt;/td&gt;\\n    &lt;/tr&gt;\\n    &lt;tr&gt;\\n      &lt;th id=&quot;T_1bb3c_level0_row4&quot; class=&quot;row_heading level0 row4&quot; &gt;wvht&lt;/th&gt;\\n      &lt;td id=&quot;T_1bb3c_row4_col0&quot; class=&quot;data row4 col0&quot; &gt;2.140000&lt;/td&gt;\\n    &lt;/tr&gt;\\n    &lt;tr&gt;\\n      &lt;th id=&quot;T_1bb3c_level0_row5&quot; class=&quot;row_heading level0 row5&quot; &gt;wspd&lt;/th&gt;\\n      &lt;td id=&quot;T_1bb3c_row5_col0&quot; class=&quot;data row5 col0&quot; &gt;10.000000&lt;/td&gt;\\n    &lt;/tr&gt;\\n    &lt;tr&gt;\\n      &lt;th id=&quot;T_1bb3c_level0_row6&quot; class=&quot;row_heading level0 row6&quot; &gt;gst&lt;/th&gt;\\n      &lt;td id=&quot;T_1bb3c_row6_col0&quot; class=&quot;data row6 col0&quot; &gt;12.800000&lt;/td&gt;\\n    &lt;/tr&gt;\\n  &lt;/tbody&gt;\\n&lt;/table&gt;\\n\"},\"id\":\"1069\",\"type\":\"panel.models.markup.HTML\"},{\"attributes\":{\"end\":764430,\"margin\":[5,10,5,10],\"start\":0,\"title\":\"row\",\"value\":0},\"id\":\"1067\",\"type\":\"Slider\"},{\"attributes\":{\"css_classes\":[\"markdown\"],\"margin\":[5,5,5,5],\"name\":\"Markdown00124\",\"text\":\"&lt;h2&gt;Major Waves Dashboard&lt;/h2&gt;\"},\"id\":\"1062\",\"type\":\"panel.models.markup.HTML\"},{\"attributes\":{\"client_comm_id\":\"9113bafa56384c179e84ea5da5d96adb\",\"comm_id\":\"4116f02e50d64754bf826eff8b6fae0b\",\"plot_id\":\"1060\"},\"id\":\"1073\",\"type\":\"panel.models.comm_manager.CommManager\"},{\"attributes\":{\"css_classes\":[\"markdown\"],\"margin\":[5,5,5,5],\"name\":\"Markdown00141\",\"text\":\"&lt;h3&gt;Top 5&lt;/h3&gt;\"},\"id\":\"1071\",\"type\":\"panel.models.markup.HTML\"},{\"attributes\":{\"margin\":[5,5,5,5],\"name\":\"DataFrame00139\",\"text\":\"&lt;table border=&quot;0&quot; class=&quot;dataframe panel-df&quot;&gt;\\n  &lt;thead&gt;\\n    &lt;tr style=&quot;text-align: right;&quot;&gt;\\n      &lt;th&gt;&lt;/th&gt;\\n      &lt;th&gt;station&lt;/th&gt;\\n      &lt;th&gt;time&lt;/th&gt;\\n      &lt;th&gt;wvht&lt;/th&gt;\\n    &lt;/tr&gt;\\n  &lt;/thead&gt;\\n  &lt;tbody&gt;\\n    &lt;tr&gt;\\n      &lt;th&gt;237298&lt;/th&gt;\\n      &lt;td&gt;46071&lt;/td&gt;\\n      &lt;td&gt;2021-01-01T00:50:00Z&lt;/td&gt;\\n      &lt;td&gt;17.68&lt;/td&gt;\\n    &lt;/tr&gt;\\n    &lt;tr&gt;\\n      &lt;th&gt;237300&lt;/th&gt;\\n      &lt;td&gt;46071&lt;/td&gt;\\n      &lt;td&gt;2021-01-01T02:50:00Z&lt;/td&gt;\\n      &lt;td&gt;17.55&lt;/td&gt;\\n    &lt;/tr&gt;\\n    &lt;tr&gt;\\n      &lt;th&gt;237301&lt;/th&gt;\\n      &lt;td&gt;46071&lt;/td&gt;\\n      &lt;td&gt;2021-01-01T03:50:00Z&lt;/td&gt;\\n      &lt;td&gt;17.30&lt;/td&gt;\\n    &lt;/tr&gt;\\n    &lt;tr&gt;\\n      &lt;th&gt;237303&lt;/th&gt;\\n      &lt;td&gt;46071&lt;/td&gt;\\n      &lt;td&gt;2021-01-01T05:50:00Z&lt;/td&gt;\\n      &lt;td&gt;16.12&lt;/td&gt;\\n    &lt;/tr&gt;\\n    &lt;tr&gt;\\n      &lt;th&gt;237302&lt;/th&gt;\\n      &lt;td&gt;46071&lt;/td&gt;\\n      &lt;td&gt;2021-01-01T04:50:00Z&lt;/td&gt;\\n      &lt;td&gt;15.94&lt;/td&gt;\\n    &lt;/tr&gt;\\n    &lt;tr&gt;\\n      &lt;th&gt;237299&lt;/th&gt;\\n      &lt;td&gt;46071&lt;/td&gt;\\n      &lt;td&gt;2021-01-01T01:50:00Z&lt;/td&gt;\\n      &lt;td&gt;15.92&lt;/td&gt;\\n    &lt;/tr&gt;\\n    &lt;tr&gt;\\n      &lt;th&gt;237305&lt;/th&gt;\\n      &lt;td&gt;46071&lt;/td&gt;\\n      &lt;td&gt;2021-01-01T07:50:00Z&lt;/td&gt;\\n      &lt;td&gt;15.84&lt;/td&gt;\\n    &lt;/tr&gt;\\n    &lt;tr&gt;\\n      &lt;th&gt;237306&lt;/th&gt;\\n      &lt;td&gt;46071&lt;/td&gt;\\n      &lt;td&gt;2021-01-01T08:50:00Z&lt;/td&gt;\\n      &lt;td&gt;15.79&lt;/td&gt;\\n    &lt;/tr&gt;\\n    &lt;tr&gt;\\n      &lt;th&gt;237304&lt;/th&gt;\\n      &lt;td&gt;46071&lt;/td&gt;\\n      &lt;td&gt;2021-01-01T06:50:00Z&lt;/td&gt;\\n      &lt;td&gt;15.07&lt;/td&gt;\\n    &lt;/tr&gt;\\n    &lt;tr&gt;\\n      &lt;th&gt;238719&lt;/th&gt;\\n      &lt;td&gt;46071&lt;/td&gt;\\n      &lt;td&gt;2021-03-01T12:50:00Z&lt;/td&gt;\\n      &lt;td&gt;14.92&lt;/td&gt;\\n    &lt;/tr&gt;\\n  &lt;/tbody&gt;\\n&lt;/table&gt;\",\"width\":500},\"id\":\"1072\",\"type\":\"panel.models.markup.HTML\"},{\"attributes\":{\"children\":[{\"id\":\"1071\"},{\"id\":\"1072\"}],\"margin\":[0,0,0,0],\"name\":\"Column00143\"},\"id\":\"1070\",\"type\":\"Column\"},{\"attributes\":{\"children\":[{\"id\":\"1067\"}],\"margin\":[0,0,0,0],\"name\":\"Column00117\"},\"id\":\"1066\",\"type\":\"Column\"},{\"attributes\":{\"children\":[{\"id\":\"1061\"},{\"id\":\"1070\"}],\"margin\":[0,0,0,0],\"name\":\"Row00144\"},\"id\":\"1060\",\"type\":\"Row\"},{\"attributes\":{\"children\":[{\"id\":\"1069\"}],\"margin\":[0,0,0,0],\"name\":\"Row00116\"},\"id\":\"1068\",\"type\":\"Row\"}],\"root_ids\":[\"1060\",\"1073\"]},\"title\":\"Bokeh Application\",\"version\":\"2.3.3\"}};\n",
       "    var render_items = [{\"docid\":\"b6ce453c-5270-4d44-9637-78422bc2fe47\",\"root_ids\":[\"1060\"],\"roots\":{\"1060\":\"0886ae3a-ba60-446f-b75d-889e1f9a0bb8\"}}];\n",
       "    root.Bokeh.embed.embed_items_notebook(docs_json, render_items);\n",
       "  }\n",
       "  if (root.Bokeh !== undefined && root.Bokeh.Panel !== undefined) {\n",
       "    embed_document(root);\n",
       "  } else {\n",
       "    var attempts = 0;\n",
       "    var timer = setInterval(function(root) {\n",
       "      if (root.Bokeh !== undefined && root.Bokeh.Panel !== undefined) {\n",
       "        clearInterval(timer);\n",
       "        embed_document(root);\n",
       "      } else if (document.readyState == \"complete\") {\n",
       "        attempts++;\n",
       "        if (attempts > 200) {\n",
       "          clearInterval(timer);\n",
       "          console.log(\"Bokeh: ERROR: Unable to run BokehJS code because BokehJS library is missing\");\n",
       "        }\n",
       "      }\n",
       "    }, 25, root)\n",
       "  }\n",
       "})(window);</script>"
      ],
      "text/plain": [
       "Row\n",
       "    [0] Column\n",
       "        [0] Markdown(str)\n",
       "        [1] PNG(str, height=130)\n",
       "        [2] Markdown(str)\n",
       "        [3] Column\n",
       "            [0] Column\n",
       "                [0] IntSlider(end=764430, name='row')\n",
       "            [1] Row\n",
       "                [0] HTML(Styler, name='interactive00111')\n",
       "    [1] Column\n",
       "        [0] Markdown(str)\n",
       "        [1] DataFrame(DataFrame, width=500)"
      ]
     },
     "execution_count": 17,
     "metadata": {
      "application/vnd.holoviews_exec.v0+json": {
       "id": "1060"
      }
     },
     "output_type": "execute_result"
    }
   ],
   "source": [
    "row"
   ]
  },
  {
   "cell_type": "markdown",
   "metadata": {},
   "source": [
    "Once you are happy with the app or dashboard you have built you can annotate it with ``.servable()``. In the notebook, this annotation has no effect, but it will later indicate to the ``panel serve`` command that you want this particular component to be served. If you then go to the command line and run ``panel serve 02_Building_Panels.ipynb``, the code cells in the notebook will be executed and the resulting dashboard will be  available as a web server."
   ]
  },
  {
   "cell_type": "code",
   "execution_count": 18,
   "metadata": {},
   "outputs": [
    {
     "data": {},
     "metadata": {},
     "output_type": "display_data"
    },
    {
     "data": {
      "application/vnd.holoviews_exec.v0+json": "",
      "text/html": [
       "<div id='1074'>\n",
       "\n",
       "\n",
       "\n",
       "\n",
       "\n",
       "  <div class=\"bk-root\" id=\"0217af65-690b-4c43-b15a-9aa418269647\" data-root-id=\"1074\"></div>\n",
       "</div>\n",
       "<script type=\"application/javascript\">(function(root) {\n",
       "  function embed_document(root) {\n",
       "    var docs_json = {\"c921329a-65b6-41fd-a8c0-4b9fabcac80e\":{\"defs\":[{\"extends\":null,\"module\":null,\"name\":\"ReactiveHTML1\",\"overrides\":[],\"properties\":[]},{\"extends\":null,\"module\":null,\"name\":\"FlexBox1\",\"overrides\":[],\"properties\":[{\"default\":\"flex-start\",\"kind\":null,\"name\":\"align_content\"},{\"default\":\"flex-start\",\"kind\":null,\"name\":\"align_items\"},{\"default\":\"row\",\"kind\":null,\"name\":\"flex_direction\"},{\"default\":\"wrap\",\"kind\":null,\"name\":\"flex_wrap\"},{\"default\":\"flex-start\",\"kind\":null,\"name\":\"justify_content\"}]},{\"extends\":null,\"module\":null,\"name\":\"TemplateActions1\",\"overrides\":[],\"properties\":[{\"default\":0,\"kind\":null,\"name\":\"open_modal\"},{\"default\":0,\"kind\":null,\"name\":\"close_modal\"}]},{\"extends\":null,\"module\":null,\"name\":\"MaterialTemplateActions1\",\"overrides\":[],\"properties\":[{\"default\":0,\"kind\":null,\"name\":\"open_modal\"},{\"default\":0,\"kind\":null,\"name\":\"close_modal\"}]}],\"roots\":{\"references\":[{\"attributes\":{\"client_comm_id\":\"d86ae3b5188c43f88744f1906e7ef760\",\"comm_id\":\"ee9eadc30add48b6ac72f2dbfad59350\",\"plot_id\":\"1074\"},\"id\":\"1087\",\"type\":\"panel.models.comm_manager.CommManager\"},{\"attributes\":{\"end\":764430,\"margin\":[5,10,5,10],\"start\":0,\"title\":\"row\",\"value\":0},\"id\":\"1081\",\"type\":\"Slider\"},{\"attributes\":{\"margin\":[5,5,5,5],\"name\":\"interactive00111\",\"text\":\"&lt;style type=&quot;text/css&quot;&gt;\\n&lt;/style&gt;\\n&lt;table id=&quot;T_1bb3c_&quot;&gt;\\n  &lt;thead&gt;\\n    &lt;tr&gt;\\n      &lt;th class=&quot;blank level0&quot; &gt;&amp;nbsp;&lt;/th&gt;\\n      &lt;th class=&quot;col_heading level0 col0&quot; &gt;0&lt;/th&gt;\\n    &lt;/tr&gt;\\n  &lt;/thead&gt;\\n  &lt;tbody&gt;\\n    &lt;tr&gt;\\n      &lt;th id=&quot;T_1bb3c_level0_row0&quot; class=&quot;row_heading level0 row0&quot; &gt;station&lt;/th&gt;\\n      &lt;td id=&quot;T_1bb3c_row0_col0&quot; class=&quot;data row0 col0&quot; &gt;41001&lt;/td&gt;\\n    &lt;/tr&gt;\\n    &lt;tr&gt;\\n      &lt;th id=&quot;T_1bb3c_level0_row1&quot; class=&quot;row_heading level0 row1&quot; &gt;latitude&lt;/th&gt;\\n      &lt;td id=&quot;T_1bb3c_row1_col0&quot; class=&quot;data row1 col0&quot; &gt;34.675000&lt;/td&gt;\\n    &lt;/tr&gt;\\n    &lt;tr&gt;\\n      &lt;th id=&quot;T_1bb3c_level0_row2&quot; class=&quot;row_heading level0 row2&quot; &gt;longitude&lt;/th&gt;\\n      &lt;td id=&quot;T_1bb3c_row2_col0&quot; class=&quot;data row2 col0&quot; &gt;-72.698000&lt;/td&gt;\\n    &lt;/tr&gt;\\n    &lt;tr&gt;\\n      &lt;th id=&quot;T_1bb3c_level0_row3&quot; class=&quot;row_heading level0 row3&quot; &gt;time&lt;/th&gt;\\n      &lt;td id=&quot;T_1bb3c_row3_col0&quot; class=&quot;data row3 col0&quot; &gt;2021-01-01T00:40:00Z&lt;/td&gt;\\n    &lt;/tr&gt;\\n    &lt;tr&gt;\\n      &lt;th id=&quot;T_1bb3c_level0_row4&quot; class=&quot;row_heading level0 row4&quot; &gt;wvht&lt;/th&gt;\\n      &lt;td id=&quot;T_1bb3c_row4_col0&quot; class=&quot;data row4 col0&quot; &gt;2.140000&lt;/td&gt;\\n    &lt;/tr&gt;\\n    &lt;tr&gt;\\n      &lt;th id=&quot;T_1bb3c_level0_row5&quot; class=&quot;row_heading level0 row5&quot; &gt;wspd&lt;/th&gt;\\n      &lt;td id=&quot;T_1bb3c_row5_col0&quot; class=&quot;data row5 col0&quot; &gt;10.000000&lt;/td&gt;\\n    &lt;/tr&gt;\\n    &lt;tr&gt;\\n      &lt;th id=&quot;T_1bb3c_level0_row6&quot; class=&quot;row_heading level0 row6&quot; &gt;gst&lt;/th&gt;\\n      &lt;td id=&quot;T_1bb3c_row6_col0&quot; class=&quot;data row6 col0&quot; &gt;12.800000&lt;/td&gt;\\n    &lt;/tr&gt;\\n  &lt;/tbody&gt;\\n&lt;/table&gt;\\n\"},\"id\":\"1083\",\"type\":\"panel.models.markup.HTML\"},{\"attributes\":{\"children\":[{\"id\":\"1076\"},{\"id\":\"1077\"},{\"id\":\"1078\"},{\"id\":\"1079\"}],\"margin\":[0,0,0,0],\"name\":\"Column00136\"},\"id\":\"1075\",\"type\":\"Column\"},{\"attributes\":{\"css_classes\":[\"markdown\"],\"margin\":[5,5,5,5],\"name\":\"Markdown00124\",\"text\":\"&lt;h2&gt;Major Waves Dashboard&lt;/h2&gt;\"},\"id\":\"1076\",\"type\":\"panel.models.markup.HTML\"},{\"attributes\":{\"children\":[{\"id\":\"1081\"}],\"margin\":[0,0,0,0],\"name\":\"Column00117\"},\"id\":\"1080\",\"type\":\"Column\"},{\"attributes\":{\"children\":[{\"id\":\"1083\"}],\"margin\":[0,0,0,0],\"name\":\"Row00116\"},\"id\":\"1082\",\"type\":\"Row\"},{\"attributes\":{\"children\":[{\"id\":\"1080\"},{\"id\":\"1082\"}],\"margin\":[0,0,0,0],\"name\":\"Column00112\"},\"id\":\"1079\",\"type\":\"Column\"},{\"attributes\":{\"children\":[{\"id\":\"1085\"},{\"id\":\"1086\"}],\"margin\":[0,0,0,0],\"name\":\"Column00143\"},\"id\":\"1084\",\"type\":\"Column\"},{\"attributes\":{\"height\":130,\"margin\":[5,5,5,5],\"name\":\"PNG00128\",\"text\":\"&lt;img src=&quot;data:image/png;base64,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&quot; width=&quot;398px&quot; height=&quot;130px&quot; alt=&quot;&quot;&gt;&lt;/img&gt;\",\"width\":398},\"id\":\"1077\",\"type\":\"panel.models.markup.HTML\"},{\"attributes\":{\"children\":[{\"id\":\"1075\"},{\"id\":\"1084\"}],\"margin\":[0,0,0,0],\"name\":\"Row00144\"},\"id\":\"1074\",\"type\":\"Row\"},{\"attributes\":{\"css_classes\":[\"markdown\"],\"margin\":[5,5,5,5],\"name\":\"Markdown00141\",\"text\":\"&lt;h3&gt;Top 5&lt;/h3&gt;\"},\"id\":\"1085\",\"type\":\"panel.models.markup.HTML\"},{\"attributes\":{\"css_classes\":[\"markdown\"],\"margin\":[5,5,5,5],\"name\":\"Markdown00149\",\"text\":\"&lt;p&gt;This dashboard displays the tallest waves&lt;/p&gt;\"},\"id\":\"1078\",\"type\":\"panel.models.markup.HTML\"},{\"attributes\":{\"margin\":[5,5,5,5],\"name\":\"DataFrame00139\",\"text\":\"&lt;table border=&quot;0&quot; class=&quot;dataframe panel-df&quot;&gt;\\n  &lt;thead&gt;\\n    &lt;tr style=&quot;text-align: right;&quot;&gt;\\n      &lt;th&gt;&lt;/th&gt;\\n      &lt;th&gt;station&lt;/th&gt;\\n      &lt;th&gt;time&lt;/th&gt;\\n      &lt;th&gt;wvht&lt;/th&gt;\\n    &lt;/tr&gt;\\n  &lt;/thead&gt;\\n  &lt;tbody&gt;\\n    &lt;tr&gt;\\n      &lt;th&gt;237298&lt;/th&gt;\\n      &lt;td&gt;46071&lt;/td&gt;\\n      &lt;td&gt;2021-01-01T00:50:00Z&lt;/td&gt;\\n      &lt;td&gt;17.68&lt;/td&gt;\\n    &lt;/tr&gt;\\n    &lt;tr&gt;\\n      &lt;th&gt;237300&lt;/th&gt;\\n      &lt;td&gt;46071&lt;/td&gt;\\n      &lt;td&gt;2021-01-01T02:50:00Z&lt;/td&gt;\\n      &lt;td&gt;17.55&lt;/td&gt;\\n    &lt;/tr&gt;\\n    &lt;tr&gt;\\n      &lt;th&gt;237301&lt;/th&gt;\\n      &lt;td&gt;46071&lt;/td&gt;\\n      &lt;td&gt;2021-01-01T03:50:00Z&lt;/td&gt;\\n      &lt;td&gt;17.30&lt;/td&gt;\\n    &lt;/tr&gt;\\n    &lt;tr&gt;\\n      &lt;th&gt;237303&lt;/th&gt;\\n      &lt;td&gt;46071&lt;/td&gt;\\n      &lt;td&gt;2021-01-01T05:50:00Z&lt;/td&gt;\\n      &lt;td&gt;16.12&lt;/td&gt;\\n    &lt;/tr&gt;\\n    &lt;tr&gt;\\n      &lt;th&gt;237302&lt;/th&gt;\\n      &lt;td&gt;46071&lt;/td&gt;\\n      &lt;td&gt;2021-01-01T04:50:00Z&lt;/td&gt;\\n      &lt;td&gt;15.94&lt;/td&gt;\\n    &lt;/tr&gt;\\n    &lt;tr&gt;\\n      &lt;th&gt;237299&lt;/th&gt;\\n      &lt;td&gt;46071&lt;/td&gt;\\n      &lt;td&gt;2021-01-01T01:50:00Z&lt;/td&gt;\\n      &lt;td&gt;15.92&lt;/td&gt;\\n    &lt;/tr&gt;\\n    &lt;tr&gt;\\n      &lt;th&gt;237305&lt;/th&gt;\\n      &lt;td&gt;46071&lt;/td&gt;\\n      &lt;td&gt;2021-01-01T07:50:00Z&lt;/td&gt;\\n      &lt;td&gt;15.84&lt;/td&gt;\\n    &lt;/tr&gt;\\n    &lt;tr&gt;\\n      &lt;th&gt;237306&lt;/th&gt;\\n      &lt;td&gt;46071&lt;/td&gt;\\n      &lt;td&gt;2021-01-01T08:50:00Z&lt;/td&gt;\\n      &lt;td&gt;15.79&lt;/td&gt;\\n    &lt;/tr&gt;\\n    &lt;tr&gt;\\n      &lt;th&gt;237304&lt;/th&gt;\\n      &lt;td&gt;46071&lt;/td&gt;\\n      &lt;td&gt;2021-01-01T06:50:00Z&lt;/td&gt;\\n      &lt;td&gt;15.07&lt;/td&gt;\\n    &lt;/tr&gt;\\n    &lt;tr&gt;\\n      &lt;th&gt;238719&lt;/th&gt;\\n      &lt;td&gt;46071&lt;/td&gt;\\n      &lt;td&gt;2021-03-01T12:50:00Z&lt;/td&gt;\\n      &lt;td&gt;14.92&lt;/td&gt;\\n    &lt;/tr&gt;\\n  &lt;/tbody&gt;\\n&lt;/table&gt;\",\"width\":500},\"id\":\"1086\",\"type\":\"panel.models.markup.HTML\"}],\"root_ids\":[\"1074\",\"1087\"]},\"title\":\"Bokeh Application\",\"version\":\"2.3.3\"}};\n",
       "    var render_items = [{\"docid\":\"c921329a-65b6-41fd-a8c0-4b9fabcac80e\",\"root_ids\":[\"1074\"],\"roots\":{\"1074\":\"0217af65-690b-4c43-b15a-9aa418269647\"}}];\n",
       "    root.Bokeh.embed.embed_items_notebook(docs_json, render_items);\n",
       "  }\n",
       "  if (root.Bokeh !== undefined && root.Bokeh.Panel !== undefined) {\n",
       "    embed_document(root);\n",
       "  } else {\n",
       "    var attempts = 0;\n",
       "    var timer = setInterval(function(root) {\n",
       "      if (root.Bokeh !== undefined && root.Bokeh.Panel !== undefined) {\n",
       "        clearInterval(timer);\n",
       "        embed_document(root);\n",
       "      } else if (document.readyState == \"complete\") {\n",
       "        attempts++;\n",
       "        if (attempts > 200) {\n",
       "          clearInterval(timer);\n",
       "          console.log(\"Bokeh: ERROR: Unable to run BokehJS code because BokehJS library is missing\");\n",
       "        }\n",
       "      }\n",
       "    }, 25, root)\n",
       "  }\n",
       "})(window);</script>"
      ],
      "text/plain": [
       "Row\n",
       "    [0] Column\n",
       "        [0] Markdown(str)\n",
       "        [1] PNG(str, height=130)\n",
       "        [2] Markdown(str)\n",
       "        [3] Column\n",
       "            [0] Column\n",
       "                [0] IntSlider(end=764430, name='row')\n",
       "            [1] Row\n",
       "                [0] HTML(Styler, name='interactive00111')\n",
       "    [1] Column\n",
       "        [0] Markdown(str)\n",
       "        [1] DataFrame(DataFrame, width=500)"
      ]
     },
     "execution_count": 18,
     "metadata": {
      "application/vnd.holoviews_exec.v0+json": {
       "id": "1074"
      }
     },
     "output_type": "execute_result"
    }
   ],
   "source": [
    "row.servable()"
   ]
  },
  {
   "cell_type": "markdown",
   "metadata": {},
   "source": [
    "Note that despite this deep support for switching back and forth between Jupyter and deployed servers, Jupyter is in no way required for this process -- the same deployed dashboard can be obtained by simply exporting the code cells here into their own .py file, and doing `panel serve 02_Building_Panels.py`."
   ]
  },
  {
   "cell_type": "markdown",
   "metadata": {},
   "source": [
    "#### Exercise\n",
    "\n",
    "Build a Panel component (or reuse one from a previous exercise) and call ``.show()`` on it."
   ]
  }
 ],
 "metadata": {
  "kernelspec": {
   "display_name": "Python [conda env:root] *",
   "language": "python",
   "name": "conda-root-py"
  },
  "language_info": {
   "codemirror_mode": {
    "name": "ipython",
    "version": 3
   },
   "file_extension": ".py",
   "mimetype": "text/x-python",
   "name": "python",
   "nbconvert_exporter": "python",
   "pygments_lexer": "ipython3",
   "version": "3.9.6"
  }
 },
 "nbformat": 4,
 "nbformat_minor": 4
}
