{
 "cells": [
  {
   "cell_type": "markdown",
   "id": "9fce3c2f-e502-44f6-9ea9-e3d23a7a14a0",
   "metadata": {},
   "source": [
    "This notebook contains the code samples found in Chapter 2, Section 1 of\n",
    "[Deep Learning with R](https://www.manning.com/books/deep-learning-with-r). Note\n",
    "that the original text features far more content, in particular further\n",
    "explanations and figures: in this notebook, you will only find source code and\n",
    "related comments.\n"
   ]
  },
  {
   "cell_type": "code",
   "execution_count": null,
   "id": "6195128e-f1c2-46ff-bb91-61747025e341",
   "metadata": {},
   "outputs": [],
   "source": [
    "Sys.setenv(\"RETICULATE_PYTHON\"=\"/srv/conda/bin/python\")\n",
    "\n",
    "library(keras)\n",
    "library(tensorflow)"
   ]
  },
  {
   "cell_type": "code",
   "execution_count": null,
   "id": "0e4128f1-0898-483a-b771-941dec3b9274",
   "metadata": {},
   "outputs": [],
   "source": [
    "tf_config()"
   ]
  },
  {
   "cell_type": "code",
   "execution_count": null,
   "id": "a6380571-ca22-43cc-bef5-98b704651e11",
   "metadata": {},
   "outputs": [],
   "source": [
    "tf_version()"
   ]
  },
  {
   "cell_type": "markdown",
   "id": "fe40328b-7d19-409d-a7a0-62949fce1844",
   "metadata": {},
   "source": [
    "Let's look at a concrete example of a neural network that uses the Keras R\n",
    "package to learn to classify hand-written digits. Unless you already have\n",
    "experience with Keras or similar libraries, you will not understand everything\n",
    "about this first example right away. You probably haven't even installed Keras\n",
    "yet. Don't worry, that is perfectly fine. In the next chapter, we will review\n",
    "each element in our example and explain them in detail. So don't worry if some\n",
    "steps seem arbitrary or look like magic to you! We've got to start somewhere.\n",
    "\n",
    "The problem we're trying to solve here is to classify grayscale images of\n",
    "handwritten digits (28 pixels by 28 pixels) into their 10 categories (0 to 9).\n",
    "We'll use the MNIST dataset, a classic dataset in the machine-learning\n",
    "community, which has been around almost as long as the field itself and has been\n",
    "intensively studied. It's a set of 60,000 training images, plus 10,000 test\n",
    "images, assembled by the National Institute of Standards and Technology (the\n",
    "NIST in MNIST) in the 1980s. You can think of \"solving\" MNIST as the \"Hello\n",
    "World\" of deep learning—it's what you do to verify that your algorithms are\n",
    "working as expected. As you become a machine-learning practitioner, you'll see\n",
    "MNIST come up over and over again, in scientific papers, blog posts, and so on.\n",
    "\n",
    "The MNIST dataset comes preloaded in Keras, in the form of `train` and `test`\n",
    "lists, each of which includes a set of images (`x`) and associated labels (`y`):\n"
   ]
  },
  {
   "cell_type": "code",
   "execution_count": null,
   "id": "eb9d01b0-2f64-48ad-a38f-fde2c389ccb3",
   "metadata": {},
   "outputs": [],
   "source": [
    "mnist <- dataset_mnist()\n",
    "train_images <- mnist$train$x\n",
    "train_labels <- mnist$train$y\n",
    "test_images <- mnist$test$x\n",
    "test_labels <- mnist$test$y"
   ]
  },
  {
   "cell_type": "markdown",
   "id": "fca9ab46-1507-4062-8227-64d6e48717a6",
   "metadata": {},
   "source": [
    "`train_images` and `train_labels` form the _training set_, the data that the\n",
    "model will learn from. The model will then be tested on the _test set_,\n",
    "`test_images` and `test_labels`. The images are encoded as as 3D arrays, and the\n",
    "labels are a 1D array of digits, ranging from 0 to 9. There is a one-to-one\n",
    "correspondence between the images and the labels.\n",
    "\n",
    "The R `str()` function is a convenient way to get a quick glimpse at the\n",
    "structure of an array. Let's use it to have a look at the training data:\n"
   ]
  },
  {
   "cell_type": "code",
   "execution_count": null,
   "id": "a2ba40c8-a63f-4010-873e-8d0848dbf5ea",
   "metadata": {},
   "outputs": [],
   "source": [
    "str(train_images)"
   ]
  },
  {
   "cell_type": "code",
   "execution_count": null,
   "id": "4c066d7f-9235-45cb-b841-5c2d28f55063",
   "metadata": {},
   "outputs": [],
   "source": [
    "train_images[1,,]"
   ]
  },
  {
   "cell_type": "code",
   "execution_count": null,
   "id": "5b01ee76-3299-4d7c-8597-cdc7f55eb0ba",
   "metadata": {},
   "outputs": [],
   "source": [
    "train_labels[1]"
   ]
  },
  {
   "cell_type": "code",
   "execution_count": null,
   "id": "0588dc0c-b5d7-41b1-ac9e-8da237fefac6",
   "metadata": {},
   "outputs": [],
   "source": [
    "str(train_labels)"
   ]
  },
  {
   "cell_type": "code",
   "execution_count": null,
   "id": "6161a0c3-614c-4184-b3cb-732b23039724",
   "metadata": {},
   "outputs": [],
   "source": [
    "str(test_images)"
   ]
  },
  {
   "cell_type": "markdown",
   "id": "4dfcc7f7-0520-4eb5-883a-8e188e86ef63",
   "metadata": {},
   "source": [
    "The workflow will be as follows: first we'll feed the neural network the\n",
    "training data, `train_images` and `train_labels`. The network will then learn to\n",
    "associate images and labels. Finally, we'll ask the network to produce\n",
    "predictions for `test_images`, and we'll verify whether these predictions match\n",
    "the labels from `test_labels`.\n",
    "\n",
    "Let's build the network -- again, remember that you aren't supposed to\n",
    "understand everything about this example yet.\n"
   ]
  },
  {
   "cell_type": "code",
   "execution_count": null,
   "id": "fcb5607b-caec-4872-8e05-953b2d0b9167",
   "metadata": {},
   "outputs": [],
   "source": [
    "network <- keras_model_sequential() %>% \n",
    "  layer_dense(units = 512, \n",
    "              activation = \"relu\", \n",
    "              input_shape = c(28 * 28)) %>% \n",
    "  layer_dense(units = 10, \n",
    "              activation = \"softmax\")"
   ]
  },
  {
   "cell_type": "markdown",
   "id": "09e5a2c8-fe3d-424e-a260-5b88afc73e20",
   "metadata": {},
   "source": [
    "The core building block of neural networks is the _layer_, a data-processing\n",
    "module that you can think of as a filter for data. Some data comes in, and it\n",
    "comes out in a more useful form. Specifically, layers extract _representations_\n",
    "out of the data fed into them—hopefully representations that are more meaningful\n",
    "for the problem at hand. Most of deep learning consists of chaining together\n",
    "simple layers that will implement a form of progressive _data distillation_. A\n",
    "deep-learning model is like a sieve for data processing, made of a succession of\n",
    "increasingly refined data filters—the layers.\n",
    "\n",
    "Here our network consists of a sequence of two layers, which are densely\n",
    "connected (also called _fully connected_) neural layers. The second (and last)\n",
    "layer is a 10-way _softmax_ layer, which means it will return an array of 10\n",
    "probability scores (summing to 1). Each score will be the probability that the\n",
    "current digit image belongs to one of our 10 digit classes.\n",
    "\n",
    "To make the network ready for training, we need to pick three more things, as\n",
    "part of the _compilation_ step:\n",
    "\n",
    "- _A loss function_—How the network will be able to measure how good a job it's\n",
    "  doing on its training data, and thus how it will be able to steer itself in\n",
    "  the right direction.\n",
    "- _An optimizer_—The mechanism through which the network will update itself\n",
    "  based on the data it sees and its loss function.\n",
    "- _Metrics to monitor during training and testing_—Here we'll only care about\n",
    "  accuracy (the fraction of the images that were correctly classified).\n",
    "\n",
    "The exact purpose of the loss function and the optimizer will be made clear\n",
    "throughout the next two chapters.\n"
   ]
  },
  {
   "cell_type": "code",
   "execution_count": null,
   "id": "273a99c1-c8bc-4255-9553-4c416402bc15",
   "metadata": {},
   "outputs": [],
   "source": [
    "network %>% compile(\n",
    "  optimizer = \"rmsprop\",\n",
    "  loss = \"categorical_crossentropy\",\n",
    "  metrics = c(\"accuracy\")\n",
    ")"
   ]
  },
  {
   "cell_type": "markdown",
   "id": "fc4c7c71-a448-4f44-b763-65b6608faa30",
   "metadata": {},
   "source": [
    "Before training, we'll preprocess the data by reshaping it into the shape the\n",
    "network expects and scaling it so that all values are in the `[0, 1]` interval.\n",
    "Previously, our training images, for instance, were stored in an array of shape\n",
    "`(60000, 28, 28)` of type integer with values in the `[0, 255]` interval. We\n",
    "transform it into a double array of shape `(60000, 28 * 28)` with values between\n",
    "0 and 1.\n"
   ]
  },
  {
   "cell_type": "code",
   "execution_count": null,
   "id": "01bea4b1-dd33-40e1-b254-393ee5ca3a6e",
   "metadata": {},
   "outputs": [],
   "source": [
    "train_images < -array_reshape(train_images, c(60000, 28 * 28))\n",
    "train_images < -train_images / 255\n",
    "\n",
    "test_images < -array_reshape(test_images, c(10000, 28 * 28))\n",
    "test_images < -test_images / 255"
   ]
  },
  {
   "cell_type": "markdown",
   "id": "22a6d5fa-f08a-4062-ba07-363bd94f71b0",
   "metadata": {
    "tags": []
   },
   "source": [
    "We also need to categorically encode the labels, a step which we explain in\n",
    "chapter 3:\n"
   ]
  },
  {
   "cell_type": "code",
   "execution_count": null,
   "id": "5501abf7-af46-4d80-89f7-15ab7754f4bd",
   "metadata": {},
   "outputs": [],
   "source": [
    "train_labels < -to_categorical(train_labels)\n",
    "test_labels < -to_categorical(test_labels)"
   ]
  },
  {
   "cell_type": "markdown",
   "id": "0aea565d-a9bb-4af2-bbcf-366e2ccb334f",
   "metadata": {},
   "source": [
    "We are now ready to train our network, which in Keras is done via a call to the\n",
    "`fit` method of the network: we \"fit\" the model to its training data.\n"
   ]
  },
  {
   "cell_type": "code",
   "execution_count": null,
   "id": "dfe6ae7f-997f-4743-99f4-b064d3c25153",
   "metadata": {},
   "outputs": [],
   "source": [
    "network %>% fit(train_images, \n",
    "                train_labels, \n",
    "                epochs = 5, \n",
    "                batch_size = 128)"
   ]
  },
  {
   "cell_type": "markdown",
   "id": "92cc12b5-b05b-4b8c-a49c-8b3545339747",
   "metadata": {},
   "source": [
    "Two quantities are being displayed during training: the \"loss\" of the network\n",
    "over the training data, and the accuracy of the network over the training data.\n",
    "\n",
    "We quickly reach an accuracy of 0.989 (i.e. 98.9%) on the training data. Now\n",
    "let's check that our model performs well on the test set too:\n"
   ]
  },
  {
   "cell_type": "code",
   "execution_count": null,
   "id": "6a4e6b1d-e17d-4821-bffb-60d17dde4507",
   "metadata": {},
   "outputs": [],
   "source": [
    "metrics <- network %>% evaluate(test_images, test_labels, verbose = 0)\n",
    "metrics"
   ]
  }
 ],
 "metadata": {
  "kernelspec": {
   "display_name": "R [conda env:root] *",
   "language": "R",
   "name": "conda-root-r"
  },
  "language_info": {
   "codemirror_mode": "r",
   "file_extension": ".r",
   "mimetype": "text/x-r-source",
   "name": "R",
   "pygments_lexer": "r",
   "version": "4.0.5"
  }
 },
 "nbformat": 4,
 "nbformat_minor": 5
}
