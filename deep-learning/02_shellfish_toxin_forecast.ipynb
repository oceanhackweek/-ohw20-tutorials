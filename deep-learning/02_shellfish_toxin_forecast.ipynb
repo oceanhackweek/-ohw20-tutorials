{
 "cells": [
  {
   "cell_type": "markdown",
   "id": "9260b862-134e-46e3-b95d-2c467e8624fa",
   "metadata": {},
   "source": [
    "# Shellfish Toxicity Forecasting with Deep Learning\n",
    "\n",
    "Ocean Hack Week 2021\n",
    "\n",
    "Johnathan Evanilla\n"
   ]
  },
  {
   "cell_type": "code",
   "execution_count": null,
   "id": "084d0756-cbfb-481a-9e2a-1c35746ffbc0",
   "metadata": {},
   "outputs": [],
   "source": [
    "Sys.setenv(\"RETICULATE_PYTHON\"=\"/srv/conda/bin/python\")\n",
    "\n",
    "library(keras)\n",
    "library(dplyr)\n",
    "\n",
    "source(\"tutorial_functions.R\")"
   ]
  },
  {
   "cell_type": "code",
   "execution_count": null,
   "id": "e019c4ef-fb60-42c6-b4dd-f7a000300ec5",
   "metadata": {},
   "outputs": [],
   "source": [
    "raw_data <- readr::read_csv(\"tutorial_data_test.csv\") \n",
    "\n",
    "head(raw_data)"
   ]
  },
  {
   "cell_type": "code",
   "execution_count": null,
   "id": "83c79103-c6cc-4fc9-ae4a-68306fccbf1f",
   "metadata": {},
   "outputs": [],
   "source": [
    "raw_data <- raw_data %>%\n",
    "    log_inputs(vars = c(\"t1\", \"t2\", \"t3\", \"t4\", \"t5\", \"t6\", \"t7\", \"t8\", \"t9\", \"t10\", \"t11\", \"t12\"))"
   ]
  },
  {
   "cell_type": "code",
   "execution_count": null,
   "id": "e3224f62-9b44-4408-9666-55159c7ee286",
   "metadata": {},
   "outputs": [],
   "source": [
    "#Generate images from data\n",
    "image_list <- make_image_list(raw_data,\n",
    "                              tox_levels =     c(0,10,30,80),\n",
    "                              forecast_steps = 1,\n",
    "                              n_steps =        2,\n",
    "                              minimum_gap =    4,\n",
    "                              maximum_gap =    10,\n",
    "                              toxins =         c(\"t1\", \"t2\", \"t3\", \"t4\", \"t5\", \"t6\", \"t7\", \"t8\", \"t9\", \"t10\", \"t11\", \"t12\"),\n",
    "                              environmentals = c(\"sst_cum\"))\n",
    "\n",
    "#Splits image_list by year for grouping into train/test data\n",
    "years <- sapply(image_list, function(x) {return(x$year)})\n",
    "image_list <- split(image_list, years)\n",
    "\n",
    "#configuration\n",
    "YEARS_TRAINING <-   c(\"2014\", \"2016\", \"2017\")\n",
    "YEARS_TESTING <-    \"2015\"\n",
    "  \n",
    "#Make a training set\n",
    "train <- pool_images_and_labels(image_list[YEARS_TRAINING], num_classes = 4)\n",
    "\n",
    "#Make a test set\n",
    "test <- pool_images_and_labels(image_list[YEARS_TESTING], num_classes = 4)\n",
    "\n",
    "str(train)\n",
    "head(train$labels)"
   ]
  },
  {
   "cell_type": "code",
   "execution_count": null,
   "id": "2a86e169-1111-4416-8cb3-7ace3d8acc8b",
   "metadata": {},
   "outputs": [],
   "source": [
    "model <- keras::keras_model_sequential() %>% \n",
    "  keras::layer_dense(units=64, \n",
    "                     activation = \"relu\", \n",
    "                     input_shape = dim(train$image)[2],\n",
    "                     name = \"input_layer\") %>%\n",
    "  keras::layer_dropout(rate = 0.4,\n",
    "                       name = \"dropout_1\") %>% \n",
    "  keras::layer_dense(units=32, \n",
    "                     activation = \"relu\",\n",
    "                     name = \"hidden_1\") %>% \n",
    "  keras::layer_dropout(rate=0.3,\n",
    "                       name = \"dropout_2\") %>% \n",
    "  keras::layer_dense(units=16, \n",
    "                     activation = \"relu\",\n",
    "                     name = \"hidden_2\") %>% \n",
    "  keras::layer_dropout(rate=0.2,\n",
    "                       name = \"dropout_3\") %>%\n",
    "  keras::layer_dense(units = 4, \n",
    "                     activation = \"softmax\",\n",
    "                     name = \"output\")\n",
    "\n",
    "summary(model)"
   ]
  },
  {
   "cell_type": "code",
   "execution_count": null,
   "id": "937a605d-8fd1-4b34-9a1a-ec7c57ee673d",
   "metadata": {},
   "outputs": [],
   "source": [
    "model %>% keras::compile(optimizer =  \"adam\",\n",
    "                         loss =       \"categorical_crossentropy\", \n",
    "                         metrics =    \"categorical_accuracy\")"
   ]
  },
  {
   "cell_type": "code",
   "execution_count": null,
   "id": "acb3d317-2368-4545-8601-09ffb3c444be",
   "metadata": {},
   "outputs": [],
   "source": [
    "history <- model %>% \n",
    "    keras::fit(x = train$image,\n",
    "               y = train$labels,\n",
    "               batch_size = 128,\n",
    "               epochs = 32,\n",
    "               verbose=1,\n",
    "               validation_split = 0.2,\n",
    "               shuffle = TRUE)\n",
    "\n",
    "plot(history)"
   ]
  },
  {
   "cell_type": "code",
   "execution_count": null,
   "id": "31abda2f-4946-407c-89a3-12c2eea7c2a2",
   "metadata": {},
   "outputs": [],
   "source": [
    "metrics <- model %>% \n",
    "  keras::evaluate(x = test$image,\n",
    "                  y = test$labels)\n",
    "\n",
    "predictions <- model %>% \n",
    "  keras::predict_classes(test$image)\n",
    "\n",
    "predicted_probs <- model %>% \n",
    "      keras::predict_proba(test$image)\n",
    "\n",
    "metrics"
   ]
  },
  {
   "cell_type": "code",
   "execution_count": null,
   "id": "906390c2-dd5a-42bf-b75a-09c99432afd5",
   "metadata": {},
   "outputs": [],
   "source": [
    "results <- dplyr::tibble(location = test$locations,\n",
    "                         date = as.Date(as.numeric(test$dates), origin = as.Date(\"1970-01-01\")),\n",
    "                         actual_classification = test$classifications,\n",
    "                         predicted_classification = predictions) %>% \n",
    "      dplyr::mutate(prob_0 = predicted_probs[,1]*100,\n",
    "                    prob_1 = predicted_probs[,2]*100,\n",
    "                    prob_2 = predicted_probs[,3]*100,\n",
    "                    prob_3 = predicted_probs[,4]*100)\n",
    "\n",
    "head(results)"
   ]
  },
  {
   "cell_type": "code",
   "execution_count": null,
   "id": "f92266cd-dbc8-4f1e-b86d-814d3d7f4a9d",
   "metadata": {},
   "outputs": [],
   "source": [
    "num_levels <- 4\n",
    "levels <- seq(from=0, to=(num_levels-1))\n",
    "\n",
    "cm <- as.data.frame(table(predicted = factor(predictions, levels), actual = factor(test$classifications, levels)))\n",
    "  \n",
    "confusion_matrix <- ggplot2::ggplot(data = cm,\n",
    "                                    mapping = ggplot2::aes(x = .data$predicted, y = .data$actual)) +\n",
    "  ggplot2::geom_tile(ggplot2::aes(fill = log(.data$Freq+1))) +\n",
    "  ggplot2::geom_text(ggplot2::aes(label = sprintf(\"%1.0f\", .data$Freq)), vjust = 1, size=8) +\n",
    "  ggplot2::scale_fill_gradient(low = \"white\", \n",
    "                               high = \"blue\") +\n",
    "  ggplot2::labs(x = \"Predicted Classifications\", \n",
    "                y = \"Actual Classifications\", \n",
    "                title=paste(\"Confusion Matrix -\", YEARS_TESTING, \"Toxin Testing Season Hindcast\",sep=\" \"),\n",
    "                subtitle=paste(\"Loss:\", round(metrics[1], 3), \"Accuracy:\", round(metrics[2], 3), sep=\" \"),\n",
    "                caption=paste(Sys.Date())) +\n",
    "  ggplot2::theme_linedraw() +\n",
    "  ggplot2::theme(axis.text=  ggplot2::element_text(size=14),\n",
    "                 axis.title= ggplot2::element_text(size=14,face=\"bold\"),\n",
    "                 title =     ggplot2::element_text(size = 14, face = \"bold\"),\n",
    "                 legend.position = \"none\") \n",
    "\n",
    "confusion_matrix"
   ]
  }
 ],
 "metadata": {
  "kernelspec": {
   "display_name": "R [conda env:root] *",
   "language": "R",
   "name": "conda-root-r"
  },
  "language_info": {
   "codemirror_mode": "r",
   "file_extension": ".r",
   "mimetype": "text/x-r-source",
   "name": "R",
   "pygments_lexer": "r",
   "version": "4.0.5"
  }
 },
 "nbformat": 4,
 "nbformat_minor": 5
}
