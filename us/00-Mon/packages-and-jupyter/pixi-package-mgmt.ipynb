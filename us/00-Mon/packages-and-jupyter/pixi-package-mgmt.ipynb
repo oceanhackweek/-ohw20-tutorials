{
 "cells": [
  {
   "cell_type": "markdown",
   "id": "15e886f1-a888-4f0b-b746-fe70dfa164fe",
   "metadata": {},
   "source": [
    "# Package management in python and beyond\n",
    "\n",
    "## File based system organization\n",
    ">In the beginning, there was the command line, compiler and file system. It it was good until it wasn't.\n",
    "\n",
    "In the early days of *nix, most programs were written in C and compiled at the command line. It didn't take long before it was obvious that organizing files into some type of predictable directory structure made everyone's life a little easier. This led to the \"standard\" (as long as folks generally follow it) of segregating binaries that run and libraries those binaries called upon. In \"classic\" unix, these directories were often placed in the \"user\" directory, /usr:\n",
    "\n",
    "```\n",
    "/usr/\n",
    "    ├── bin\n",
    "    ├── home\n",
    "    ├── lib\n",
    "```\n",
    "\n",
    "/bin contains runtime programs. /home contained user directories and files. /lib contained any needed libraries to run the programs in /bin and/or programs written by users. You can see remnants of this file structure in all modern *nix base OSs, including MacOS and all variants of Linux. Of course, each distribution does it a little different, but the basic structure is still there. There is an exhaustive history on [Wikipedia](https://en.wikipedia.org/wiki/Unix_filesystem).\n",
    "\n",
    "## Package managers\n",
    "\n",
    "Why should we care? Once Linux truly took off in at the turn of the century, different arrangements of the source code broke into separate distributions. Red Hat, Debian, SuSe and others all had their preferred arrangement, often related to where their maintainers had come from (solaris, BSD, Aix, etc). The idea was the same but the names were different. This became a problem when your program was looking for a basic library of functions like *libgcc.a* (or *libgfortran.a*, etc.) If you had some special software installed from a vendor, did those libraries end up in /usr/lib or /usr/superSpecial1.2/lib?\n",
    "\n",
    "This problem was eventually solved by using package managers at the system level, most prominently *yum* or *apt*, depending upon the type of distro you were using. \n",
    "\n",
    "Then Python arrived and started getting used a lot for system code as well as everyday programming tasks. Lot and lots of additional libraries proliferated and it was, for awhile, a *real* mess, particularly with Red Hat based distributions, since the system python also was used for managing the system, so if a user wanted to use a different, more up-to-date version all kinds of problems might happen if the system needed python1.5 and your were on python2.4. \n",
    "\n",
    "![XKCD strikes again!](https://imgs.xkcd.com/comics/python_environment_2x.png \"Python Environment\")\n",
    "\n",
    "## Resources to learn more\n",
    "\n",
    "* [Blog Post on python package managers](https://dublog.net/blog/so-many-python-package-managers/)\n",
    "* [micromamba: https://mamba.readthedocs.io/en/latest/user_guide/micromamba.html](https://mamba.readthedocs.io/en/latest/user_guide/micromamba.html)\n",
    "* [miniforge: https://github.com/conda-forge/miniforge](https://github.com/conda-forge/miniforge)\n",
    "* [pixi: https://prefix.dev/](https://prefix.dev/)"
   ]
  },
  {
   "cell_type": "markdown",
   "id": "207ed9db-4217-4661-860d-73a163a17d85",
   "metadata": {},
   "source": [
    "## Ocean Hack Week Tutorials and Videos\n",
    "* [General OHW Resources Page](https://oceanhackweek.org/resources/prep/)\n",
    "* [Jupyter Lab for OHW](https://oceanhackweek.org/resources/prep/jupyterhub.html)\n",
    "* [Software Installation Survival Guide (conda, etc)](https://www.youtube.com/embed/pIJXHyLcxjY?si=faKLciP2fuQSmIql)\n",
    "* \n"
   ]
  },
  {
   "cell_type": "markdown",
   "id": "0152bf81-a3aa-4119-877c-e868a6c46996",
   "metadata": {},
   "source": [
    "# >>>>>LIVE DEMO TIME<<<<<"
   ]
  },
  {
   "cell_type": "markdown",
   "id": "70bf9102-be95-412b-9c7d-7244048a265a",
   "metadata": {},
   "source": [
    "## 1) Look at your local directory, should match jupyter lab list"
   ]
  },
  {
   "cell_type": "code",
   "execution_count": 3,
   "id": "c7b0e7af-4b22-4450-a82e-06d1146dadf2",
   "metadata": {},
   "outputs": [
    {
     "name": "stdout",
     "output_type": "stream",
     "text": [
      "simple_kml_example.ipynb\n"
     ]
    }
   ],
   "source": [
    "!ls"
   ]
  },
  {
   "cell_type": "markdown",
   "id": "131b0106-13f2-4892-8f86-fbce0b681987",
   "metadata": {},
   "source": [
    "## 2) Open the simple kml example\n",
    "Click on the notebook in this directory called \"simple_kml_example\""
   ]
  },
  {
   "cell_type": "markdown",
   "id": "87b455de-b014-469a-a30c-76bcbb5e4632",
   "metadata": {},
   "source": [
    "## 3) Run the first cell\n",
    "This cell should fail, trying to load simplekml, as that library is not installed in OHW's Jupyter Hub.\n",
    "\n",
    "```\n",
    "---------------------------------------------------------------------------\n",
    "ModuleNotFoundError                       Traceback (most recent call last)\n",
    "Cell In[2], line 3\n",
    "      1 import pandas as pd\n",
    "      2 import xarray as xr\n",
    "----> 3 import simplekml\n",
    "      5 #dependencies for range ring\n",
    "      6 from functools import partial\n",
    "\n",
    "ModuleNotFoundError: No module named 'simplekml'\n",
    "```"
   ]
  },
  {
   "cell_type": "markdown",
   "id": "321721bf-60e9-40de-b1de-22d8caf83644",
   "metadata": {},
   "source": [
    "## 4) Use pixi to install local dependency for this directory\n",
    "\n",
    "First, access the Jupyter Hub terminal (+ on upper left, select terminal). To use pixi, we will need to first intialize the directory with pixi (comparable to conda env create [ENV_NAME])"
   ]
  },
  {
   "cell_type": "markdown",
   "id": "f065b3e9-489d-44cb-9dca-64e47f4b7a3f",
   "metadata": {},
   "source": [
    "### List the files in your home directory\n",
    "\n",
    "```\n",
    "jovyan@jupyter-cpsarason:~$ ls\n",
    "ohw-tutorials  shared  shared-readwrite\n",
    "jovyan@jupyter-cpsarason:~$ mkdir package-mgmt-test\n",
    "jovyan@jupyter-cpsarason:~$ cd package-mgmt-test\n",
    "```"
   ]
  },
  {
   "cell_type": "markdown",
   "id": "01b0f960-fb23-44f3-be9a-6fef6262f804",
   "metadata": {},
   "source": [
    "### View installed packages in the hub using pixi\n",
    "```\n",
    "jovyan@jupyter-cpsarason:~/package-mgmt-test$ pixi list\n",
    "```\n",
    "\n",
    "### grep the output for simplekml\n",
    "```\n",
    "jovyan@jupyter-cpsarason:~/package-mgmt-test$ pixi list | grep simplekml\n",
    "jovyan@jupyter-cpsarason:~/package-mgmt-test$\n",
    "```"
   ]
  },
  {
   "cell_type": "markdown",
   "id": "a67b7975-1d94-4285-88b4-cf156f15a787",
   "metadata": {},
   "source": [
    "### Create a local pixi installation that contains simplekml\n",
    "```\n",
    "jovyan@jupyter-cpsarason:~/package-mgmt-test$ pixi init\n",
    "Created /home/jovyan/package-mgmt-test/pixi.toml\n",
    "jovyan@jupyter-cpsarason:~/package-mgmt-test$ pixi add simplekml --manifest-file ./pixi.toml\n",
    "Added simplekml >=1.3.6,<2\n",
    "```"
   ]
  },
  {
   "cell_type": "markdown",
   "id": "6dd7e18f-974d-43ac-80df-034cbe636322",
   "metadata": {},
   "source": [
    "## 5) Open up a \"pixi jupyter\" tab and import simplekml to test\n",
    "You will likely run into an error.\n",
    "```\n",
    "To run the Pixi - Python 3 (ipykernel) kernel, you need to add the ipykernel package to your project dependencies.\n",
    "You can do this by running 'pixi add ipykernel' in your project directory and restarting your kernel.\n",
    "```\n"
   ]
  },
  {
   "cell_type": "markdown",
   "id": "67b688d8-1f29-4377-b4d0-482ceaab6e5b",
   "metadata": {},
   "source": [
    "### Add ipykernel to the local pixi install\n",
    "```\n",
    "jovyan@jupyter-cpsarason:~/package-mgmt-test$ pixi add ipykernel --manifest-path ./pixi.toml\n",
    "Added ipykernel >=6.29.5,<7\n",
    "```"
   ]
  },
  {
   "cell_type": "markdown",
   "id": "51ee9bfc-70f2-4fae-aff4-37e689504c1e",
   "metadata": {},
   "source": [
    "### Restart kernel and try simple_kml_example again\n",
    "What happens?\n",
    "\n",
    "This should probably fail, since now the Jupyter Hub is using your local pixi.toml file to run, and it won't find the other dependencies (numpy, pandas, etc)\n",
    "\n",
    "```\n",
    "---------------------------------------------------------------------------\n",
    "ModuleNotFoundError                       Traceback (most recent call last)\n",
    "Cell In[3], line 1\n",
    "----> 1 import pandas as pd\n",
    "      2 import xarray as xr\n",
    "      3 import simplekml\n",
    "\n",
    "ModuleNotFoundError: No module named 'pandas'\n",
    "```\n"
   ]
  },
  {
   "cell_type": "markdown",
   "id": "947fdf32-a1af-4cba-a442-e498bbb47986",
   "metadata": {},
   "source": [
    "### Add other dependencies with pixi, using local manifest path\n",
    "```\n",
    "jovyan@jupyter-cpsarason:~/package-mgmt-test$ pixi add pandas xarray pyproj shapely --manifest-path=./pixi.toml\n",
    "Added pandas >=2.2.2,<3\n",
    "Added xarray >=2024.7.0,<2025\n",
    "Added pyproj >=3.6.1,<4\n",
    "Added shapely >=2.0.6,<3\n",
    "```\n",
    "\n",
    "### Try running the example notebook again\n",
    "SUCCESS!\n"
   ]
  },
  {
   "cell_type": "markdown",
   "id": "3ed2fc78-b6d2-4081-999c-ca88ae166449",
   "metadata": {},
   "source": [
    "## Pixi Resources\n",
    "* https://prefix.dev/blog/pixi_a_fast_conda_alternative\n",
    "* https://pixi.sh/v0.24.2/tutorials/python/\n",
    "* https://pixi.sh/dev/switching_from/conda/"
   ]
  },
  {
   "cell_type": "markdown",
   "id": "0df4559a-40e9-415e-80d8-9bccce7f9f94",
   "metadata": {},
   "source": [
    "## Thanks\n",
    "Many thanks to @ocepaf (Filipe Fernandes) for his excellent package management introduction he presented at OHW23 (linked above) and to @abkfenris (Alex Kerney) for the introduction and walkthrough on how this stuff should work on the Jupyter Hub. All mistakes are mine, hit me with an issue in github or email at cbps@uw.edu.\n",
    "\n",
    "Last Update Sun Aug 25 13:25:08 PDT 2024, cbps@uw.edu\n"
   ]
  },
  {
   "cell_type": "code",
   "execution_count": null,
   "id": "eb23dacf-4fd3-4ca4-a478-55eea00439ce",
   "metadata": {},
   "outputs": [],
   "source": []
  }
 ],
 "metadata": {
  "kernelspec": {
   "display_name": "Python 3 (ipykernel)",
   "language": "python",
   "name": "python3"
  },
  "language_info": {
   "codemirror_mode": {
    "name": "ipython",
    "version": 3
   },
   "file_extension": ".py",
   "mimetype": "text/x-python",
   "name": "python",
   "nbconvert_exporter": "python",
   "pygments_lexer": "ipython3",
   "version": "3.12.5"
  }
 },
 "nbformat": 4,
 "nbformat_minor": 5
}
