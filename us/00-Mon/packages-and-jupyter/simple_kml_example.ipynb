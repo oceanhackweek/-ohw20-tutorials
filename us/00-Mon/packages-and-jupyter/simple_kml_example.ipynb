{
 "cells": [
  {
   "cell_type": "markdown",
   "id": "c4f24045-b63f-4c56-8071-ee9aebf88a9e",
   "metadata": {
    "scrolled": true
   },
   "source": [
    "# OHW Pixi Tutorial -- Simple notebook\n",
    "\n",
    "# NOTE: This notebook will not work unless you follow the steps in pixi-package-mgmt.pynb"
   ]
  },
  {
   "cell_type": "code",
   "execution_count": 8,
   "id": "9e7d310f-2148-4a2a-aade-a4446396cc4c",
   "metadata": {},
   "outputs": [
    {
     "name": "stderr",
     "output_type": "stream",
     "text": [
      "/Users/cbps/code/OHW/ohw-tutorials/us/00-Mon/packages-and-jupyter/.pixi/envs/default/lib/python3.12/site-packages/shapely/ops.py:276: FutureWarning: This function is deprecated. See: https://pyproj4.github.io/pyproj/stable/gotchas.html#upgrading-to-pyproj-2-from-pyproj-1\n",
      "  shell = type(geom.exterior)(zip(*func(*zip(*geom.exterior.coords))))\n"
     ]
    }
   ],
   "source": [
    "import pandas as pd\n",
    "import xarray as xr\n",
    "import simplekml\n",
    "\n",
    "#dependencies for range ring\n",
    "from functools import partial\n",
    "import pyproj\n",
    "from shapely.ops import transform\n",
    "from shapely.geometry import Point\n",
    "\n",
    "\n",
    "# ## Create a 1000km ring in the middle of the Atlantic\n",
    "\n",
    "proj_wgs84 = pyproj.Proj('+proj=longlat +datum=WGS84')\n",
    "def geodesic_point_buffer(lat, lon, km):\n",
    "    # Azimuthal equidistant projection\n",
    "    aeqd_proj = '+proj=aeqd +lat_0={lat} +lon_0={lon} +x_0=0 +y_0=0'\n",
    "    project = partial(\n",
    "        pyproj.transform,\n",
    "        pyproj.Proj(aeqd_proj.format(lat=lat, lon=lon)),\n",
    "        proj_wgs84)\n",
    "    buf = Point(0, 0).buffer(km * 1000)  # distance in metres\n",
    "    return transform(project, buf).exterior.coords[:]\n",
    "\n",
    "ring = geodesic_point_buffer(25.84,  -45.17,1000)"
   ]
  },
  {
   "cell_type": "code",
   "execution_count": 9,
   "id": "a9fc20ec-309a-458b-8e5a-820dc8d822cd",
   "metadata": {},
   "outputs": [],
   "source": [
    "df = pd.DataFrame(ring)\n",
    "df.columns = ['lon','lat']"
   ]
  },
  {
   "cell_type": "code",
   "execution_count": 10,
   "id": "8ff69e8a-dbc9-41ac-b46e-49f7a4a8326a",
   "metadata": {},
   "outputs": [],
   "source": [
    "kml = simplekml.Kml()\n",
    "linestring = kml.newlinestring(name=\"A Line\")\n",
    "\n",
    "coords=[]\n",
    "for line in zip(df.lon,df.lat):\n",
    "    coords.append(line)\n",
    "linestring.coords=coords\n",
    "kml.save('test.kml')\n"
   ]
  },
  {
   "cell_type": "code",
   "execution_count": null,
   "id": "5b6af6d3-25c7-4af5-a1cb-6ebf7961943c",
   "metadata": {},
   "outputs": [],
   "source": []
  },
  {
   "cell_type": "code",
   "execution_count": null,
   "id": "b3651b41-102d-415d-8105-952eaf42a5e2",
   "metadata": {},
   "outputs": [],
   "source": []
  }
 ],
 "metadata": {
  "kernelspec": {
   "display_name": "Python 3 (ipykernel)",
   "language": "python",
   "name": "python3"
  },
  "language_info": {
   "codemirror_mode": {
    "name": "ipython",
    "version": 3
   },
   "file_extension": ".py",
   "mimetype": "text/x-python",
   "name": "python",
   "nbconvert_exporter": "python",
   "pygments_lexer": "ipython3",
   "version": "3.12.5"
  }
 },
 "nbformat": 4,
 "nbformat_minor": 5
}
