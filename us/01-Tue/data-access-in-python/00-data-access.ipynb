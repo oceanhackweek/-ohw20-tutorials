{
 "cells": [
  {
   "cell_type": "code",
   "execution_count": null,
   "metadata": {
    "slideshow": {
     "slide_type": "skip"
    }
   },
   "outputs": [],
   "source": [
    "from pandas.plotting import register_matplotlib_converters\n",
    "\n",
    "register_matplotlib_converters()\n",
    "\n",
    "import warnings\n",
    "\n",
    "warnings.filterwarnings(\"ignore\")"
   ]
  },
  {
   "cell_type": "markdown",
   "metadata": {
    "slideshow": {
     "slide_type": "slide"
    }
   },
   "source": [
    "# Data Access\n",
    "\n",
    "## servers, servers everywhere and not a bit to flip\n",
    "\n",
    "![](https://imgs.xkcd.com/comics/digital_data.png)"
   ]
  },
  {
   "cell_type": "markdown",
   "metadata": {
    "slideshow": {
     "slide_type": "slide"
    }
   },
   "source": [
    "## whoami\n",
    "\n",
    "~~`ocefpaf` (Filipe Fernandes)~~ Callum Rollo\n",
    "\n",
    "- Physical Oceanographer\n",
    "- Data Plumber\n",
    "- Code Janitor\n",
    "- CI babysitter\n",
    "- ERDDAP admin"
   ]
  },
  {
   "cell_type": "markdown",
   "metadata": {
    "slideshow": {
     "slide_type": "slide"
    }
   },
   "source": [
    "## Filipe's day job: IOOS\n",
    "\n",
    "![](https://raw.githubusercontent.com/ocefpaf/2018-SciPy-talk/gh-pages/images/IOOS-RAs.jpg)"
   ]
  },
  {
   "cell_type": "markdown",
   "metadata": {
    "slideshow": {
     "slide_type": "slide"
    }
   },
   "source": [
    "## My day job: VOTO\n",
    "\n",
    "![](https://voiceoftheocean.org/wp-content/uploads/2022/06/All-observatories-low-resolution.jpg)"
   ]
  },
  {
   "cell_type": "markdown",
   "metadata": {
    "slideshow": {
     "slide_type": "slide"
    }
   },
   "source": [
    "## Big or small we need data!\n",
    "\n",
    "- There are various sources: variety of servers, APIs, and web services. Just to\n",
    "  list a few: OPeNDAP, ERDDAP, THREDDS, ftp, http(s), S3, LAS, etc.\n",
    "\n",
    "![](https://imgs.xkcd.com/comics/data_pipeline.png)"
   ]
  },
  {
   "cell_type": "markdown",
   "metadata": {},
   "source": [
    "## Feedback\n",
    "\n",
    "As you suffer from my tutorial on Data Access I'd love that you keep the following questions in mind so we can improve this tutorial. Should we focus on?\n",
    "\n",
    "- Leveraging metadata for finding and exploring data?\n",
    "- Software packages to access, slice, and dice data?\n",
    "- Data sources?\n",
    "- None of the above, we don't need this tutorial!\n"
   ]
  },
  {
   "cell_type": "markdown",
   "metadata": {
    "slideshow": {
     "slide_type": "slide"
    }
   },
   "source": [
    "## Web Services/Type of servers\n",
    "\n",
    "| Data Type                              | Web Service | Response    |\n",
    "| -------------------------------------- | ----------- | ----------- |\n",
    "| In-situ data<br>(buoys, stations, etc) | OGC SOS     | XML/CSV     |\n",
    "| Gridded data (models, satellite)       | OPeNDAP     | Binary      |\n",
    "| Raster Images                          | OGC WMS     | GeoTIFF/PNG |\n",
    "| ERDDAP                                 | Restful API | \\*          |\n",
    "\n",
    "- Your imagination is the limit!\n",
    "PS: There are also `stac` for images, cloud buckets for various formats, and many more."
   ]
  },
  {
   "cell_type": "markdown",
   "metadata": {
    "slideshow": {
     "slide_type": "slide"
    }
   },
   "source": [
    "## What are we going to see in this tutorial?\n",
    "\n",
    "Browse and access data from:\n",
    "\n",
    "1. ERDDAP\n",
    "2. OPeNDAP\n",
    "3. Searvey\n",
    "4. WMS\n",
    "5. CSW and CKAN\\*\n",
    "\n",
    "\n",
    "\\* There are many examples on CSW in [the IOOS code lab  jupyter-book ](https://ioos.github.io/ioos_code_lab/content/intro.html)."
   ]
  },
  {
   "cell_type": "markdown",
   "metadata": {
    "slideshow": {
     "slide_type": "slide"
    }
   },
   "source": [
    "## 1) ERDDAP\n",
    "\n",
    "### Learning objectives:\n",
    "\n",
    "- Explore an ERDDAP server with the python interface (erddapy);\n",
    "- Find data for a time/region of interest;\n",
    "- Download the data with a familiar format and create some plots."
   ]
  },
  {
   "cell_type": "markdown",
   "metadata": {
    "slideshow": {
     "slide_type": "slide"
    }
   },
   "source": [
    "## What is ERDDAP?\n",
    "\n",
    "- Flexible outputs: .html table, ESRI .asc and .csv, .csvp, Google Earth .kml,\n",
    "  OPeNDAP binary, .mat, .nc, ODV .txt, .tsv, .json, and .xhtml\n",
    "- RESTful API to access the data\n",
    "- Standardize dates and time in the results\n",
    "- Server-side searching and slicing"
   ]
  },
  {
   "cell_type": "code",
   "execution_count": null,
   "metadata": {
    "slideshow": {
     "slide_type": "slide"
    }
   },
   "outputs": [],
   "source": [
    "from erddapy import ERDDAP\n",
    "\n",
    "server = \"http://erddap.dataexplorer.oceanobservatories.org/erddap\"\n",
    "\n",
    "e = ERDDAP(server=server, protocol=\"tabledap\")"
   ]
  },
  {
   "cell_type": "markdown",
   "metadata": {
    "slideshow": {
     "slide_type": "slide"
    }
   },
   "source": [
    "### What services are available in the server?"
   ]
  },
  {
   "cell_type": "code",
   "execution_count": null,
   "metadata": {
    "slideshow": {
     "slide_type": "fragment"
    }
   },
   "outputs": [],
   "source": [
    "import pandas as pd\n",
    "\n",
    "df = pd.read_csv(\n",
    "    e.get_search_url(\n",
    "        response=\"csv\",\n",
    "        search_for=\"all\",\n",
    "    )\n",
    ")"
   ]
  },
  {
   "cell_type": "code",
   "execution_count": null,
   "metadata": {
    "slideshow": {
     "slide_type": "fragment"
    }
   },
   "outputs": [],
   "source": [
    "print(\n",
    "    f'We have {len(set(df[\"tabledap\"].dropna()))} '\n",
    "    f'tabledap, {len(set(df[\"griddap\"].dropna()))} '\n",
    "    f'griddap, and {len(set(df[\"wms\"].dropna()))} wms.'\n",
    ")"
   ]
  },
  {
   "cell_type": "markdown",
   "metadata": {
    "slideshow": {
     "slide_type": "slide"
    }
   },
   "source": [
    "### Let's query all the datasets that have the `standard_name` of `sea_water_practical_salinity`."
   ]
  },
  {
   "cell_type": "code",
   "execution_count": null,
   "metadata": {
    "slideshow": {
     "slide_type": "fragment"
    }
   },
   "outputs": [],
   "source": [
    "url = e.get_categorize_url(\n",
    "    categorize_by=\"standard_name\",\n",
    "    value=\"sea_water_practical_salinity\",\n",
    "    response=\"csv\",\n",
    ")\n",
    "\n",
    "df = pd.read_csv(url)\n",
    "\n",
    "dataset_ids = df.loc[\n",
    "    ~df[\"tabledap\"].isnull(), \"Dataset ID\"\n",
    "].tolist()\n",
    "\n",
    "dataset_ids_list = \"\\n\".join(dataset_ids)\n",
    "print(f\"Found {len(dataset_ids)} datasets\")"
   ]
  },
  {
   "cell_type": "markdown",
   "metadata": {
    "slideshow": {
     "slide_type": "slide"
    }
   },
   "source": [
    "### Let us narrow our search to deployments that within a lon/lat/time extent."
   ]
  },
  {
   "cell_type": "code",
   "execution_count": null,
   "metadata": {
    "slideshow": {
     "slide_type": "fragment"
    }
   },
   "outputs": [],
   "source": [
    "from ipyleaflet import FullScreenControl, Map, Rectangle\n",
    "\n",
    "min_lon, max_lon = -72, -69\n",
    "min_lat, max_lat = 38, 41\n",
    "\n",
    "rectangle = Rectangle(bounds=((min_lat, min_lon), (max_lat, max_lon)))\n",
    "\n",
    "m = Map(\n",
    "    center=((min_lat + max_lat) / 2, (min_lon + max_lon) / 2),\n",
    "    zoom=6,\n",
    ")\n",
    "\n",
    "m.add_layer(rectangle)\n",
    "m.add_control(FullScreenControl())\n",
    "m"
   ]
  },
  {
   "cell_type": "code",
   "execution_count": null,
   "metadata": {
    "slideshow": {
     "slide_type": "fragment"
    }
   },
   "outputs": [],
   "source": [
    "kw = {\n",
    "    \"min_time\": \"2016-07-10T00:00:00Z\",\n",
    "    \"max_time\": \"2017-02-10T00:00:00Z\",\n",
    "    \"min_lon\": min_lon,\n",
    "    \"max_lon\": max_lon,\n",
    "    \"min_lat\": min_lat,\n",
    "    \"max_lat\": max_lat,\n",
    "    \"standard_name\": \"sea_water_practical_salinity\",\n",
    "}"
   ]
  },
  {
   "cell_type": "code",
   "execution_count": null,
   "metadata": {
    "scrolled": true,
    "slideshow": {
     "slide_type": "slide"
    }
   },
   "outputs": [],
   "source": [
    "search_url = e.get_search_url(response=\"csv\", **kw)\n",
    "search = pd.read_csv(search_url)\n",
    "dataset_ids = search[\"Dataset ID\"].values\n",
    "\n",
    "dataset_ids_list = \"\\n\".join(dataset_ids)"
   ]
  },
  {
   "cell_type": "code",
   "execution_count": null,
   "metadata": {
    "scrolled": true,
    "slideshow": {
     "slide_type": "slide"
    }
   },
   "outputs": [],
   "source": [
    "print(f\"Found {len(dataset_ids)} Datasets:\\n{dataset_ids_list}\")"
   ]
  },
  {
   "cell_type": "code",
   "execution_count": null,
   "metadata": {
    "slideshow": {
     "slide_type": "slide"
    }
   },
   "outputs": [],
   "source": [
    "sal = \"sea_water_practical_salinity_profiler_depth_enabled\"\n",
    "temp = \"sea_water_temperature_profiler_depth_enabled\"\n",
    "\n",
    "e.dataset_id = dataset_ids[0]\n",
    "\n",
    "e.variables = [\n",
    "    \"z\",\n",
    "    \"latitude\",\n",
    "    \"longitude\",\n",
    "    sal,\n",
    "    temp,\n",
    "    \"time\",\n",
    "]\n",
    "\n",
    "e.constraints = {\"latitude>=\":min_lat,\n",
    "                 \"latitude<=\":max_lat,\n",
    "                 \"longitude>=\":min_lon,\n",
    "                 \"longitude<=\":max_lon,\n",
    " }\n",
    "\n",
    "\n",
    "url = e.get_download_url()\n",
    "print(url)"
   ]
  },
  {
   "cell_type": "markdown",
   "metadata": {},
   "source": [
    "Breaking the url down, we see that it specifies several things\n",
    "\n",
    "- `http://erddap.dataexplorer.oceanobservatories.org/erddap` The url of the server\n",
    "- `tabledap` the protocol, which can be tabledap or griddap\n",
    "- `ooi-cp02pmci-wfp01-04-flortk000` the ID of the dataset we want\n",
    "- `.html` the requested file format\n",
    "- `z,latitude,longitude,sea_water_practical`... the variables we request\n",
    "- `latitude>=38&latitude<=41&longitude>=-72`... constraints like the geographical extent\n",
    "\n",
    "\n"
   ]
  },
  {
   "cell_type": "code",
   "execution_count": null,
   "metadata": {
    "scrolled": true,
    "slideshow": {
     "slide_type": "slide"
    }
   },
   "outputs": [],
   "source": [
    "import pandas as pd\n",
    "\n",
    "df = e.to_pandas(index_col=\"time (UTC)\", parse_dates=True).dropna()\n",
    "\n",
    "df.head()"
   ]
  },
  {
   "cell_type": "markdown",
   "metadata": {
    "slideshow": {
     "slide_type": "slide"
    }
   },
   "source": [
    "Exercise: experiment with the `e.to_xarray()` method. Think about why/where use\n",
    "one or the other?\n"
   ]
  },
  {
   "cell_type": "code",
   "execution_count": null,
   "metadata": {
    "slideshow": {
     "slide_type": "slide"
    }
   },
   "outputs": [],
   "source": [
    "import matplotlib.pyplot as plt\n",
    "\n",
    "\n",
    "subset = df.loc[df[\"z (m)\"] == df[\"z (m)\"].min()]\n",
    "\n",
    "fig, ax = plt.subplots(figsize=(13, 3.75))\n",
    "subset[f\"{sal} (1e-3)\"][\"2016\"].dropna().plot(ax=ax);"
   ]
  },
  {
   "cell_type": "code",
   "execution_count": null,
   "metadata": {
    "slideshow": {
     "slide_type": "skip"
    }
   },
   "outputs": [],
   "source": [
    "import gsw\n",
    "import numpy as np\n",
    "\n",
    "\n",
    "def plot_ts():\n",
    "    fig, ax = plt.subplots(figsize=(5, 5))\n",
    "\n",
    "    s = np.linspace(0, 42, 100)\n",
    "    t = np.linspace(-2, 40, 100)\n",
    "\n",
    "    s, t = np.meshgrid(s, t)\n",
    "    sigma = gsw.sigma0(s, t)\n",
    "\n",
    "    cnt = np.arange(-7, 40, 5)\n",
    "    cs = ax.contour(s, t, sigma, colors=\"gray\", levels=cnt)\n",
    "    ax.clabel(cs, fontsize=9, inline=1, fmt=\"%2i\")\n",
    "\n",
    "    ax.set_xlabel(\"Salinity [g kg$^{-1}$]\")\n",
    "    ax.set_ylabel(\"Temperature [$^{\\circ}$C]\")\n",
    "    ax.scatter(df[f\"{sal} (1e-3)\"], df[f\"{temp} (degree_Celsius)\"], s=10, alpha=0.25)\n",
    "\n",
    "    ax.grid(True)\n",
    "    ax.axis([20, 40, 4, 26])\n",
    "    return fig, ax"
   ]
  },
  {
   "cell_type": "code",
   "execution_count": null,
   "metadata": {
    "slideshow": {
     "slide_type": "slide"
    }
   },
   "outputs": [],
   "source": [
    "fig, ax = plot_ts();"
   ]
  },
  {
   "cell_type": "code",
   "execution_count": null,
   "metadata": {
    "slideshow": {
     "slide_type": "slide"
    }
   },
   "outputs": [],
   "source": [
    "responses = [\"mat\", \"json\", \"ncCF\", \"ncCFHeader\"]\n",
    "\n",
    "for response in responses:\n",
    "    print(f\"{e.get_download_url(response=response)}\\n\")"
   ]
  },
  {
   "cell_type": "markdown",
   "metadata": {
    "slideshow": {
     "slide_type": "slide"
    }
   },
   "source": [
    "Exercise: explore the web interface for the OOI server URL:\n",
    "\n",
    "http://erddap.dataexplorer.oceanobservatories.org/erddap/index.html\n",
    "\n",
    "or the IOOS glider dac:\n",
    "\n",
    "https://gliders.ioos.us/erddap\n",
    "\n",
    "or the VOTO glider server:\n",
    "\n",
    "https://erddap.observations.voiceoftheocean.org/erddap\n",
    "\n",
    "and find a dataset of interested, download a format that you are familiar with\n",
    "and plot it (using the web interface or the Python, your choice).\n"
   ]
  },
  {
   "cell_type": "markdown",
   "metadata": {
    "slideshow": {
     "slide_type": "slide"
    }
   },
   "source": [
    "## 2) OPeNDAP\n",
    "\n",
    "\n",
    "- [OPeNDAP](https://www.opendap.org/about) stands for \"Open-source Project for a Network Data Access Protocol\"\n",
    "- Provides access to metadata and data subsets via the Web without downloading an entire dataset\n",
    "- Many tools that can read NetCDF files can also talk to an OPeNDAP URL directly\n",
    "\n",
    "\n",
    "### Learning objectives:\n",
    "\n",
    "- Open ocean model data from a THREDDS server via OPeNDAP using `xarray`;\n",
    "- Discuss the differences with an `erddapy` request;\n",
    "- Plot it using `xarray` interface."
   ]
  },
  {
   "cell_type": "code",
   "execution_count": null,
   "metadata": {
    "scrolled": true,
    "slideshow": {
     "slide_type": "slide"
    }
   },
   "outputs": [],
   "source": [
    "import cf_xarray\n",
    "import xarray as xr\n",
    "\n",
    "\n",
    "url = \"https://tds.marine.rutgers.edu/thredds/dodsC/roms/doppio/2017_da/avg/Averages_Best_Excluding_Day1\"\n",
    "\n",
    "ds = xr.open_dataset(url)\n",
    "ds.cf"
   ]
  },
  {
   "cell_type": "code",
   "execution_count": null,
   "metadata": {
    "slideshow": {
     "slide_type": "slide"
    }
   },
   "outputs": [],
   "source": [
    "variable = \"sea_water_potential_temperature\"\n",
    "time = \"2022-08-10\"\n",
    "surface = -1\n",
    "\n",
    "selection = ds.cf[variable].sel(\n",
    "    time=\"2022-08-10\"\n",
    ").isel(s_rho=surface)"
   ]
  },
  {
   "cell_type": "code",
   "execution_count": null,
   "metadata": {
    "slideshow": {
     "slide_type": "slide"
    }
   },
   "outputs": [],
   "source": [
    "import cartopy.crs as ccrs\n",
    "import matplotlib.pyplot as plt\n",
    "\n",
    "fig, ax = plt.subplots(\n",
    "    figsize=(6, 6), subplot_kw={\"projection\": ccrs.PlateCarree()},\n",
    ")\n",
    "\n",
    "selection.plot(\n",
    "    ax=ax,\n",
    "    x=\"lon_rho\",\n",
    "    y=\"lat_rho\",\n",
    ")\n",
    "ax.coastlines();"
   ]
  },
  {
   "cell_type": "markdown",
   "metadata": {
    "slideshow": {
     "slide_type": "slide"
    }
   },
   "source": [
    "## 3) Searvey\n",
    "\n",
    "### Learning objectives:\n",
    "\n",
    "- Use searvey to obtain CO-OPS data https://searvey.readthedocs.io"
   ]
  },
  {
   "cell_type": "code",
   "execution_count": null,
   "metadata": {
    "scrolled": true,
    "slideshow": {
     "slide_type": "slide"
    }
   },
   "outputs": [],
   "source": [
    "import shapely\n",
    "from searvey import coops\n",
    "\n",
    "secoora = shapely.geometry.box(-87.4, 24.25, -74.7, 36.7)\n",
    "df = coops.coops_stations_within_region(secoora)\n",
    "df"
   ]
  },
  {
   "cell_type": "code",
   "execution_count": null,
   "metadata": {
    "slideshow": {
     "slide_type": "slide"
    }
   },
   "outputs": [],
   "source": [
    "df.loc[df[\"name\"] == \"Duck\"]"
   ]
  },
  {
   "cell_type": "code",
   "execution_count": null,
   "metadata": {
    "slideshow": {
     "slide_type": "slide"
    }
   },
   "outputs": [],
   "source": [
    "from datetime import datetime, timedelta\n",
    "from searvey.coops import COOPS_Station\n",
    "\n",
    "station = COOPS_Station(\"Duck\")\n",
    "\n",
    "ds = station.product(\n",
    "    \"water_level\",\n",
    "    start_date=datetime.today() - timedelta(15),\n",
    "    end_date=datetime.today(),\n",
    ")\n",
    "\n",
    "ds[\"v\"].plot();"
   ]
  },
  {
   "cell_type": "markdown",
   "metadata": {
    "slideshow": {
     "slide_type": "slide"
    }
   },
   "source": [
    "## 4) WMS\n",
    "\n",
    "### Learning objectives:\n",
    "\n",
    "- Add a WMS layer to an interactive map. (\"Hurricane viz widget.\")"
   ]
  },
  {
   "cell_type": "code",
   "execution_count": null,
   "metadata": {
    "slideshow": {
     "slide_type": "slide"
    }
   },
   "outputs": [],
   "source": [
    "from ipyleaflet import FullScreenControl, Map, WMSLayer, basemaps\n",
    "from ipywidgets import SelectionSlider\n",
    "from traitlets import Unicode\n",
    "\n",
    "time_options = [\n",
    "    \"13:00\", \"13:30\", \"14:00\", \"14:30\", \"15:00\", \"15:30\",\n",
    "    \"16:00\", \"16:30\", \"17:00\", \"17:30\", \"18:00\", \"18:30\",\n",
    "]\n",
    "\n",
    "slider = SelectionSlider(description=\"Time:\", options=time_options)\n",
    "\n",
    "\n",
    "def update_wms(change):\n",
    "    time_wms.time = \"2020-07-25T{}\".format(slider.value)\n",
    "\n",
    "\n",
    "slider.observe(update_wms, \"value\")\n",
    "\n",
    "\n",
    "class TimeWMSLayer(WMSLayer):\n",
    "    time = Unicode(\"\").tag(sync=True, o=True)"
   ]
  },
  {
   "cell_type": "code",
   "execution_count": null,
   "metadata": {
    "slideshow": {
     "slide_type": "slide"
    }
   },
   "outputs": [],
   "source": [
    "time_wms = TimeWMSLayer(\n",
    "    url=\"https://mesonet.agron.iastate.edu/cgi-bin/wms/nexrad/n0r-t.cgi?\",\n",
    "    layers=\"nexrad-n0r-wmst\",\n",
    "    time=\"2020-07-25T13:00:00Z\",\n",
    "    format=\"image/png\",\n",
    "    transparent=True,\n",
    "    attribution=\"Weather data © 2012 IEM Nexrad\",\n",
    ")\n",
    "m = Map(basemap=basemaps.CartoDB.Positron, center=(30, -88), zoom=5)\n",
    "m.add_layer(time_wms)\n",
    "m.add_control(FullScreenControl())"
   ]
  },
  {
   "cell_type": "code",
   "execution_count": null,
   "metadata": {
    "slideshow": {
     "slide_type": "slide"
    }
   },
   "outputs": [],
   "source": [
    "m"
   ]
  },
  {
   "cell_type": "code",
   "execution_count": null,
   "metadata": {
    "slideshow": {
     "slide_type": "fragment"
    }
   },
   "outputs": [],
   "source": [
    "slider"
   ]
  },
  {
   "cell_type": "markdown",
   "metadata": {
    "slideshow": {
     "slide_type": "slide"
    }
   },
   "source": [
    "## 5) Catalog Service Web (CSW)\n",
    "\n",
    "### Is there a canonical source for data?"
   ]
  },
  {
   "cell_type": "markdown",
   "metadata": {
    "slideshow": {
     "slide_type": "fragment"
    }
   },
   "source": [
    "![](https://i.kym-cdn.com/photos/images/newsfeed/001/093/557/142.gif)"
   ]
  },
  {
   "cell_type": "markdown",
   "metadata": {
    "slideshow": {
     "slide_type": "fragment"
    }
   },
   "source": [
    "Well, kind of... The closet thing are data catalogs like the [IOOS CSW catalog](https://data.ioos.us/) or [pangeo-forge](https://pangeo-forge.readthedocs.io/en/latest/)."
   ]
  },
  {
   "cell_type": "markdown",
   "metadata": {
    "slideshow": {
     "slide_type": "slide"
    }
   },
   "source": [
    "## Catalog Service for the Web (CSW)\n",
    "\n",
    "- A single source to find endpoints\n",
    "- Nice python interface:<br>`owslib.csw.CatalogueServiceWeb`\n",
    "- Advanced filtering:<br>`owslib.fes`"
   ]
  },
  {
   "cell_type": "markdown",
   "metadata": {
    "slideshow": {
     "slide_type": "slide"
    }
   },
   "source": [
    "![](https://raw.githubusercontent.com/ocefpaf/2018-SciPy-talk/gh-pages/images/IOOS.svg)"
   ]
  },
  {
   "cell_type": "markdown",
   "metadata": {
    "slideshow": {
     "slide_type": "slide"
    }
   },
   "source": [
    "## IOOS CodeLab\n",
    "For more complex examples on how to find data in the catalog please check the [IOOS code gallery](https://ioos.github.io/ioos_code_lab/content/intro.html).\n",
    "\n",
    "![](https://ioos.github.io/ioos_code_lab/_images/ioos_CodeLab_image_multi_hex.png)"
   ]
  },
  {
   "cell_type": "markdown",
   "metadata": {
    "slideshow": {
     "slide_type": "slide"
    }
   },
   "source": [
    "## Where to find data?"
   ]
  },
  {
   "cell_type": "markdown",
   "metadata": {
    "slideshow": {
     "slide_type": "fragment"
    }
   },
   "source": [
    "Curated list of ERDDAP servers:\n",
    "https://github.com/IrishMarineInstitute/awesome-erddap\n",
    "\n",
    "Search across multiple ERDDAP servers https://erddap.com/\n",
    "\n",
    "Environmental Data Service (EDS) model viewer: https://eds.ioos.us\n",
    "\n",
    "Exploring THREDDS servers: https://unidata.github.io/siphon/latest"
   ]
  },
  {
   "cell_type": "markdown",
   "metadata": {
    "slideshow": {
     "slide_type": "slide"
    }
   },
   "source": [
    "## Extras: how does this all work?"
   ]
  },
  {
   "cell_type": "markdown",
   "metadata": {
    "slideshow": {
     "slide_type": "fragment"
    }
   },
   "source": [
    "## Standards!\n",
    "\n",
    "![](https://imgs.xkcd.com/comics/standards.png)"
   ]
  },
  {
   "cell_type": "markdown",
   "metadata": {
    "slideshow": {
     "slide_type": "slide"
    }
   },
   "source": [
    "## Bad example"
   ]
  },
  {
   "cell_type": "code",
   "execution_count": null,
   "metadata": {
    "slideshow": {
     "slide_type": "fragment"
    }
   },
   "outputs": [],
   "source": [
    "# original dataset from https://erddap.emodnet-physics.eu/erddap/griddap/INSITU_GLO_PHY_TS_OA_MY_013_052_PSAL.html\n",
    "import requests\n",
    "url = \"https://erddap.observations.voiceoftheocean.org/erddap/files/experiment_emodnet/emodnet.nc\"\n",
    "fn = \"example.nc\"\n",
    "response = requests.get(url)\n",
    "with open(fn, mode=\"wb\") as outfile:\n",
    "    outfile.write(response.content)\n",
    "\n",
    "import cftime\n",
    "from netCDF4 import Dataset\n",
    "import numpy as np\n",
    "from datetime import datetime\n",
    "import matplotlib.pyplot as plt\n",
    "nc = Dataset(fn)"
   ]
  },
  {
   "cell_type": "code",
   "execution_count": null,
   "metadata": {
    "slideshow": {
     "slide_type": "slide"
    }
   },
   "outputs": [],
   "source": [
    "\n",
    "\n",
    "psal = nc[\"PSAL\"][:, :, 0, 8]\n",
    "times = nc[\"time\"]\n",
    "psal[psal <= -9999] = np.nan\n",
    "t = cftime.num2date(times[:], times.units)\n",
    "mask = (t >= datetime(2021, 1, 1)) & (t <= datetime(2021, 12, 31))\n",
    "fig, ax = plt.subplots()\n",
    "ax.plot(t.astype(str)[mask], psal[:, 0][mask]);\n",
    "ax.tick_params(axis='x', labelrotation=45);"
   ]
  },
  {
   "cell_type": "markdown",
   "metadata": {
    "slideshow": {
     "slide_type": "slide"
    }
   },
   "source": [
    "## Good example"
   ]
  },
  {
   "cell_type": "code",
   "execution_count": null,
   "metadata": {
    "slideshow": {
     "slide_type": "fragment"
    }
   },
   "outputs": [],
   "source": [
    "import xarray as xr\n",
    "\n",
    "ds = xr.open_dataset(fn)\n"
   ]
  },
  {
   "cell_type": "code",
   "execution_count": null,
   "metadata": {
    "slideshow": {
     "slide_type": "slide"
    }
   },
   "outputs": [],
   "source": [
    "ds['PSAL'].sel(depth=1.0, time=\"2021\", longitude=0, latitude=0).plot();"
   ]
  },
  {
   "cell_type": "code",
   "execution_count": null,
   "metadata": {},
   "outputs": [],
   "source": []
  }
 ],
 "metadata": {
  "celltoolbar": "Slideshow",
  "kernelspec": {
   "display_name": "Python 3 (ipykernel)",
   "language": "python",
   "name": "python3"
  },
  "language_info": {
   "codemirror_mode": {
    "name": "ipython",
    "version": 3
   },
   "file_extension": ".py",
   "mimetype": "text/x-python",
   "name": "python",
   "nbconvert_exporter": "python",
   "pygments_lexer": "ipython3",
   "version": "3.11.5"
  },
  "livereveal": {
   "auto_select": "none",
   "footer": " ",
   "header": "<script src='/files/static/theme/reveal.js'></script>",
   "start_slideshow_at": "selected"
  },
  "widgets": {
   "application/vnd.jupyter.widget-state+json": {
    "state": {
     "0063a22e99c64923bf9d0dfbfb1a529a": {
      "model_module": "jupyter-leaflet",
      "model_module_version": "^0.17.0",
      "model_name": "LeafletMapStyleModel",
      "state": {
       "_model_module_version": "^0.17.0"
      }
     },
     "0b0bdc1ccf3e4224ab810fd1b89895c8": {
      "model_module": "@jupyter-widgets/base",
      "model_module_version": "1.2.0",
      "model_name": "LayoutModel",
      "state": {}
     },
     "0e53c0406a134975b037ab20b34a1d8c": {
      "model_module": "jupyter-leaflet",
      "model_module_version": "^0.17.0",
      "model_name": "LeafletMapStyleModel",
      "state": {
       "_model_module_version": "^0.17.0"
      }
     },
     "1cb111dc5810489fa0287ddae49bf845": {
      "model_module": "jupyter-leaflet",
      "model_module_version": "^0.17.0",
      "model_name": "LeafletTileLayerModel",
      "state": {
       "_model_module_version": "^0.17.0",
       "_view_module_version": "^0.17.0",
       "attribution": "&copy; <a href=\"https://www.openstreetmap.org/copyright\">OpenStreetMap</a> contributors &copy; <a href=\"https://carto.com/attributions\">CARTO</a>",
       "base": true,
       "max_zoom": 20,
       "min_zoom": 1,
       "name": "CartoDB.Positron",
       "options": [
        "attribution",
        "bounds",
        "detect_retina",
        "max_native_zoom",
        "max_zoom",
        "min_native_zoom",
        "min_zoom",
        "no_wrap",
        "tile_size",
        "tms"
       ],
       "url": "https://a.basemaps.cartocdn.com/light_all/{z}/{x}/{y}.png"
      }
     },
     "1dd555e93de24f0e97d1c05738bd5976": {
      "model_module": "jupyter-leaflet",
      "model_module_version": "^0.17.0",
      "model_name": "LeafletMapStyleModel",
      "state": {
       "_model_module_version": "^0.17.0",
       "cursor": "move"
      }
     },
     "1f8012a0da484810a9234489d83dd092": {
      "model_module": "jupyter-leaflet",
      "model_module_version": "^0.17.0",
      "model_name": "LeafletAttributionControlModel",
      "state": {
       "_model_module_version": "^0.17.0",
       "_view_module_version": "^0.17.0",
       "options": [
        "position",
        "prefix"
       ],
       "position": "bottomright",
       "prefix": "ipyleaflet"
      }
     },
     "205eb56e92244c26985045f128c3c339": {
      "model_module": "jupyter-leaflet",
      "model_module_version": "^0.17.0",
      "model_name": "LeafletMapModel",
      "state": {
       "_model_module_version": "^0.17.0",
       "_view_module_version": "^0.17.0",
       "bottom": 6432,
       "center": [
        39.5,
        -70.5
       ],
       "controls": [
        "IPY_MODEL_acf6274dcd8c43f49c453fc5f83edd08",
        "IPY_MODEL_a1a3c3800f484513b915653f349793a6",
        "IPY_MODEL_2d98ad622b5a4a51aa41a716c96c2f13"
       ],
       "default_style": "IPY_MODEL_0063a22e99c64923bf9d0dfbfb1a529a",
       "dragging_style": "IPY_MODEL_a08c4e687d094250b12ade9c870aeb74",
       "east": -64.16015625000001,
       "fullscreen": false,
       "interpolation": "bilinear",
       "layers": [
        "IPY_MODEL_ee6081535cc84bf1ba3eb07db6f848fa",
        "IPY_MODEL_398d6a74240149eab97aa201a6845b68"
       ],
       "layout": "IPY_MODEL_564a5f1d7dc74de19b4dca1025b463d5",
       "left": 4696,
       "modisdate": "2022-08-16",
       "north": 42.8115217450979,
       "options": [
        "bounce_at_zoom_limits",
        "box_zoom",
        "center",
        "close_popup_on_click",
        "double_click_zoom",
        "dragging",
        "fullscreen",
        "inertia",
        "inertia_deceleration",
        "inertia_max_speed",
        "interpolation",
        "keyboard",
        "keyboard_pan_offset",
        "keyboard_zoom_offset",
        "max_zoom",
        "min_zoom",
        "prefer_canvas",
        "scroll_wheel_zoom",
        "tap",
        "tap_tolerance",
        "touch_zoom",
        "world_copy_jump",
        "zoom",
        "zoom_animation_threshold",
        "zoom_delta",
        "zoom_snap"
       ],
       "prefer_canvas": false,
       "right": 5272,
       "south": 36.03133177633189,
       "style": "IPY_MODEL_0063a22e99c64923bf9d0dfbfb1a529a",
       "top": 6032,
       "west": -76.81640625000001,
       "window_url": "http://127.0.0.1:8888/notebooks/01-Tue/00-data-access-in-python/00-data-access.ipynb",
       "zoom": 6
      }
     },
     "2460e500fffd458d85262bc829a30d85": {
      "model_module": "jupyter-leaflet",
      "model_module_version": "^0.17.0",
      "model_name": "LeafletFullScreenControlModel",
      "state": {
       "_model_module_version": "^0.17.0",
       "_view_module_version": "^0.17.0",
       "options": [
        "position"
       ]
      }
     },
     "2518b4e736684661a901e5ac85e91f4f": {
      "model_module": "jupyter-leaflet",
      "model_module_version": "^0.17.0",
      "model_name": "LeafletMapStyleModel",
      "state": {
       "_model_module_version": "^0.17.0"
      }
     },
     "2d98ad622b5a4a51aa41a716c96c2f13": {
      "model_module": "jupyter-leaflet",
      "model_module_version": "^0.17.0",
      "model_name": "LeafletFullScreenControlModel",
      "state": {
       "_model_module_version": "^0.17.0",
       "_view_module_version": "^0.17.0",
       "options": [
        "position"
       ]
      }
     },
     "2ee932b433544658af80e4a7fe1b3f87": {
      "model_module": "jupyter-leaflet",
      "model_module_version": "^0.17.0",
      "model_name": "LeafletZoomControlModel",
      "state": {
       "_model_module_version": "^0.17.0",
       "_view_module_version": "^0.17.0",
       "options": [
        "position",
        "zoom_in_text",
        "zoom_in_title",
        "zoom_out_text",
        "zoom_out_title"
       ]
      }
     },
     "349f97408048461b9670a35bc0737d9b": {
      "model_module": "@jupyter-widgets/controls",
      "model_module_version": "1.5.0",
      "model_name": "DescriptionStyleModel",
      "state": {
       "description_width": ""
      }
     },
     "398d6a74240149eab97aa201a6845b68": {
      "model_module": "jupyter-leaflet",
      "model_module_version": "^0.17.0",
      "model_name": "LeafletRectangleModel",
      "state": {
       "_model_module_version": "^0.17.0",
       "_view_module_version": "^0.17.0",
       "bounds": [
        [
         38,
         -72
        ],
        [
         41,
         -69
        ]
       ],
       "draggable": false,
       "options": [
        "color",
        "dash_array",
        "draggable",
        "fill",
        "fill_color",
        "fill_opacity",
        "line_cap",
        "line_join",
        "no_clip",
        "opacity",
        "pointer_events",
        "smooth_factor",
        "stroke",
        "transform",
        "weight"
       ],
       "rotation": true,
       "scaling": true,
       "transform": false,
       "uniform_scaling": false
      }
     },
     "3ec23e1ebfec4371a7f663e1eacb85a9": {
      "model_module": "@jupyter-widgets/base",
      "model_module_version": "1.2.0",
      "model_name": "LayoutModel",
      "state": {}
     },
     "42bd271b7e5a43b18725bcd83bb6d6ce": {
      "model_module": "jupyter-leaflet",
      "model_module_version": "^0.17.0",
      "model_name": "LeafletMapModel",
      "state": {
       "_model_module_version": "^0.17.0",
       "_view_module_version": "^0.17.0",
       "bottom": 6432,
       "center": [
        39.5,
        -70.5
       ],
       "controls": [
        "IPY_MODEL_e5a3f495215e464fa550c4b78430b620",
        "IPY_MODEL_6a6ae707aa4940919633ce746f93e786",
        "IPY_MODEL_a27a83c460694621a45c0a7dc32644e4"
       ],
       "default_style": "IPY_MODEL_f33e994eb85045ef8508baea9f3adbb6",
       "dragging_style": "IPY_MODEL_1dd555e93de24f0e97d1c05738bd5976",
       "east": -60.07324218750001,
       "fullscreen": false,
       "interpolation": "bilinear",
       "layers": [
        "IPY_MODEL_83315eff3a084d0490645b02322b9e2f",
        "IPY_MODEL_597cf190777742d8b37f3ff6d47e96d3"
       ],
       "layout": "IPY_MODEL_3ec23e1ebfec4371a7f663e1eacb85a9",
       "left": 4510,
       "modisdate": "2022-08-15",
       "north": 42.8115217450979,
       "options": [
        "bounce_at_zoom_limits",
        "box_zoom",
        "center",
        "close_popup_on_click",
        "double_click_zoom",
        "dragging",
        "fullscreen",
        "inertia",
        "inertia_deceleration",
        "inertia_max_speed",
        "interpolation",
        "keyboard",
        "keyboard_pan_offset",
        "keyboard_zoom_offset",
        "max_zoom",
        "min_zoom",
        "prefer_canvas",
        "scroll_wheel_zoom",
        "tap",
        "tap_tolerance",
        "touch_zoom",
        "world_copy_jump",
        "zoom",
        "zoom_animation_threshold",
        "zoom_delta",
        "zoom_snap"
       ],
       "prefer_canvas": false,
       "right": 5458,
       "south": 36.03133177633189,
       "style": "IPY_MODEL_f33e994eb85045ef8508baea9f3adbb6",
       "top": 6032,
       "west": -80.9033203125,
       "window_url": "http://127.0.0.1:8888/notebooks/01-Tue/00-data-access-in-python/00-data-access.ipynb",
       "zoom": 6
      }
     },
     "4c35518862cc4213b2043d1f5c611a6c": {
      "model_module": "jupyter-leaflet",
      "model_module_version": "^0.17.0",
      "model_name": "LeafletMapModel",
      "state": {
       "_model_module_version": "^0.17.0",
       "_view_module_version": "^0.17.0",
       "center": [
        39.50404070558415,
        -70.48828125000001
       ],
       "controls": [
        "IPY_MODEL_8b383fe2b8b24398b40c6357d96dff59",
        "IPY_MODEL_b82a3caaae1a4c3c81822cdf797e83aa",
        "IPY_MODEL_2460e500fffd458d85262bc829a30d85"
       ],
       "default_style": "IPY_MODEL_2518b4e736684661a901e5ac85e91f4f",
       "dragging_style": "IPY_MODEL_5c69b4de3ec047f7a54159c8e1c2eead",
       "east": -180,
       "fullscreen": false,
       "interpolation": "bilinear",
       "layers": [
        "IPY_MODEL_5f9e7b576e2d4c3386f1a7848615d0e1",
        "IPY_MODEL_f58ae99b3ed0405697f6f2764f84e42f"
       ],
       "layout": "IPY_MODEL_0b0bdc1ccf3e4224ab810fd1b89895c8",
       "modisdate": "2022-08-15",
       "north": -90,
       "options": [
        "bounce_at_zoom_limits",
        "box_zoom",
        "center",
        "close_popup_on_click",
        "double_click_zoom",
        "dragging",
        "fullscreen",
        "inertia",
        "inertia_deceleration",
        "inertia_max_speed",
        "interpolation",
        "keyboard",
        "keyboard_pan_offset",
        "keyboard_zoom_offset",
        "max_zoom",
        "min_zoom",
        "prefer_canvas",
        "scroll_wheel_zoom",
        "tap",
        "tap_tolerance",
        "touch_zoom",
        "world_copy_jump",
        "zoom",
        "zoom_animation_threshold",
        "zoom_delta",
        "zoom_snap"
       ],
       "prefer_canvas": false,
       "south": 90,
       "style": "IPY_MODEL_2518b4e736684661a901e5ac85e91f4f",
       "west": 180,
       "window_url": "http://127.0.0.1:8888/notebooks/01-Tue/00-data-access-in-python/00-data-access.ipynb",
       "zoom": 6
      }
     },
     "564a5f1d7dc74de19b4dca1025b463d5": {
      "model_module": "@jupyter-widgets/base",
      "model_module_version": "1.2.0",
      "model_name": "LayoutModel",
      "state": {}
     },
     "597cf190777742d8b37f3ff6d47e96d3": {
      "model_module": "jupyter-leaflet",
      "model_module_version": "^0.17.0",
      "model_name": "LeafletRectangleModel",
      "state": {
       "_model_module_version": "^0.17.0",
       "_view_module_version": "^0.17.0",
       "bounds": [
        [
         38,
         -72
        ],
        [
         41,
         -69
        ]
       ],
       "draggable": false,
       "options": [
        "color",
        "dash_array",
        "draggable",
        "fill",
        "fill_color",
        "fill_opacity",
        "line_cap",
        "line_join",
        "no_clip",
        "opacity",
        "pointer_events",
        "smooth_factor",
        "stroke",
        "transform",
        "weight"
       ],
       "rotation": true,
       "scaling": true,
       "transform": false,
       "uniform_scaling": false
      }
     },
     "5b7e55f225374d948c4abcc0634f9bd6": {
      "model_module": "jupyter-leaflet",
      "model_module_version": "^0.17.0",
      "model_name": "LeafletMapStyleModel",
      "state": {
       "_model_module_version": "^0.17.0",
       "cursor": "move"
      }
     },
     "5c69b4de3ec047f7a54159c8e1c2eead": {
      "model_module": "jupyter-leaflet",
      "model_module_version": "^0.17.0",
      "model_name": "LeafletMapStyleModel",
      "state": {
       "_model_module_version": "^0.17.0",
       "cursor": "move"
      }
     },
     "5f9e7b576e2d4c3386f1a7848615d0e1": {
      "model_module": "jupyter-leaflet",
      "model_module_version": "^0.17.0",
      "model_name": "LeafletTileLayerModel",
      "state": {
       "_model_module_version": "^0.17.0",
       "_view_module_version": "^0.17.0",
       "attribution": "&copy; <a href=\"https://www.openstreetmap.org/copyright\">OpenStreetMap</a> contributors",
       "base": true,
       "max_zoom": 19,
       "min_zoom": 1,
       "name": "OpenStreetMap.Mapnik",
       "options": [
        "attribution",
        "bounds",
        "detect_retina",
        "max_native_zoom",
        "max_zoom",
        "min_native_zoom",
        "min_zoom",
        "no_wrap",
        "tile_size",
        "tms"
       ],
       "url": "https://a.tile.openstreetmap.org/{z}/{x}/{y}.png"
      }
     },
     "621810695fb24e0f834c7d05bfc872d9": {
      "model_module": "jupyter-leaflet",
      "model_module_version": "^0.17.0",
      "model_name": "LeafletMapModel",
      "state": {
       "_model_module_version": "^0.17.0",
       "_view_module_version": "^0.17.0",
       "bottom": 3580,
       "center": [
        30,
        -88
       ],
       "controls": [
        "IPY_MODEL_2ee932b433544658af80e4a7fe1b3f87",
        "IPY_MODEL_75315b5a508f4379b102afbb4a6565c9",
        "IPY_MODEL_7ae32d24a4f44dd487ae1bd8d7b4d8a0"
       ],
       "default_style": "IPY_MODEL_9157db1ac62f4527bfe69b0f6416bc31",
       "dragging_style": "IPY_MODEL_5b7e55f225374d948c4abcc0634f9bd6",
       "east": -75.01464843750001,
       "fullscreen": false,
       "interpolation": "bilinear",
       "layers": [
        "IPY_MODEL_1cb111dc5810489fa0287ddae49bf845",
        "IPY_MODEL_b089fe861d4e4975a1429e02bab4f372"
       ],
       "layout": "IPY_MODEL_72bba39a9aca4bf0976a1b26a917d2fe",
       "left": 1798,
       "modisdate": "2022-08-16",
       "north": 37.30027528134433,
       "options": [
        "bounce_at_zoom_limits",
        "box_zoom",
        "center",
        "close_popup_on_click",
        "double_click_zoom",
        "dragging",
        "fullscreen",
        "inertia",
        "inertia_deceleration",
        "inertia_max_speed",
        "interpolation",
        "keyboard",
        "keyboard_pan_offset",
        "keyboard_zoom_offset",
        "max_zoom",
        "min_zoom",
        "prefer_canvas",
        "scroll_wheel_zoom",
        "tap",
        "tap_tolerance",
        "touch_zoom",
        "world_copy_jump",
        "zoom",
        "zoom_animation_threshold",
        "zoom_delta",
        "zoom_snap"
       ],
       "prefer_canvas": false,
       "right": 2389,
       "south": 22.105998799750566,
       "style": "IPY_MODEL_808ab843b85e45c1ac46bfacc495d545",
       "top": 3180,
       "west": -100.986328125,
       "window_url": "http://127.0.0.1:8888/notebooks/01-Tue/00-data-access-in-python/00-data-access.ipynb",
       "zoom": 5
      }
     },
     "66a112c78616400c917dd2d39a42ca70": {
      "model_module": "jupyter-leaflet",
      "model_module_version": "^0.17.0",
      "model_name": "LeafletMapStyleModel",
      "state": {
       "_model_module_version": "^0.17.0"
      }
     },
     "698f8d03c7a641e6b87509649d19a5e4": {
      "model_module": "@jupyter-widgets/controls",
      "model_module_version": "1.5.0",
      "model_name": "SelectionSliderModel",
      "state": {
       "_options_labels": [
        "13:00",
        "13:30",
        "14:00",
        "14:30",
        "15:00",
        "15:30",
        "16:00",
        "16:30",
        "17:00",
        "17:30",
        "18:00",
        "18:30"
       ],
       "description": "Time:",
       "index": 0,
       "layout": "IPY_MODEL_b959095f660a4706b39a374ef9e8a58f",
       "style": "IPY_MODEL_7d63e48a79584c3fb7e94a71ac609567"
      }
     },
     "6a6ae707aa4940919633ce746f93e786": {
      "model_module": "jupyter-leaflet",
      "model_module_version": "^0.17.0",
      "model_name": "LeafletAttributionControlModel",
      "state": {
       "_model_module_version": "^0.17.0",
       "_view_module_version": "^0.17.0",
       "options": [
        "position",
        "prefix"
       ],
       "position": "bottomright",
       "prefix": "ipyleaflet"
      }
     },
     "6fb360f56bf64813b576e10c28fd1c26": {
      "model_module": "jupyter-leaflet",
      "model_module_version": "^0.17.0",
      "model_name": "LeafletMapModel",
      "state": {
       "_model_module_version": "^0.17.0",
       "_view_module_version": "^0.17.0",
       "bottom": 3580,
       "center": [
        30,
        -88
       ],
       "controls": [
        "IPY_MODEL_ed339b4b8b6542a68bb8d9d7899e4e7f",
        "IPY_MODEL_1f8012a0da484810a9234489d83dd092",
        "IPY_MODEL_731c5968cfdd4ec79c75a4d4f0a7977d"
       ],
       "default_style": "IPY_MODEL_0e53c0406a134975b037ab20b34a1d8c",
       "dragging_style": "IPY_MODEL_e5dcfc614c134baab7e2fb4904593c4f",
       "east": -66.84082031250001,
       "fullscreen": false,
       "interpolation": "bilinear",
       "layers": [
        "IPY_MODEL_f3b09e5594ee449faed5b2cef3bb3bf0",
        "IPY_MODEL_7432a43018544afb8a7818e44fa7df0f"
       ],
       "layout": "IPY_MODEL_c2d176a4fc134fca9a5a357b84179377",
       "left": 1612,
       "modisdate": "2022-08-15",
       "north": 37.30027528134433,
       "options": [
        "bounce_at_zoom_limits",
        "box_zoom",
        "center",
        "close_popup_on_click",
        "double_click_zoom",
        "dragging",
        "fullscreen",
        "inertia",
        "inertia_deceleration",
        "inertia_max_speed",
        "interpolation",
        "keyboard",
        "keyboard_pan_offset",
        "keyboard_zoom_offset",
        "max_zoom",
        "min_zoom",
        "prefer_canvas",
        "scroll_wheel_zoom",
        "tap",
        "tap_tolerance",
        "touch_zoom",
        "world_copy_jump",
        "zoom",
        "zoom_animation_threshold",
        "zoom_delta",
        "zoom_snap"
       ],
       "prefer_canvas": false,
       "right": 2575,
       "south": 22.105998799750566,
       "style": "IPY_MODEL_71344375a855465a81cda7f217a3a336",
       "top": 3180,
       "west": -109.16015625000001,
       "window_url": "http://127.0.0.1:8888/notebooks/01-Tue/00-data-access-in-python/00-data-access.ipynb",
       "zoom": 5
      }
     },
     "71344375a855465a81cda7f217a3a336": {
      "model_module": "jupyter-leaflet",
      "model_module_version": "^0.17.0",
      "model_name": "LeafletMapStyleModel",
      "state": {
       "_model_module_version": "^0.17.0"
      }
     },
     "72bba39a9aca4bf0976a1b26a917d2fe": {
      "model_module": "@jupyter-widgets/base",
      "model_module_version": "1.2.0",
      "model_name": "LayoutModel",
      "state": {}
     },
     "731c5968cfdd4ec79c75a4d4f0a7977d": {
      "model_module": "jupyter-leaflet",
      "model_module_version": "^0.17.0",
      "model_name": "LeafletFullScreenControlModel",
      "state": {
       "_model_module_version": "^0.17.0",
       "_view_module_version": "^0.17.0",
       "options": [
        "position"
       ]
      }
     },
     "7432a43018544afb8a7818e44fa7df0f": {
      "model_module": "jupyter-leaflet",
      "model_module_version": "^0.17.0",
      "model_name": "LeafletWMSLayerModel",
      "state": {
       "_model_module_version": "^0.17.0",
       "_view_module_version": "^0.17.0",
       "attribution": "Weather data © 2012 IEM Nexrad",
       "crs": {
        "custom": false,
        "name": "EPSG3857"
       },
       "format": "image/png",
       "layers": "nexrad-n0r-wmst",
       "options": [
        "attribution",
        "bounds",
        "detect_retina",
        "format",
        "layers",
        "max_native_zoom",
        "max_zoom",
        "min_native_zoom",
        "min_zoom",
        "no_wrap",
        "styles",
        "tile_size",
        "time",
        "tms",
        "transparent",
        "uppercase"
       ],
       "time": "2020-07-25T13:00:00Z",
       "transparent": true,
       "url": "https://mesonet.agron.iastate.edu/cgi-bin/wms/nexrad/n0r-t.cgi?"
      }
     },
     "75315b5a508f4379b102afbb4a6565c9": {
      "model_module": "jupyter-leaflet",
      "model_module_version": "^0.17.0",
      "model_name": "LeafletAttributionControlModel",
      "state": {
       "_model_module_version": "^0.17.0",
       "_view_module_version": "^0.17.0",
       "options": [
        "position",
        "prefix"
       ],
       "position": "bottomright",
       "prefix": "ipyleaflet"
      }
     },
     "7ae32d24a4f44dd487ae1bd8d7b4d8a0": {
      "model_module": "jupyter-leaflet",
      "model_module_version": "^0.17.0",
      "model_name": "LeafletFullScreenControlModel",
      "state": {
       "_model_module_version": "^0.17.0",
       "_view_module_version": "^0.17.0",
       "options": [
        "position"
       ]
      }
     },
     "7d63e48a79584c3fb7e94a71ac609567": {
      "model_module": "@jupyter-widgets/controls",
      "model_module_version": "1.5.0",
      "model_name": "DescriptionStyleModel",
      "state": {
       "description_width": ""
      }
     },
     "808ab843b85e45c1ac46bfacc495d545": {
      "model_module": "jupyter-leaflet",
      "model_module_version": "^0.17.0",
      "model_name": "LeafletMapStyleModel",
      "state": {
       "_model_module_version": "^0.17.0"
      }
     },
     "83315eff3a084d0490645b02322b9e2f": {
      "model_module": "jupyter-leaflet",
      "model_module_version": "^0.17.0",
      "model_name": "LeafletTileLayerModel",
      "state": {
       "_model_module_version": "^0.17.0",
       "_view_module_version": "^0.17.0",
       "attribution": "&copy; <a href=\"https://www.openstreetmap.org/copyright\">OpenStreetMap</a> contributors",
       "base": true,
       "max_zoom": 19,
       "min_zoom": 1,
       "name": "OpenStreetMap.Mapnik",
       "options": [
        "attribution",
        "bounds",
        "detect_retina",
        "max_native_zoom",
        "max_zoom",
        "min_native_zoom",
        "min_zoom",
        "no_wrap",
        "tile_size",
        "tms"
       ],
       "url": "https://a.tile.openstreetmap.org/{z}/{x}/{y}.png"
      }
     },
     "8b383fe2b8b24398b40c6357d96dff59": {
      "model_module": "jupyter-leaflet",
      "model_module_version": "^0.17.0",
      "model_name": "LeafletZoomControlModel",
      "state": {
       "_model_module_version": "^0.17.0",
       "_view_module_version": "^0.17.0",
       "options": [
        "position",
        "zoom_in_text",
        "zoom_in_title",
        "zoom_out_text",
        "zoom_out_title"
       ]
      }
     },
     "9145ea6c8242464f9878179d45fe05ac": {
      "model_module": "@jupyter-widgets/base",
      "model_module_version": "1.2.0",
      "model_name": "LayoutModel",
      "state": {}
     },
     "9157db1ac62f4527bfe69b0f6416bc31": {
      "model_module": "jupyter-leaflet",
      "model_module_version": "^0.17.0",
      "model_name": "LeafletMapStyleModel",
      "state": {
       "_model_module_version": "^0.17.0"
      }
     },
     "a08c4e687d094250b12ade9c870aeb74": {
      "model_module": "jupyter-leaflet",
      "model_module_version": "^0.17.0",
      "model_name": "LeafletMapStyleModel",
      "state": {
       "_model_module_version": "^0.17.0",
       "cursor": "move"
      }
     },
     "a1a3c3800f484513b915653f349793a6": {
      "model_module": "jupyter-leaflet",
      "model_module_version": "^0.17.0",
      "model_name": "LeafletAttributionControlModel",
      "state": {
       "_model_module_version": "^0.17.0",
       "_view_module_version": "^0.17.0",
       "options": [
        "position",
        "prefix"
       ],
       "position": "bottomright",
       "prefix": "ipyleaflet"
      }
     },
     "a27a83c460694621a45c0a7dc32644e4": {
      "model_module": "jupyter-leaflet",
      "model_module_version": "^0.17.0",
      "model_name": "LeafletFullScreenControlModel",
      "state": {
       "_model_module_version": "^0.17.0",
       "_view_module_version": "^0.17.0",
       "options": [
        "position"
       ]
      }
     },
     "acf6274dcd8c43f49c453fc5f83edd08": {
      "model_module": "jupyter-leaflet",
      "model_module_version": "^0.17.0",
      "model_name": "LeafletZoomControlModel",
      "state": {
       "_model_module_version": "^0.17.0",
       "_view_module_version": "^0.17.0",
       "options": [
        "position",
        "zoom_in_text",
        "zoom_in_title",
        "zoom_out_text",
        "zoom_out_title"
       ]
      }
     },
     "b089fe861d4e4975a1429e02bab4f372": {
      "model_module": "jupyter-leaflet",
      "model_module_version": "^0.17.0",
      "model_name": "LeafletWMSLayerModel",
      "state": {
       "_model_module_version": "^0.17.0",
       "_view_module_version": "^0.17.0",
       "attribution": "Weather data © 2012 IEM Nexrad",
       "crs": {
        "custom": false,
        "name": "EPSG3857"
       },
       "format": "image/png",
       "layers": "nexrad-n0r-wmst",
       "options": [
        "attribution",
        "bounds",
        "detect_retina",
        "format",
        "layers",
        "max_native_zoom",
        "max_zoom",
        "min_native_zoom",
        "min_zoom",
        "no_wrap",
        "styles",
        "tile_size",
        "time",
        "tms",
        "transparent",
        "uppercase"
       ],
       "time": "2020-07-25T13:00:00Z",
       "transparent": true,
       "url": "https://mesonet.agron.iastate.edu/cgi-bin/wms/nexrad/n0r-t.cgi?"
      }
     },
     "b2d9ad5663ac4057a7503c8984743281": {
      "model_module": "@jupyter-widgets/controls",
      "model_module_version": "1.5.0",
      "model_name": "SelectionSliderModel",
      "state": {
       "_options_labels": [
        "13:00",
        "13:30",
        "14:00",
        "14:30",
        "15:00",
        "15:30",
        "16:00",
        "16:30",
        "17:00",
        "17:30",
        "18:00",
        "18:30"
       ],
       "description": "Time:",
       "index": 0,
       "layout": "IPY_MODEL_9145ea6c8242464f9878179d45fe05ac",
       "style": "IPY_MODEL_349f97408048461b9670a35bc0737d9b"
      }
     },
     "b82a3caaae1a4c3c81822cdf797e83aa": {
      "model_module": "jupyter-leaflet",
      "model_module_version": "^0.17.0",
      "model_name": "LeafletAttributionControlModel",
      "state": {
       "_model_module_version": "^0.17.0",
       "_view_module_version": "^0.17.0",
       "options": [
        "position",
        "prefix"
       ],
       "position": "bottomright",
       "prefix": "ipyleaflet"
      }
     },
     "b959095f660a4706b39a374ef9e8a58f": {
      "model_module": "@jupyter-widgets/base",
      "model_module_version": "1.2.0",
      "model_name": "LayoutModel",
      "state": {}
     },
     "c2d176a4fc134fca9a5a357b84179377": {
      "model_module": "@jupyter-widgets/base",
      "model_module_version": "1.2.0",
      "model_name": "LayoutModel",
      "state": {}
     },
     "e5a3f495215e464fa550c4b78430b620": {
      "model_module": "jupyter-leaflet",
      "model_module_version": "^0.17.0",
      "model_name": "LeafletZoomControlModel",
      "state": {
       "_model_module_version": "^0.17.0",
       "_view_module_version": "^0.17.0",
       "options": [
        "position",
        "zoom_in_text",
        "zoom_in_title",
        "zoom_out_text",
        "zoom_out_title"
       ]
      }
     },
     "e5dcfc614c134baab7e2fb4904593c4f": {
      "model_module": "jupyter-leaflet",
      "model_module_version": "^0.17.0",
      "model_name": "LeafletMapStyleModel",
      "state": {
       "_model_module_version": "^0.17.0",
       "cursor": "move"
      }
     },
     "e60bd95cf7d14ef7a0b5f1042f62889a": {
      "model_module": "jupyter-leaflet",
      "model_module_version": "^0.17.0",
      "model_name": "LeafletMapStyleModel",
      "state": {
       "_model_module_version": "^0.17.0"
      }
     },
     "ed339b4b8b6542a68bb8d9d7899e4e7f": {
      "model_module": "jupyter-leaflet",
      "model_module_version": "^0.17.0",
      "model_name": "LeafletZoomControlModel",
      "state": {
       "_model_module_version": "^0.17.0",
       "_view_module_version": "^0.17.0",
       "options": [
        "position",
        "zoom_in_text",
        "zoom_in_title",
        "zoom_out_text",
        "zoom_out_title"
       ]
      }
     },
     "ee6081535cc84bf1ba3eb07db6f848fa": {
      "model_module": "jupyter-leaflet",
      "model_module_version": "^0.17.0",
      "model_name": "LeafletTileLayerModel",
      "state": {
       "_model_module_version": "^0.17.0",
       "_view_module_version": "^0.17.0",
       "attribution": "&copy; <a href=\"https://www.openstreetmap.org/copyright\">OpenStreetMap</a> contributors",
       "base": true,
       "max_zoom": 19,
       "min_zoom": 1,
       "name": "OpenStreetMap.Mapnik",
       "options": [
        "attribution",
        "bounds",
        "detect_retina",
        "max_native_zoom",
        "max_zoom",
        "min_native_zoom",
        "min_zoom",
        "no_wrap",
        "tile_size",
        "tms"
       ],
       "url": "https://a.tile.openstreetmap.org/{z}/{x}/{y}.png"
      }
     },
     "f33e994eb85045ef8508baea9f3adbb6": {
      "model_module": "jupyter-leaflet",
      "model_module_version": "^0.17.0",
      "model_name": "LeafletMapStyleModel",
      "state": {
       "_model_module_version": "^0.17.0"
      }
     },
     "f3b09e5594ee449faed5b2cef3bb3bf0": {
      "model_module": "jupyter-leaflet",
      "model_module_version": "^0.17.0",
      "model_name": "LeafletTileLayerModel",
      "state": {
       "_model_module_version": "^0.17.0",
       "_view_module_version": "^0.17.0",
       "attribution": "&copy; <a href=\"https://www.openstreetmap.org/copyright\">OpenStreetMap</a> contributors &copy; <a href=\"https://carto.com/attributions\">CARTO</a>",
       "base": true,
       "max_zoom": 20,
       "min_zoom": 1,
       "name": "CartoDB.Positron",
       "options": [
        "attribution",
        "bounds",
        "detect_retina",
        "max_native_zoom",
        "max_zoom",
        "min_native_zoom",
        "min_zoom",
        "no_wrap",
        "tile_size",
        "tms"
       ],
       "url": "https://a.basemaps.cartocdn.com/light_all/{z}/{x}/{y}.png"
      }
     },
     "f58ae99b3ed0405697f6f2764f84e42f": {
      "model_module": "jupyter-leaflet",
      "model_module_version": "^0.17.0",
      "model_name": "LeafletRectangleModel",
      "state": {
       "_model_module_version": "^0.17.0",
       "_view_module_version": "^0.17.0",
       "bounds": [
        [
         38,
         -72
        ],
        [
         41,
         -69
        ]
       ],
       "draggable": false,
       "options": [
        "color",
        "dash_array",
        "draggable",
        "fill",
        "fill_color",
        "fill_opacity",
        "line_cap",
        "line_join",
        "no_clip",
        "opacity",
        "pointer_events",
        "smooth_factor",
        "stroke",
        "transform",
        "weight"
       ],
       "rotation": true,
       "scaling": true,
       "transform": false,
       "uniform_scaling": false
      }
     },
     "f7e9ea0b22ff4a10ab099af44b44265e": {
      "model_module": "jupyter-leaflet",
      "model_module_version": "^0.17.0",
      "model_name": "LeafletMapStyleModel",
      "state": {
       "_model_module_version": "^0.17.0"
      }
     }
    },
    "version_major": 2,
    "version_minor": 0
   }
  }
 },
 "nbformat": 4,
 "nbformat_minor": 4
}
