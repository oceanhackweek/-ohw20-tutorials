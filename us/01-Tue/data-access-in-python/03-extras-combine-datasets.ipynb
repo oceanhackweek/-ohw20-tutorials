{
 "cells": [
  {
   "cell_type": "markdown",
   "id": "869f2757",
   "metadata": {
    "slideshow": {
     "slide_type": "slide"
    }
   },
   "source": [
    "# Combine results from multiple ERDDAPs\n",
    "\n",
    "In this notebook we use data from one ERDDAP (OSMC animal-borne sensors) to make subsequent queries to other ERDDAPs supplying Argo and satellite data"
   ]
  },
  {
   "cell_type": "code",
   "execution_count": null,
   "id": "579342b7",
   "metadata": {
    "slideshow": {
     "slide_type": "fragment"
    }
   },
   "outputs": [],
   "source": [
    "import datetime\n",
    "import pandas as pd\n",
    "from erddapy import ERDDAP\n",
    "from tqdm.notebook import tqdm\n",
    "import matplotlib.pyplot as plt\n",
    "import matplotlib.pyplot as plt\n",
    "import cartopy.crs as ccrs\n",
    "import cartopy.feature as cfeature\n",
    "\n",
    "\n",
    "def cartopy_map(lon, lat):\n",
    "    central_lon = (lon.min() + lon.max())/2\n",
    "    central_lat = (lat.min() + lat.max())/2\n",
    "    fig = plt.figure(figsize=[10, 10])\n",
    "    ax = fig.add_subplot(projection=ccrs.AzimuthalEquidistant(central_latitude=central_lat, central_longitude=central_lon))\n",
    "    ax.add_feature(cfeature.LAND)\n",
    "    ax.add_feature(cfeature.OCEAN)\n",
    "    ax.gridlines(color='k', alpha=0.2)\n",
    "    #ax.set_extent([lon.min()-0.5, lon.max()+0.5, lat.min()-0.5, lat.max()+1.5], crs=ccrs.PlateCarree())\n",
    "    return ax"
   ]
  },
  {
   "cell_type": "markdown",
   "id": "be254af0",
   "metadata": {
    "slideshow": {
     "slide_type": "slide"
    }
   },
   "source": [
    "### 1. MEOPS animals"
   ]
  },
  {
   "cell_type": "markdown",
   "id": "4115bdec",
   "metadata": {
    "slideshow": {
     "slide_type": "fragment"
    }
   },
   "source": [
    "We can use ERDDAP's built in search function to find datasets that match a keyword. Let's find some animal borne sensor data"
   ]
  },
  {
   "cell_type": "code",
   "execution_count": null,
   "id": "8f1fbf7b",
   "metadata": {
    "slideshow": {
     "slide_type": "fragment"
    }
   },
   "outputs": [],
   "source": [
    "e_osmc = ERDDAP(\n",
    "    server=\"https://osmc.noaa.gov/erddap\",\n",
    "    protocol=\"tabledap\"\n",
    ")\n",
    "url = e_osmc.get_search_url(search_for=\"animal\", response=\"csv\")\n",
    "\n",
    "animals = pd.read_csv(url)\n",
    "animals[[\"Dataset ID\", \"Title\", \"Summary\"]]"
   ]
  },
  {
   "cell_type": "code",
   "execution_count": null,
   "id": "2b5d4327",
   "metadata": {
    "slideshow": {
     "slide_type": "slide"
    }
   },
   "outputs": [],
   "source": [
    "e_osmc.dataset_id = animals[\"Dataset ID\"][0]\n",
    "e_osmc.variables = ['species']\n",
    "species = e_osmc.to_pandas()\n",
    "species"
   ]
  },
  {
   "cell_type": "code",
   "execution_count": null,
   "id": "203fdc57",
   "metadata": {
    "slideshow": {
     "slide_type": "subslide"
    }
   },
   "outputs": [],
   "source": [
    "e_osmc.constraints = {'species=': 'Southern elephant seal', #'Southern elephant seal', 'Crabeater seal'\n",
    "                 'longitude>=': -90,\n",
    "                 'longitude<=': -60,\n",
    "                 'latitude<=': -60\n",
    "}\n",
    "e_osmc.variables = ['latitude', 'longitude', 'time', 'species']\n",
    "df = e_osmc.to_pandas()\n",
    "df"
   ]
  },
  {
   "cell_type": "code",
   "execution_count": null,
   "id": "0e00b3f6",
   "metadata": {
    "slideshow": {
     "slide_type": "slide"
    }
   },
   "outputs": [],
   "source": [
    "ax = cartopy_map(df['longitude (degrees_east)'], df['latitude (degrees_north)'])\n",
    "ax.scatter(df['longitude (degrees_east)'], df['latitude (degrees_north)'], transform=ccrs.PlateCarree(), color='k', s=1)\n"
   ]
  },
  {
   "cell_type": "markdown",
   "id": "d36c5952",
   "metadata": {
    "slideshow": {
     "slide_type": "slide"
    }
   },
   "source": [
    "### 2. Add argo data\n",
    "\n",
    "We use a bounding box from the lon, lat and time of the seal data to look for co-located Argo floats on the ifremer ERDDAP"
   ]
  },
  {
   "cell_type": "code",
   "execution_count": null,
   "id": "302b0143",
   "metadata": {
    "slideshow": {
     "slide_type": "fragment"
    }
   },
   "outputs": [],
   "source": [
    "e_ifremer = ERDDAP(\n",
    "    server=\"https://erddap.ifremer.fr/erddap\",\n",
    "    protocol=\"tabledap\"\n",
    ")\n",
    "e_ifremer.dataset_id = \"ArgoFloats\""
   ]
  },
  {
   "cell_type": "code",
   "execution_count": null,
   "id": "32f10eac",
   "metadata": {
    "slideshow": {
     "slide_type": "fragment"
    }
   },
   "outputs": [],
   "source": [
    "e_ifremer.constraints = {'time>=': df[\"time (UTC)\"].min(),\n",
    " 'time<=': df[\"time (UTC)\"].max(),\n",
    " 'latitude>=':  df['latitude (degrees_north)'].min(),\n",
    " 'latitude<=':  df['latitude (degrees_north)'].max(),\n",
    " 'longitude>=': df['longitude (degrees_east)'].min(),\n",
    " 'longitude<=': df['longitude (degrees_east)'].max(),}\n",
    "e_ifremer.variables = ['latitude', 'longitude', 'time']"
   ]
  },
  {
   "cell_type": "code",
   "execution_count": null,
   "id": "7e59d397",
   "metadata": {
    "slideshow": {
     "slide_type": "slide"
    }
   },
   "outputs": [],
   "source": [
    "df_argo = e_ifremer.to_pandas()\n",
    "df_argo"
   ]
  },
  {
   "cell_type": "code",
   "execution_count": null,
   "id": "0653575a",
   "metadata": {
    "slideshow": {
     "slide_type": "slide"
    }
   },
   "outputs": [],
   "source": [
    "ax = cartopy_map(df['longitude (degrees_east)'], df['latitude (degrees_north)'])\n",
    "ax.scatter(df['longitude (degrees_east)'], df['latitude (degrees_north)'], transform=ccrs.PlateCarree(), color='k', s=1, label=\"seals\")\n",
    "ax.scatter(df_argo['longitude (degrees_east)'], df_argo['latitude (degrees_north)'], transform=ccrs.PlateCarree(), color=\"r\", s=3, label=\"Argo\")\n",
    "ax.legend()"
   ]
  },
  {
   "cell_type": "markdown",
   "id": "aa7aea93",
   "metadata": {
    "slideshow": {
     "slide_type": "slide"
    }
   },
   "source": [
    "### 3. Gridded SST\n",
    "\n",
    "Finally, we get some matching JPL reanalysis SST data from the coastwatch ERDDAP "
   ]
  },
  {
   "cell_type": "code",
   "execution_count": null,
   "id": "6b7737a6",
   "metadata": {
    "slideshow": {
     "slide_type": "fragment"
    }
   },
   "outputs": [],
   "source": [
    "coastwatch_e = ERDDAP(\n",
    "    server=\"https://coastwatch.pfeg.noaa.gov/erddap\",\n",
    "    protocol=\"griddap\",\n",
    ")\n",
    "coastwatch_e.dataset_id='jplMURSST41'\n",
    "coastwatch_e.griddap_initialize() "
   ]
  },
  {
   "cell_type": "code",
   "execution_count": null,
   "id": "c3dabec2",
   "metadata": {
    "slideshow": {
     "slide_type": "fragment"
    }
   },
   "outputs": [],
   "source": [
    "coastwatch_e.constraints = {'time>=': df[\"time (UTC)\"].min(),\n",
    " 'time<=': df[\"time (UTC)\"].max(),\n",
    " 'time_step': 365,\n",
    " 'latitude>=':  df['latitude (degrees_north)'].min(),\n",
    " 'latitude<=':  df['latitude (degrees_north)'].max(),\n",
    " 'latitude_step': 10,\n",
    " 'longitude>=': df['longitude (degrees_east)'].min(),\n",
    " 'longitude<=': df['longitude (degrees_east)'].max(),\n",
    " 'longitude_step': 10}\n",
    "\n",
    "coastwatch_e.variables=['analysed_sst']"
   ]
  },
  {
   "cell_type": "code",
   "execution_count": null,
   "id": "eb03d530",
   "metadata": {
    "slideshow": {
     "slide_type": "fragment"
    }
   },
   "outputs": [],
   "source": [
    "ds = coastwatch_e.to_xarray()"
   ]
  },
  {
   "cell_type": "code",
   "execution_count": null,
   "id": "72b870da",
   "metadata": {
    "slideshow": {
     "slide_type": "slide"
    }
   },
   "outputs": [],
   "source": [
    "ax = cartopy_map(df['longitude (degrees_east)'], df['latitude (degrees_north)'])\n",
    "ax.contourf(ds.longitude, ds.latitude, ds.analysed_sst[0,:,:], transform=ccrs.PlateCarree(), cmap=\"RdBu\")\n",
    "ax.scatter(df['longitude (degrees_east)'], df['latitude (degrees_north)'], transform=ccrs.PlateCarree(), color='k', s=1, label=\"seals\")\n",
    "ax.scatter(df_argo['longitude (degrees_east)'], df_argo['latitude (degrees_north)'], transform=ccrs.PlateCarree(), color=\"r\", s=5, label=\"Argo\")\n",
    "ax.legend()"
   ]
  },
  {
   "cell_type": "markdown",
   "id": "aa0def20",
   "metadata": {
    "slideshow": {
     "slide_type": "slide"
    }
   },
   "source": [
    "**Bonus**: change the species to 'Crabeater seal' and re-run the notebook"
   ]
  },
  {
   "cell_type": "markdown",
   "id": "4c3a37de",
   "metadata": {
    "slideshow": {
     "slide_type": "fragment"
    }
   },
   "source": [
    "---------------------------\n",
    "### References\n",
    "\n",
    "MEOP data from https://meop.net\n",
    "\n",
    "Argo data from ifremer https://erddap.ifremer.fr/erddap/tabledap/ArgoFloats.html\n",
    "\n",
    "SST reanalysis from coastwatch https://coastwatch.pfeg.noaa.gov/erddap\n",
    "\n",
    "More info on using ERDDAP's inbuilt search https://ioos.github.io/erddapy/01b-tabledap-output.html"
   ]
  }
 ],
 "metadata": {
  "celltoolbar": "Slideshow",
  "kernelspec": {
   "display_name": "Python 3 (ipykernel)",
   "language": "python",
   "name": "python3"
  },
  "language_info": {
   "codemirror_mode": {
    "name": "ipython",
    "version": 3
   },
   "file_extension": ".py",
   "mimetype": "text/x-python",
   "name": "python",
   "nbconvert_exporter": "python",
   "pygments_lexer": "ipython3",
   "version": "3.11.5"
  },
  "livereveal": {
   "auto_select": "none",
   "footer": " ",
   "header": "<script src='/files/static/theme/reveal.js'></script>",
   "start_slideshow_at": "selected"
  }
 },
 "nbformat": 4,
 "nbformat_minor": 5
}
