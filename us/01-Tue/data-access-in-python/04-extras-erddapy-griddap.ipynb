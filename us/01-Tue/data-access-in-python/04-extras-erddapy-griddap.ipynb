{
 "cells": [
  {
   "cell_type": "markdown",
   "metadata": {
    "slideshow": {
     "slide_type": "slide"
    }
   },
   "source": [
    "# Gridded datasets\n",
    "\n",
    "ERDDAP has a seperate mechanism for gridded data, like satellite and model/reanalysis products. This is called griddap. "
   ]
  },
  {
   "cell_type": "code",
   "execution_count": null,
   "metadata": {
    "slideshow": {
     "slide_type": "fragment"
    }
   },
   "outputs": [],
   "source": [
    "from erddapy import ERDDAP\n",
    "import xarray as xr\n",
    "import matplotlib.pyplot as plt\n",
    "import pandas as pd\n",
    "import cartopy.crs as ccrs"
   ]
  },
  {
   "cell_type": "markdown",
   "metadata": {
    "slideshow": {
     "slide_type": "fragment"
    }
   },
   "source": [
    "### Specify server and protocol\n",
    "\n",
    "Here we use a hi-res SST product from JPL via the coastwatch server https://coastwatch.pfeg.noaa.gov/erddap/griddap/jplMURSST41.html"
   ]
  },
  {
   "cell_type": "code",
   "execution_count": null,
   "metadata": {
    "slideshow": {
     "slide_type": "slide"
    }
   },
   "outputs": [],
   "source": [
    "e = ERDDAP(\n",
    "    server=\"https://coastwatch.pfeg.noaa.gov/erddap\",\n",
    "    protocol=\"griddap\",\n",
    ")\n",
    "\n",
    "e.dataset_id='jplMURSST41'\n",
    "\n",
    "e.griddap_initialize() # This sends a background request to find the dataset's variables and extent\n",
    "print(f\"variables in this dataset:\\n\\n{e.variables}\")\n"
   ]
  },
  {
   "cell_type": "code",
   "execution_count": null,
   "metadata": {
    "slideshow": {
     "slide_type": "fragment"
    }
   },
   "outputs": [],
   "source": [
    "e.constraints['latitude_step'] = 10\n",
    "e.constraints['longitude_step'] = 10\n",
    "e.variables = ['analysed_sst']"
   ]
  },
  {
   "cell_type": "code",
   "execution_count": null,
   "metadata": {
    "slideshow": {
     "slide_type": "fragment"
    }
   },
   "outputs": [],
   "source": [
    "ds = e.to_xarray()"
   ]
  },
  {
   "cell_type": "code",
   "execution_count": null,
   "metadata": {
    "slideshow": {
     "slide_type": "slide"
    }
   },
   "outputs": [],
   "source": [
    "ds"
   ]
  },
  {
   "cell_type": "code",
   "execution_count": null,
   "metadata": {
    "slideshow": {
     "slide_type": "slide"
    }
   },
   "outputs": [],
   "source": [
    "ds.analysed_sst.plot(figsize=(12, 8));"
   ]
  },
  {
   "cell_type": "markdown",
   "metadata": {
    "slideshow": {
     "slide_type": "slide"
    }
   },
   "source": [
    "Gridded datasets can be very large. By default, erddapy returns only the most recent time slice of a dataset. This behaviour can be changed by adjusting the constraints, much like with tabledap. The mechanism for subsetting griddap data is a little more complicated, as the data are multi-dimensional.\n",
    "\n",
    "Let's zoom in on the Gulf Stream and take a few time slices. To achieve this, we modify the constraints. We will tighten the lon/lat to a window of interest and request a wider timespan of data, taking every 30th day over the last few years"
   ]
  },
  {
   "cell_type": "code",
   "execution_count": null,
   "metadata": {
    "slideshow": {
     "slide_type": "fragment"
    }
   },
   "outputs": [],
   "source": [
    "e.constraints = {'time>=': '2023-01-01',\n",
    " 'time<=': '2023-05-01',\n",
    " 'time_step': 30,\n",
    " 'latitude>=': 25,\n",
    " 'latitude<=': 45,\n",
    " 'latitude_step': 1,\n",
    " 'longitude>=': -90,\n",
    " 'longitude<=': -30,\n",
    " 'longitude_step': 1}\n",
    "\n",
    "e.variables=['analysed_sst']\n",
    "\n",
    "ds_gulf = e.to_xarray()"
   ]
  },
  {
   "cell_type": "code",
   "execution_count": null,
   "metadata": {
    "slideshow": {
     "slide_type": "slide"
    }
   },
   "outputs": [],
   "source": [
    "xr.plot.contourf(ds_gulf.sel(time=\"'2023-01-01\", method=\"nearest\").analysed_sst, vmin=10, vmax=30, levels=100, figsize=(14, 8));"
   ]
  },
  {
   "cell_type": "code",
   "execution_count": null,
   "metadata": {
    "slideshow": {
     "slide_type": "slide"
    }
   },
   "outputs": [],
   "source": [
    "xr.plot.contourf(ds_gulf.sel(time=\"'2023-06-01\", method=\"nearest\").analysed_sst, vmin=10, vmax=30, levels=100, figsize=(14, 8));"
   ]
  },
  {
   "cell_type": "markdown",
   "metadata": {
    "slideshow": {
     "slide_type": "skip"
    }
   },
   "source": [
    "----------------------------\n",
    "\n",
    "### References\n",
    "\n",
    "coastwatch ERDDAP https://coastwatch.pfeg.noaa.gov/erddap/index.html\n",
    "\n",
    "For more information on how erddapy deals with griddap, see the [erddapy documentation example notebook](https://ioos.github.io/erddapy/01a-griddap-output.html)"
   ]
  },
  {
   "cell_type": "markdown",
   "metadata": {
    "slideshow": {
     "slide_type": "slide"
    }
   },
   "source": [
    "### extra example: low-res topography"
   ]
  },
  {
   "cell_type": "code",
   "execution_count": null,
   "metadata": {
    "slideshow": {
     "slide_type": "fragment"
    }
   },
   "outputs": [],
   "source": [
    "pacioos = ERDDAP(\n",
    "    server=\"https://pae-paha.pacioos.hawaii.edu/erddap\",\n",
    "    protocol=\"griddap\",\n",
    ")\n",
    "pacioos.dataset_id = \"etopo5_lon180\"\n",
    "pacioos.griddap_initialize()\n",
    "\n",
    "pacioos.constraints = {\n",
    " 'latitude>=': 20,\n",
    " 'latitude<=': 60,\n",
    " 'latitude_step': 1,\n",
    " 'longitude>=': -90,\n",
    " 'longitude<=': -30,\n",
    " 'longitude_step': 1}\n",
    "topo = pacioos.to_xarray()\n"
   ]
  },
  {
   "cell_type": "code",
   "execution_count": null,
   "metadata": {
    "slideshow": {
     "slide_type": "slide"
    }
   },
   "outputs": [],
   "source": [
    "fig, ax = plt.subplots(subplot_kw={\"projection\": ccrs.PlateCarree()}, figsize=(10, 6))\n",
    "topo[\"ROSE\"].plot(ax=ax)\n",
    "ax.coastlines();"
   ]
  }
 ],
 "metadata": {
  "celltoolbar": "Slideshow",
  "kernelspec": {
   "display_name": "Python 3 (ipykernel)",
   "language": "python",
   "name": "python3"
  },
  "language_info": {
   "codemirror_mode": {
    "name": "ipython",
    "version": 3
   },
   "file_extension": ".py",
   "mimetype": "text/x-python",
   "name": "python",
   "nbconvert_exporter": "python",
   "pygments_lexer": "ipython3",
   "version": "3.11.5"
  },
  "livereveal": {
   "auto_select": "none",
   "footer": " ",
   "header": "<script src='/files/static/theme/reveal.js'></script>",
   "start_slideshow_at": "selected"
  }
 },
 "nbformat": 4,
 "nbformat_minor": 4
}
