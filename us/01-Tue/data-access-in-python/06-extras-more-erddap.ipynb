{
 "cells": [
  {
   "cell_type": "markdown",
   "id": "289006d1",
   "metadata": {
    "slideshow": {
     "slide_type": "slide"
    }
   },
   "source": [
    "# Miscellaneous ERDDAP functionality"
   ]
  },
  {
   "cell_type": "code",
   "execution_count": null,
   "id": "ec74710f",
   "metadata": {},
   "outputs": [],
   "source": [
    "from erddapy import ERDDAP\n",
    "import matplotlib.pyplot as plt\n",
    "import cartopy.crs as ccrs\n",
    "import types\n",
    "import requests"
   ]
  },
  {
   "cell_type": "markdown",
   "id": "bdff5948",
   "metadata": {},
   "source": [
    "### Get metadata\n",
    "\n",
    "To see detailed metadata from a dataset, we request the **ncCF** format"
   ]
  },
  {
   "cell_type": "code",
   "execution_count": null,
   "id": "bd61a5dc",
   "metadata": {},
   "outputs": [],
   "source": [
    "e = ERDDAP(\n",
    "    server=\"https://erddap.observations.voiceoftheocean.org/erddap\",\n",
    "    protocol=\"tabledap\")"
   ]
  },
  {
   "cell_type": "code",
   "execution_count": null,
   "id": "571bd7b9",
   "metadata": {},
   "outputs": [],
   "source": [
    "dataset_id = \"nrt_SEA068_M27\"\n",
    "e.dataset_id = dataset_id\n",
    "meta = e.to_ncCF()"
   ]
  },
  {
   "cell_type": "code",
   "execution_count": null,
   "id": "75649239",
   "metadata": {},
   "outputs": [],
   "source": [
    "attrs = {}\n",
    "for key_name in dir(meta):\n",
    "    if key_name[0] == \"_\":\n",
    "        continue\n",
    "    val =  meta.__getattribute__(key_name)\n",
    "    if type(val) is types.MethodType:\n",
    "        continue\n",
    "    attrs[key_name] = val"
   ]
  },
  {
   "cell_type": "markdown",
   "id": "2aefd152",
   "metadata": {},
   "source": [
    "### Display vector data\n",
    "\n",
    "Using some HF Radar from coastwatch\n",
    "\n",
    "https://coastwatch.pfeg.noaa.gov/erddap/griddap/ucsdHfrW1.html"
   ]
  },
  {
   "cell_type": "code",
   "execution_count": null,
   "id": "2b8a03d0",
   "metadata": {},
   "outputs": [],
   "source": [
    "coastwatch_e = ERDDAP(\n",
    "    server=\"https://coastwatch.pfeg.noaa.gov/erddap\",\n",
    "    protocol=\"griddap\",\n",
    ")\n",
    "coastwatch_e.dataset_id='ucsdHfrW1'\n",
    "coastwatch_e.griddap_initialize() "
   ]
  },
  {
   "cell_type": "code",
   "execution_count": null,
   "id": "04adfdb7",
   "metadata": {},
   "outputs": [],
   "source": [
    "coastwatch_e.constraints"
   ]
  },
  {
   "cell_type": "markdown",
   "id": "690aabee",
   "metadata": {},
   "source": [
    "Coarsen by 10'000 and make a quick plot"
   ]
  },
  {
   "cell_type": "code",
   "execution_count": null,
   "id": "96707d5a",
   "metadata": {},
   "outputs": [],
   "source": [
    "coastwatch_e['longitude_step']: 100\n",
    "coastwatch_e['latitude_step']: 100\n",
    "ds = coastwatch_e.to_xarray()\n",
    "ds.water_u.plot()"
   ]
  },
  {
   "cell_type": "markdown",
   "id": "f93d95ab",
   "metadata": {},
   "source": [
    "Constrain the data to a smaller region for plotting"
   ]
  },
  {
   "cell_type": "code",
   "execution_count": null,
   "id": "9319540f",
   "metadata": {},
   "outputs": [],
   "source": [
    "coastwatch_e.constraints = {'time>=': '2023-10-17T12:00:00Z',\n",
    " 'time<=': '2023-10-17T12:00:00Z',\n",
    " 'time_step': 1,\n",
    " 'latitude>=':  48.9,\n",
    " 'latitude<=':  49.35,\n",
    " 'latitude_step': 1,                            \n",
    " 'longitude>=': -123.6,\n",
    " 'longitude<=': -123,\n",
    " 'longitude_step': 1}\n",
    "ds = coastwatch_e.to_xarray()\n",
    "ds.water_u.plot()"
   ]
  },
  {
   "cell_type": "markdown",
   "id": "7cb1a6f2",
   "metadata": {},
   "source": [
    "Use [matplotlib quiver](https://matplotlib.org/stable/api/_as_gen/matplotlib.pyplot.quiver.html) to plot surface velocity vectors"
   ]
  },
  {
   "cell_type": "code",
   "execution_count": null,
   "id": "1c11be4d",
   "metadata": {},
   "outputs": [],
   "source": [
    "fig = plt.figure(figsize=[8, 8])\n",
    "\n",
    "ax = fig.add_subplot(projection=ccrs.AzimuthalEquidistant(central_latitude=49, central_longitude=-123))\n",
    "\n",
    "q = ax.quiver(ds.longitude, ds.latitude, ds.water_u.values[0, :,:],\n",
    "          ds.water_v.values[0, :, :], scale=20, transform=ccrs.PlateCarree())\n",
    "q = ax.quiverkey(q, 0.8, 0.9, 1, r'1 m s$^{-1}$', labelpos='E',\n",
    "                    transform=ccrs.PlateCarree())\n",
    "ax.gridlines(color='k', alpha=0.2)\n",
    "\n",
    "ax.set(title=ds.attrs['title']);"
   ]
  },
  {
   "cell_type": "markdown",
   "id": "38fa0889",
   "metadata": {},
   "source": [
    "### Display satellite data\n",
    "\n",
    "Pathfinder SST\n",
    "\n",
    "https://coastwatch.pfeg.noaa.gov/erddap/griddap/erdPH53sstdmday.graph"
   ]
  },
  {
   "cell_type": "code",
   "execution_count": null,
   "id": "0c64c761",
   "metadata": {},
   "outputs": [],
   "source": [
    "satellite_e = ERDDAP(\n",
    "    server=\"https://coastwatch.pfeg.noaa.gov/erddap\",\n",
    "    protocol=\"griddap\",\n",
    ")\n",
    "satellite_e.dataset_id='erdPH53sstdmday'\n",
    "satellite_e.griddap_initialize() "
   ]
  },
  {
   "cell_type": "code",
   "execution_count": null,
   "id": "d3ae0722",
   "metadata": {},
   "outputs": [],
   "source": [
    "print(\"variables: \", satellite_e.variables)\n",
    "satellite_e.constraints"
   ]
  },
  {
   "cell_type": "code",
   "execution_count": null,
   "id": "9b71f843",
   "metadata": {},
   "outputs": [],
   "source": [
    "satellite_e.variables = ['sea_surface_temperature']\n",
    "satellite_e.constraints['latitude_step'] = 100\n",
    "satellite_e.constraints['longitude_step'] = 100\n",
    "sat = satellite_e.to_xarray()\n",
    "sat.sea_surface_temperature.plot(figsize=(10, 6), vmin=-5, vmax=35, cmap=\"RdBu_r\")"
   ]
  },
  {
   "cell_type": "markdown",
   "id": "0f30c9e9",
   "metadata": {},
   "source": [
    "### Get data into matlab/R\n",
    "\n",
    "Using the xarray and pandas objects from the previous notebooks, we can write out our datasets as **.csv** or **.nc** files that can be read by a range of programs\n",
    "\n",
    "**NOTE FOR FUTURE**\n",
    "\n",
    "Funtionality to download arbitrary filetypes has been added to erddapy in PR #330 https://github.com/ioos/erddapy/pull/330\n",
    "\n",
    "This will be available in the next release\n",
    "\n"
   ]
  },
  {
   "cell_type": "code",
   "execution_count": null,
   "id": "eb9891ef",
   "metadata": {},
   "outputs": [],
   "source": [
    "df = e.to_pandas()\n",
    "df.to_csv(f\"{dataset_id}.csv\")"
   ]
  },
  {
   "cell_type": "markdown",
   "id": "05e3fc41",
   "metadata": {},
   "source": [
    "There is no matlab client for ERDDAP that I am aware of, but you can use Python to download matlab data:"
   ]
  },
  {
   "cell_type": "code",
   "execution_count": null,
   "id": "17ebd1d8",
   "metadata": {},
   "outputs": [],
   "source": [
    "# Do all you usual edits here for variables, limits etc.\n",
    "url = e.get_download_url()\n",
    "matlab_url = url.replace(\"html\", \"mat\")\n",
    "matlab_url"
   ]
  },
  {
   "cell_type": "markdown",
   "id": "b7e24e42",
   "metadata": {},
   "source": [
    "We use requests to write out to **.mat**"
   ]
  },
  {
   "cell_type": "code",
   "execution_count": null,
   "id": "302b07ac",
   "metadata": {},
   "outputs": [],
   "source": [
    "response = requests.get(matlab_url)\n",
    "with open(f\"{dataset_id}.mat\", \"wb\") as fout:\n",
    "    fout.write(response.content)"
   ]
  },
  {
   "cell_type": "code",
   "execution_count": null,
   "id": "20a5a0ce",
   "metadata": {},
   "outputs": [],
   "source": [
    "import scipy.io\n",
    "mat = scipy.io.loadmat(f\"{dataset_id}.mat\")"
   ]
  },
  {
   "cell_type": "markdown",
   "id": "95a3b5bc",
   "metadata": {},
   "source": [
    "### Or use an ERDDAP that serves native .mat files 🤷\n",
    "http://erddap.oleander.bios.edu:8080/erddap/files/oleanderXbtMatFiles/"
   ]
  },
  {
   "cell_type": "markdown",
   "id": "a008af43",
   "metadata": {},
   "source": [
    "See notebook 05 for using R. "
   ]
  },
  {
   "cell_type": "markdown",
   "id": "70e8a513",
   "metadata": {},
   "source": [
    "### ERDDAP visitors analysis\n",
    "\n",
    "See notebooks at https://github.com/callumrollo/website-log-parse/"
   ]
  },
  {
   "cell_type": "markdown",
   "id": "f42d1775",
   "metadata": {},
   "source": [
    "### Computation and data handling in a cloud environment\n",
    "\n",
    "The Littlest JupyterHub https://tljh.jupyter.org/en/latest/index.html\n",
    "\n",
    "- Cohost your dataq with your processing\n",
    "- Set up accounts for users "
   ]
  },
  {
   "cell_type": "markdown",
   "id": "5b2caba4",
   "metadata": {},
   "source": [
    "---------------------------\n",
    "### References\n",
    "\n",
    "Quiver example modified from https://matplotlib.org/stable/gallery/images_contours_and_fields/quiver_demo.html\n",
    "\n",
    "Read matlab files into python https://stackoverflow.com/questions/874461/read-mat-files-in-python"
   ]
  }
 ],
 "metadata": {
  "celltoolbar": "Slideshow",
  "kernelspec": {
   "display_name": "Python 3 (ipykernel)",
   "language": "python",
   "name": "python3"
  },
  "language_info": {
   "codemirror_mode": {
    "name": "ipython",
    "version": 3
   },
   "file_extension": ".py",
   "mimetype": "text/x-python",
   "name": "python",
   "nbconvert_exporter": "python",
   "pygments_lexer": "ipython3",
   "version": "3.11.5"
  },
  "livereveal": {
   "auto_select": "none",
   "footer": " ",
   "header": "<script src='/files/static/theme/reveal.js'></script>",
   "start_slideshow_at": "selected"
  }
 },
 "nbformat": 4,
 "nbformat_minor": 5
}
