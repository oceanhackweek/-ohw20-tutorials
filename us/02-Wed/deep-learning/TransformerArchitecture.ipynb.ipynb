{
  "nbformat": 4,
  "nbformat_minor": 0,
  "metadata": {
    "colab": {
      "provenance": []
    },
    "kernelspec": {
      "name": "python3",
      "display_name": "Python 3"
    },
    "language_info": {
      "name": "python"
    }
  },
  "cells": [
    {
      "cell_type": "markdown",
      "source": [
        "# Understanding and Implementing a Transformer Encoder\n",
        "\n",
        "<small>\n",
        "\n",
        "**Introduction:**\n",
        "\n",
        "**Goal of this Notebook:**\n",
        "The goal of this notebook is to provide a comprehensive understanding of the transformer encoder architecture, a key component in many state-of-the-art models in natural language processing (NLP). Participants will learn how to implement each core component of a transformer encoder from scratch, including the embedding layer, positional encoding, multi-head attention, feedforward networks, and residual connections.\n",
        "\n",
        "**Learning Outcomes:**\n",
        "By the end of this notebook, participants will be able to:\n",
        "- Understand the role and function of each component within a transformer encoder.\n",
        "- Implement a multi-layer transformer encoder from scratch using PyTorch.\n",
        "- Apply embeddings and positional encodings to prepare input sequences for transformer models.\n",
        "- Gain practical experience in constructing and training deep learning models that utilize the transformer architecture for sequence processing tasks.\n",
        "\n",
        "This notebook serves as both an educational resource and a practical guide, walking participants through the process of building and understanding transformer encoders, which are foundational in tasks such as machine translation, text classification, and more.\n",
        "\n",
        "</small>\n"
      ],
      "metadata": {
        "id": "2VbrMMpmOX9a"
      }
    },
    {
      "cell_type": "code",
      "execution_count": null,
      "metadata": {
        "id": "Vkg6Zjm-bHRD"
      },
      "outputs": [],
      "source": [
        "import torch\n",
        "import torch.nn as nn\n",
        "import torch.nn.functional as F\n",
        "import math"
      ]
    },
    {
      "cell_type": "markdown",
      "source": [
        "# InputEmbedding Class Definition\n",
        "\n",
        "<small>\n",
        "\n",
        "**Details:**  \n",
        "This section defines the `InputEmbedding` class, a custom embedding layer used in neural networks. The class inherits from `nn.Module`, making it compatible with PyTorch's model framework.\n",
        "\n",
        "**Key Components:**\n",
        "\n",
        "- **Initialization (`__init__` method):**\n",
        "  - **Parameters:**\n",
        "    - `d_model` (int): The dimension of the embedding vector. This is a key hyperparameter that defines the size of each word's vector representation.\n",
        "    - `vocab_size` (int): The size of the vocabulary. This parameter determines the number of unique words that can be embedded.\n",
        "  - **Embedding Layer:**\n",
        "    - The `nn.Embedding` layer is initialized with `vocab_size` and `d_model`, creating a lookup table where each word in the vocabulary is mapped to a `d_model`-dimensional vector.\n",
        "\n",
        "- **Forward Method:**\n",
        "  - **Input:** `x`, a tensor of word indices.\n",
        "  - **Operation:**\n",
        "    - The method retrieves the corresponding embeddings for the input word indices using the embedding layer.\n",
        "    - The output embeddings are scaled by multiplying with the square root of `d_model` (`math.sqrt(self.d_model)`). This scaling is crucial for stabilizing gradients during training, especially in deep networks.\n",
        "  - **Output:** The scaled embeddings, which can be fed into subsequent layers of the model.\n",
        "\n",
        "</small>\n"
      ],
      "metadata": {
        "id": "s421qKjRcl38"
      }
    },
    {
      "cell_type": "code",
      "source": [
        "# InputEmbedding class creates an embedding layer that scales the output embeddings by the square root of the embedding dimension (d_model).\n",
        "# This scaling helps stabilize gradients during training.\n",
        "class InputEmbedding(nn.Module):\n",
        "  def __init__(self, d_model:int, vocab_size:int):\n",
        "    super().__init__()\n",
        "    self.d_model = d_model\n",
        "    self.vocab_size = vocab_size\n",
        "    self.embedding = nn.Embedding(vocab_size, d_model)\n",
        "  def forward(self, x):\n",
        "    return self.embedding(x) * math.sqrt(self.d_model)"
      ],
      "metadata": {
        "id": "us0QDh0qbnlW"
      },
      "execution_count": null,
      "outputs": []
    },
    {
      "cell_type": "markdown",
      "source": [
        "# PositionalEncoding Class Definition\n",
        "\n",
        "<small>\n",
        "\n",
        "**Details:**  \n",
        "This section defines the `PositionalEncoding` class, which generates and applies sinusoidal positional encodings to the input embeddings. These encodings enable the model to capture the order of tokens in a sequence, which is essential for processing sequential data. The class also includes a dropout layer to reduce the risk of overfitting by randomly zeroing out elements in the input tensor during training.\n",
        "\n",
        "**Key Components:**\n",
        "\n",
        "- **Initialization (`__init__` method):**\n",
        "  - **Parameters:**\n",
        "    - `d_model` (int): The dimension of the embedding vector. This defines the size of each positional encoding vector.\n",
        "    - `seq_len` (int): The length of the input sequence, which determines how many positional encodings will be generated.\n",
        "    - `dropout` (float): The dropout rate, which controls the probability of zeroing out elements in the input tensor.\n",
        "  - **Positional Encoding Generation:**\n",
        "    - A matrix of positional encodings is created with shape `(seq_len, d_model)`, where each position is encoded using sinusoidal functions. Specifically:\n",
        "      - The even indices of the encoding vector are assigned values using the sine function.\n",
        "      - The odd indices are assigned values using the cosine function.\n",
        "    - These encodings are scaled according to their position in the sequence and the dimension of the model (`d_model`).\n",
        "  - **Buffer Registration:**\n",
        "    - The generated positional encodings are stored in a buffer, which ensures they are part of the model's state but not updated during training.\n",
        "\n",
        "- **Forward Method:**\n",
        "  - **Input:** `x`, the input embeddings tensor.\n",
        "  - **Operation:**\n",
        "    - The positional encodings are added to the input embeddings to inject the positional information.\n",
        "    - The dropout layer is applied to the resulting tensor, adding a regularization effect during training.\n",
        "  - **Output:** The modified embeddings with positional information, ready for further processing by the model.\n",
        "\n",
        "</small>\n"
      ],
      "metadata": {
        "id": "uuSn766dgmOQ"
      }
    },
    {
      "cell_type": "code",
      "source": [
        "# PositionalEncoding class generates and applies sinusoidal positional encodings to the input embeddings.\n",
        "# This encoding helps the model capture the order of tokens in a sequence, which is crucial for sequential data processing.\n",
        "# The dropout layer is used to prevent overfitting by randomly zeroing some of the elements in the input tensor.\n",
        "class PositionalEncoding(nn.Module):\n",
        "    def __init__(self, d_model: int, seq_len: int, dropout: float) -> None:\n",
        "        super().__init__()\n",
        "        self.dropout = nn.Dropout(dropout)\n",
        "        positional_encoding = torch.zeros(seq_len, d_model)\n",
        "        position = torch.arange(0, seq_len, dtype=torch.float).unsqueeze(1)\n",
        "        div_term = torch.exp(torch.arange(0, d_model, 2).float() * (-math.log(10000.0) / d_model))\n",
        "        positional_encoding[:, 0::2] = torch.sin(position * div_term)\n",
        "        positional_encoding[:, 1::2] = torch.cos(position * div_term)\n",
        "        positional_encoding = positional_encoding.unsqueeze(0)\n",
        "        self.register_buffer('positional_encoding', positional_encoding)\n",
        "\n",
        "    def forward(self, x):\n",
        "        x = x + self.positional_encoding[:, :x.shape[1], :].requires_grad_(False)\n",
        "        return self.dropout(x)"
      ],
      "metadata": {
        "id": "RwhhUcf-dCvG"
      },
      "execution_count": null,
      "outputs": []
    },
    {
      "cell_type": "markdown",
      "source": [
        "# LayerNormalization Class Definition\n",
        "\n",
        "<small>\n",
        "\n",
        "**Details:**  \n",
        "This section defines the `LayerNormalization` class, which applies layer normalization to the input tensor. Layer normalization stabilizes the learning process by normalizing the input across the features of a single layer, ensuring that the outputs have zero mean and unit variance. This technique is particularly beneficial in deep networks, as it helps to prevent internal covariate shift, a common issue where the distribution of layer inputs changes during training.\n",
        "\n",
        "**Key Components:**\n",
        "\n",
        "- **Initialization (`__init__` method):**\n",
        "  - **Parameters:**\n",
        "    - `eps` (float): A small constant added to the denominator for numerical stability. The default value is set to \\(10^{-6}\\).\n",
        "  - **Learnable Parameters:**\n",
        "    - `alpha`: A scaling factor initialized as a learnable parameter with a value of 1. It allows the model to scale the normalized output.\n",
        "    - `bias`: A bias term initialized as a learnable parameter with a value of 0. It allows the model to shift the normalized output.\n",
        "\n",
        "- **Forward Method:**\n",
        "  - **Input:** `x`, the input tensor.\n",
        "  - **Operation:**\n",
        "    - The mean and standard deviation of the input tensor are calculated along the last dimension (`dim=-1`).\n",
        "    - The input tensor is then normalized by subtracting the mean and dividing by the standard deviation plus the epsilon value (`eps`) for stability.\n",
        "    - The normalized tensor is scaled by `alpha` and shifted by `bias` to allow the model to adjust the normalized output.\n",
        "  - **Output:** The layer-normalized tensor, which has a mean of 0 and a variance of 1 across its features.\n",
        "\n",
        "</small>\n"
      ],
      "metadata": {
        "id": "lq8TfXbshB1p"
      }
    },
    {
      "cell_type": "code",
      "source": [
        "# LayerNormalization class applies layer normalization to the input tensor.\n",
        "# Layer normalization stabilizes the learning process by normalizing the input across the features of a single layer,\n",
        "# ensuring that the outputs have zero mean and unit variance. This is particularly useful in deep networks to prevent\n",
        "# internal covariate shift.\n",
        "class LayerNormalization(nn.Module):\n",
        "    def __init__(self, eps: float = 10**-6) -> None:\n",
        "        super().__init__()\n",
        "        self.eps = eps\n",
        "        self.alpha = nn.Parameter(torch.ones(1))\n",
        "        self.bias = nn.Parameter(torch.zeros(1))\n",
        "\n",
        "    def forward(self, x):\n",
        "        mean = x.mean(dim=-1, keepdim=True)\n",
        "        std = x.std(dim=-1, keepdim=True)\n",
        "        return self.alpha * (x - mean) / (std + self.eps) + self.bias"
      ],
      "metadata": {
        "id": "eheFwnYpj5j2"
      },
      "execution_count": null,
      "outputs": []
    },
    {
      "cell_type": "markdown",
      "source": [
        "# FeedForwardBlock Class Definition\n",
        "\n",
        "<small>\n",
        "\n",
        "**Details:**  \n",
        "This section defines the `FeedForwardBlock` class, which implements a two-layer feedforward neural network with ReLU activation and dropout. This block is commonly used in transformer models to further process the output of the attention mechanism, allowing the model to learn more complex patterns.\n",
        "\n",
        "**Key Components:**\n",
        "\n",
        "- **Initialization (`__init__` method):**\n",
        "  - **Parameters:**\n",
        "    - `d_model` (int): The dimension of the input and output features. This parameter controls the size of the input and the final output of the block.\n",
        "    - `d_ff` (int): The dimension of the hidden layer. This is typically larger than `d_model` and allows the network to learn more complex representations by increasing the number of features.\n",
        "    - `dropout` (float): The dropout rate, which adds regularization to prevent overfitting by randomly zeroing out elements of the hidden layer during training.\n",
        "  - **Layers:**\n",
        "    - `linear_1`: The first linear layer, which expands the input from `d_model` to `d_ff` dimensions.\n",
        "    - `dropout`: The dropout layer applied after the ReLU activation to introduce regularization.\n",
        "    - `linear_2`: The second linear layer, which projects the output back from `d_ff` to `d_model` dimensions.\n",
        "\n",
        "- **Forward Method:**\n",
        "  - **Input:** `x`, the input tensor.\n",
        "  - **Operation:**\n",
        "    - The input tensor is first passed through `linear_1`, which expands the dimensionality.\n",
        "    - A ReLU activation function is applied to introduce non-linearity.\n",
        "    - The dropout layer is then applied to the activated output to prevent overfitting.\n",
        "    - Finally, the tensor is passed through `linear_2`, which projects it back to the original dimension (`d_model`).\n",
        "  - **Output:** The processed tensor, which has the same dimensionality as the input but with enhanced feature representations.\n",
        "\n",
        "</small>\n"
      ],
      "metadata": {
        "id": "JNG3zRNghRch"
      }
    },
    {
      "cell_type": "code",
      "source": [
        "# FeedForwardBlock class implements a two-layer feedforward neural network with ReLU activation and dropout.\n",
        "# This block is typically used in transformer models to process the output of the attention mechanism.\n",
        "# The first linear layer expands the dimensionality, the ReLU activation adds non-linearity,\n",
        "# dropout is applied for regularization, and the second linear layer projects the output back to the original dimension.\n",
        "class FeedForwardBlock(nn.Module):\n",
        "    def __init__(self, d_model: int, d_ff: int, dropout: float) -> None:\n",
        "        super().__init__()\n",
        "        self.linear_1 = nn.Linear(d_model, d_ff)\n",
        "        self.dropout = nn.Dropout(dropout)\n",
        "        self.linear_2 = nn.Linear(d_ff, d_model)\n",
        "\n",
        "    def forward(self, x):\n",
        "        return self.linear_2(self.dropout(F.relu(self.linear_1(x))))"
      ],
      "metadata": {
        "id": "tacXAXfblend"
      },
      "execution_count": null,
      "outputs": []
    },
    {
      "cell_type": "markdown",
      "source": [
        "# MultiHeadAttentionBlock Class Definition\n",
        "\n",
        "<small>\n",
        "\n",
        "**Details:**  \n",
        "This section defines the `MultiHeadAttentionBlock` class, which implements the multi-head attention mechanism used in transformer models. Multi-head attention allows the model to focus on different parts of the input sequence simultaneously, capturing various relationships between tokens. The mechanism involves splitting the input into multiple heads, performing scaled dot-product attention on each head, and then concatenating and projecting the results back to the original dimension.\n",
        "\n",
        "**Key Components:**\n",
        "\n",
        "- **Initialization (`__init__` method):**\n",
        "  - **Parameters:**\n",
        "    - `d_model` (int): The dimension of the input features. It must be divisible by the number of heads (`h`).\n",
        "    - `h` (int): The number of attention heads. Each head processes a portion of the input sequence independently.\n",
        "    - `dropout` (float): The dropout rate applied to the attention scores to prevent overfitting.\n",
        "  - **Layer Definitions:**\n",
        "    - `w_q`: Linear layer to generate query vectors from the input.\n",
        "    - `w_k`: Linear layer to generate key vectors from the input.\n",
        "    - `w_v`: Linear layer to generate value vectors from the input.\n",
        "    - `w_o`: Linear layer to project the concatenated output of all heads back to the original dimension.\n",
        "    - `dropout`: Dropout layer applied to the attention scores for regularization.\n",
        "\n",
        "- **Attention Method:**\n",
        "  - **Input:** `query`, `key`, `value` tensors, and an optional `mask`.\n",
        "  - **Operation:**\n",
        "    - Compute attention scores by performing a scaled dot-product of the `query` and `key` tensors.\n",
        "    - If a `mask` is provided, it is used to set attention scores of certain positions to a large negative value, effectively ignoring them.\n",
        "    - Apply softmax to the attention scores to get the attention weights.\n",
        "    - Optionally, apply dropout to the attention weights.\n",
        "    - Multiply the attention weights with the `value` tensor to get the output of the attention mechanism.\n",
        "\n",
        "- **Forward Method:**\n",
        "  - **Input:** `q`, `k`, `v` tensors, and an optional `mask`.\n",
        "  - **Operation:**\n",
        "    - Apply the linear layers (`w_q`, `w_k`, `w_v`) to compute the query, key, and value vectors.\n",
        "    - Reshape and transpose these vectors to create multiple heads.\n",
        "    - Perform the attention mechanism on each head using the `attention` method.\n",
        "    - Concatenate the outputs from all heads and project them back to the original dimensionality using the `w_o` layer.\n",
        "  - **Output:** The final tensor, which represents the result of the multi-head attention mechanism, ready for subsequent layers in the model.\n",
        "\n",
        "</small>\n"
      ],
      "metadata": {
        "id": "kp0qv5WLhjl-"
      }
    },
    {
      "cell_type": "code",
      "source": [
        "# MultiHeadAttentionBlock class implements the multi-head attention mechanism used in transformer models.\n",
        "# Multi-head attention allows the model to focus on different parts of the input sequence simultaneously,\n",
        "# capturing various relationships between tokens. The input is split into multiple heads, each head performs\n",
        "# scaled dot-product attention, and the results are concatenated and projected back to the original dimension.\n",
        "class MultiHeadAttentionBlock(nn.Module):\n",
        "    def __init__(self, d_model: int, h: int, dropout: float) -> None:\n",
        "        super().__init__()\n",
        "        self.d_model = d_model\n",
        "        self.h = h\n",
        "        assert d_model % h == 0, \"d_model is not divisible by h\"\n",
        "        self.d_k = d_model // h\n",
        "        self.w_q = nn.Linear(d_model, d_model)\n",
        "        self.w_k = nn.Linear(d_model, d_model)\n",
        "        self.w_v = nn.Linear(d_model, d_model)\n",
        "        self.w_o = nn.Linear(d_model, d_model)\n",
        "        self.dropout = nn.Dropout(dropout)\n",
        "\n",
        "    def attention(self, query, key, value, mask, dropout):\n",
        "        d_k = query.shape[-1]\n",
        "        attention_scores = torch.matmul(query, key.transpose(-2, -1)) / math.sqrt(d_k)\n",
        "        if mask is not None:\n",
        "            attention_scores = attention_scores.masked_fill(mask == 0, -1e9)\n",
        "        attention_scores = attention_scores.softmax(dim=-1)\n",
        "        if dropout is not None:\n",
        "            attention_scores = dropout(attention_scores)\n",
        "        return torch.matmul(attention_scores, value)\n",
        "\n",
        "    def forward(self, q, k, v, mask):\n",
        "        query = self.w_q(q)\n",
        "        key = self.w_k(k)\n",
        "        value = self.w_v(v)\n",
        "        query = query.view(query.shape[0], query.shape[1], self.h, self.d_k).transpose(1, 2)\n",
        "        key = key.view(key.shape[0], key.shape[1], self.h, self.d_k).transpose(1, 2)\n",
        "        value = value.view(value.shape[0], value.shape[1], self.h, self.d_k).transpose(1, 2)\n",
        "        x = self.attention(query, key, value, mask, self.dropout)\n",
        "        x = x.transpose(1, 2).contiguous().reshape(x.shape[0], -1, self.h * self.d_k)\n",
        "        return self.w_o(x)"
      ],
      "metadata": {
        "id": "YmyWXrn-mUkQ"
      },
      "execution_count": null,
      "outputs": []
    },
    {
      "cell_type": "markdown",
      "source": [
        "# Residual Class Definition\n",
        "\n",
        "<small>\n",
        "\n",
        "**Details:**  \n",
        "This section defines the `Residual` class, which implements a residual connection combined with layer normalization and dropout. Residual connections are crucial in training deep networks as they help mitigate the vanishing gradient problem, allowing gradients to flow more effectively through the network. In this class, the input is first normalized, passed through a sublayer, then dropout is applied, and finally, the processed output is added back to the original input.\n",
        "\n",
        "**Key Components:**\n",
        "\n",
        "- **Initialization (`__init__` method):**\n",
        "  - **Parameters:**\n",
        "    - `dropout` (float): The dropout rate used to regularize the output of the sublayer by randomly zeroing out elements, reducing the risk of overfitting.\n",
        "  - **Layer Definitions:**\n",
        "    - `dropout`: A dropout layer applied after the sublayer to introduce regularization.\n",
        "    - `norm`: A layer normalization module, which normalizes the input to have zero mean and unit variance, improving training stability.\n",
        "\n",
        "- **Forward Method:**\n",
        "  - **Input:**\n",
        "    - `x`: The input tensor that passes through the residual connection.\n",
        "    - `sublayer`: A function or layer that processes the normalized input tensor.\n",
        "  - **Operation:**\n",
        "    - First, the input tensor `x` is normalized using the `LayerNormalization` instance.\n",
        "    - The normalized tensor is then passed through the provided `sublayer`.\n",
        "    - Dropout is applied to the output of the sublayer for regularization.\n",
        "    - Finally, the resulting tensor is added back to the original input `x` to complete the residual connection.\n",
        "  - **Output:** The tensor that combines the original input with the output of the sublayer, enhanced by the residual connection for better gradient flow and model performance.\n",
        "\n",
        "</small>\n"
      ],
      "metadata": {
        "id": "E6p2oQlxhsbX"
      }
    },
    {
      "cell_type": "code",
      "source": [
        "# Residual class implements a residual connection with layer normalization and dropout.\n",
        "# Residual connections help in training deep networks by mitigating the vanishing gradient problem,\n",
        "# allowing gradients to flow through the network more effectively.\n",
        "# The input is first normalized, passed through a sublayer, followed by dropout,\n",
        "# and finally added back to the original input.\n",
        "class Residual(nn.Module):\n",
        "    def __init__(self, dropout: float) -> None:\n",
        "        super().__init__()\n",
        "        self.dropout = nn.Dropout(dropout)\n",
        "        self.norm = LayerNormalization()\n",
        "\n",
        "    def forward(self, x, sublayer):\n",
        "        return x + self.dropout(sublayer(self.norm(x)))"
      ],
      "metadata": {
        "id": "hCh2QZ0c6Uke"
      },
      "execution_count": null,
      "outputs": []
    },
    {
      "cell_type": "markdown",
      "source": [
        "# EncoderBlock Class Definition\n",
        "\n",
        "<small>\n",
        "\n",
        "**Details:**  \n",
        "This section defines the `EncoderBlock` class, which represents a single block in the transformer encoder. Each encoder block consists of a multi-head self-attention mechanism, followed by a feedforward network. Residual connections and layer normalization are applied after each sublayer to ensure stable gradients and effective learning. This structure enables the encoder to capture complex relationships within the input sequence, which is crucial for tasks such as machine translation, text summarization, and other sequence processing tasks.\n",
        "\n",
        "**Key Components:**\n",
        "\n",
        "- **Initialization (`__init__` method):**\n",
        "  - **Parameters:**\n",
        "    - `self_attention_block`: An instance of `MultiHeadAttentionBlock`, responsible for capturing dependencies between tokens in the input sequence by computing attention scores across different heads.\n",
        "    - `feed_forward_block`: An instance of `FeedForwardBlock`, a two-layer feedforward neural network that further processes the output of the self-attention mechanism.\n",
        "    - `dropout` (float): The dropout rate applied in the residual connections to prevent overfitting.\n",
        "  - **Residual Connections:**\n",
        "    - Two residual connections are defined using the `Residual` class:\n",
        "      - The first residual connection wraps around the multi-head self-attention block.\n",
        "      - The second residual connection wraps around the feedforward block.\n",
        "\n",
        "- **Forward Method:**\n",
        "  - **Input:**\n",
        "    - `x`: The input tensor representing the sequence to be processed.\n",
        "    - `src_mask`: A source mask tensor that prevents attention to certain positions in the sequence, typically used to handle padding tokens.\n",
        "  - **Operation:**\n",
        "    - The input tensor `x` is first passed through the self-attention block, with a residual connection wrapping around it.\n",
        "    - The output is then passed through the feedforward block, again wrapped with a residual connection.\n",
        "    - The residual connections ensure that the input is added back to the output of each sublayer, helping in stabilizing the gradient flow and improving the overall training process.\n",
        "  - **Output:** The processed tensor, enriched with information captured by the self-attention and feedforward blocks, ready for further processing by subsequent encoder blocks or layers.\n",
        "\n",
        "</small>\n"
      ],
      "metadata": {
        "id": "PPaKNVWih14J"
      }
    },
    {
      "cell_type": "code",
      "source": [
        "# EncoderBlock class represents a single block in the transformer encoder.\n",
        "# It consists of a multi-head self-attention mechanism, followed by a feedforward network,\n",
        "# with residual connections and layer normalization applied after each sublayer.\n",
        "# This structure allows the encoder to capture complex relationships in the input sequence while maintaining stable gradients.\n",
        "class EncoderBlock(nn.Module):\n",
        "    def __init__(self, self_attention_block: MultiHeadAttentionBlock, feed_forward_block: FeedForwardBlock, dropout: float) -> None:\n",
        "        super().__init__()\n",
        "        self.self_attention_block = self_attention_block\n",
        "        self.feed_forward_block = feed_forward_block\n",
        "        self.residual_connections = nn.ModuleList([Residual(dropout) for _ in range(2)])\n",
        "\n",
        "    def forward(self, x, src_mask):\n",
        "        x = self.residual_connections[0](x, lambda x: self.self_attention_block(x, x, x, src_mask))\n",
        "        x = self.residual_connections[1](x, self.feed_forward_block)\n",
        "        return x"
      ],
      "metadata": {
        "id": "RD1J2-5pALNy"
      },
      "execution_count": null,
      "outputs": []
    },
    {
      "cell_type": "markdown",
      "source": [
        "# Encoder Class Definition\n",
        "\n",
        "<small>\n",
        "\n",
        "**Details:**  \n",
        "This section defines the `Encoder` class, which stacks multiple encoder blocks to form the complete transformer encoder. The input sequence is passed sequentially through each encoder block, allowing the model to incrementally build a rich and complex representation of the input data. After processing through all the encoder blocks, layer normalization is applied to the final output to ensure stability and improve the overall training process.\n",
        "\n",
        "**Key Components:**\n",
        "\n",
        "- **Initialization (`__init__` method):**\n",
        "  - **Parameters:**\n",
        "    - `layers`: An `nn.ModuleList` containing multiple instances of `EncoderBlock`. Each block is responsible for processing the input sequence, capturing dependencies, and transforming the representation at each layer.\n",
        "  - **Layer Normalization:**\n",
        "    - The final output of the stacked encoder blocks is normalized using an instance of `LayerNormalization`, which ensures that the output has stable mean and variance, improving training stability.\n",
        "\n",
        "- **Forward Method:**\n",
        "  - **Input:**\n",
        "    - `x`: The input tensor representing the sequence to be processed.\n",
        "    - `mask`: A mask tensor that is passed to each encoder block to control which parts of the input sequence should be attended to, typically used to handle padding tokens.\n",
        "  - **Operation:**\n",
        "    - The input tensor `x` is passed through each encoder block in the `layers` list in sequence. Each block processes the input, capturing increasingly complex relationships within the sequence.\n",
        "    - After passing through all the encoder blocks, the final output tensor is normalized using the `LayerNormalization` instance.\n",
        "  - **Output:** The normalized tensor that has been processed through all the encoder blocks, enriched with the hierarchical representation built by the transformer encoder.\n",
        "\n",
        "</small>\n"
      ],
      "metadata": {
        "id": "L03RwuOdi6BP"
      }
    },
    {
      "cell_type": "code",
      "source": [
        "# Encoder class stacks multiple encoder blocks to form the transformer encoder.\n",
        "# The input passes through each encoder block in sequence, allowing the model to build a rich representation of the input.\n",
        "# Finally, layer normalization is applied to the output of the last encoder block for stability.\n",
        "class Encoder(nn.Module):\n",
        "    def __init__(self, layers: nn.ModuleList) -> None:\n",
        "        super().__init__()\n",
        "        self.layers = layers\n",
        "        self.norm = LayerNormalization()\n",
        "\n",
        "    def forward(self, x, mask):\n",
        "        for layer in self.layers:\n",
        "            x = layer(x, mask)\n",
        "        return self.norm(x)"
      ],
      "metadata": {
        "id": "Hzt5OhRUALth"
      },
      "execution_count": null,
      "outputs": []
    },
    {
      "cell_type": "markdown",
      "source": [
        "# Example Usage of Transformer Encoder\n",
        "\n",
        "<small>\n",
        "\n",
        "**Details:**\n",
        "This example demonstrates how to use the previously defined classes, including `InputEmbedding`, `PositionalEncoding`, `EncoderBlock`, `MultiHeadAttentionBlock`, `FeedForwardBlock`, and `Encoder`. The code walks through the process of embedding a sequence of tokens, applying positional encoding, and processing the sequence through a stack of encoder blocks.\n",
        "\n",
        "**Key Steps:**\n",
        "\n",
        "- **Vocabulary and Input Sequence:**\n",
        "  - A small vocabulary is created with five words: `\"this\"`, `\"is\"`, `\"an\"`, `\"example\"`, and `\"sentence\"`.\n",
        "  - A sample sentence is converted into a list of indices corresponding to the vocabulary.\n",
        "  - The input tensor is then formed by converting these indices into a tensor and adding a batch dimension.\n",
        "\n",
        "- **Embedding and Positional Encoding:**\n",
        "  - The `InputEmbedding` class is used to convert the input indices into embedding vectors of dimension `d_model = 512`.\n",
        "  - The `PositionalEncoding` class is then applied to add positional information to these embeddings, which helps the transformer model understand the order of tokens in the sequence.\n",
        "\n",
        "- **Encoder Layers:**\n",
        "  - Six encoder blocks are created, each consisting of a `MultiHeadAttentionBlock` and a `FeedForwardBlock`.\n",
        "  - The `MultiHeadAttentionBlock` uses 8 attention heads, and the `FeedForwardBlock` expands the dimensionality to `d_ff = 2048` before projecting it back to `d_model = 512`.\n",
        "\n",
        "- **Forward Pass:**\n",
        "  - The embedded and positionally encoded tensor is passed through the stack of encoder blocks.\n",
        "  - The output tensor, which contains the enriched representations of the input sequence, is then printed along with its shape.\n",
        "\n",
        "**Expected Output:**\n",
        "- The final output tensor will have the same shape as the input tensor but with the processed embeddings after passing through all the encoder blocks.\n",
        "- The shape of the output will be `(1, seq_len, d_model)` which is `(1, 5, 512)` in this case.\n",
        "\n",
        "</small>\n"
      ],
      "metadata": {
        "id": "HlLiinvPjF6T"
      }
    },
    {
      "cell_type": "code",
      "source": [
        "vocab_size = 5  # vocabulary size example\n",
        "d_model = 512\n",
        "seq_len = 5  # sequence length example\n",
        "\n",
        "# test example\n",
        "vocab = {word: idx for idx, word in enumerate([\"this\", \"is\", \"an\", \"example\", \"sentence\"])}\n",
        "sentence = [\"this\", \"is\", \"an\", \"example\", \"sentence\"]\n",
        "\n",
        "# convert the sentence into indices\n",
        "input_indices = [vocab[word] for word in sentence]\n",
        "\n",
        "input_tensor = torch.LongTensor(input_indices).unsqueeze(0)  # (1, seq_len)\n",
        "\n",
        "# create embedding and positional encoding\n",
        "embedding = InputEmbedding(d_model=d_model, vocab_size=vocab_size)\n",
        "pos_encoding = PositionalEncoding(d_model=d_model, seq_len=seq_len, dropout=0.1)\n",
        "\n",
        "# create encoder layers\n",
        "num_layers = 6\n",
        "dropout = 0.1\n",
        "attention_heads = 8\n",
        "d_ff = 2048\n",
        "\n",
        "layers = nn.ModuleList([\n",
        "    EncoderBlock(\n",
        "        MultiHeadAttentionBlock(d_model=d_model, h=attention_heads, dropout=dropout),\n",
        "        FeedForwardBlock(d_model=d_model, d_ff=d_ff, dropout=dropout),\n",
        "        dropout=dropout\n",
        "    ) for _ in range(num_layers)\n",
        "])\n",
        "\n",
        "encoder = Encoder(layers=layers)\n",
        "\n",
        "# feed forward\n",
        "x = embedding(input_tensor)\n",
        "x = pos_encoding(x)\n",
        "output = encoder(x, None)\n",
        "\n",
        "print(output)\n",
        "print(output.shape)"
      ],
      "metadata": {
        "colab": {
          "base_uri": "https://localhost:8080/"
        },
        "id": "5OtHx6tgNMWR",
        "outputId": "a6201993-30ac-43cd-f6ac-071d09d3045e"
      },
      "execution_count": null,
      "outputs": [
        {
          "output_type": "stream",
          "name": "stdout",
          "text": [
            "tensor([[[-4.7664e-04,  3.5593e-01, -1.0730e+00,  ..., -1.5652e+00,\n",
            "          -9.0137e-01,  7.7596e-01],\n",
            "         [-4.8475e-01,  7.7966e-01, -1.0795e-02,  ..., -2.6110e-01,\n",
            "           5.0710e-01,  4.4744e-01],\n",
            "         [-1.2681e-01,  1.8640e-01, -1.5022e+00,  ...,  2.3316e+00,\n",
            "          -1.5395e-01,  7.0094e-01],\n",
            "         [-6.8704e-01,  1.4763e-02,  1.5459e-01,  ..., -9.5795e-01,\n",
            "           5.3138e-01, -4.1171e-01],\n",
            "         [-2.0745e+00,  3.8764e-01,  1.1710e-02,  ...,  7.0964e-01,\n",
            "           2.4866e-01, -4.2348e-01]]], grad_fn=<AddBackward0>)\n",
            "torch.Size([1, 5, 512])\n"
          ]
        }
      ]
    }
  ]
}